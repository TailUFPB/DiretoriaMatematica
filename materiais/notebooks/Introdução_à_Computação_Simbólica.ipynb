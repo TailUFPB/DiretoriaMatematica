{
  "nbformat": 4,
  "nbformat_minor": 0,
  "metadata": {
    "colab": {
      "name": "Introdução à Computação Simbólica.ipynb",
      "provenance": [],
      "collapsed_sections": []
    },
    "kernelspec": {
      "name": "python3",
      "display_name": "Python 3"
    }
  },
  "cells": [
    {
      "cell_type": "markdown",
      "metadata": {
        "id": "88xVBbXkpTLA"
      },
      "source": [
        "# **INTRODUÇÃO À COMPUTAÇÃO SIMBÓLICA**"
      ]
    },
    {
      "cell_type": "markdown",
      "metadata": {
        "id": "eByvUBsCcXYv"
      },
      "source": [
        "_Este Notebook acessará conteúdos abordados no **e-book** [TAIL — Introdução à Matemática para Inteligência Artificial](https://www.overleaf.com/read/gtspgphgvstz), seja livre para revisitá-lo quando necessário._"
      ]
    },
    {
      "cell_type": "markdown",
      "metadata": {
        "id": "Wpi_UivqXjY5"
      },
      "source": [
        "A partir dos conhecimentos já adiquiridos ao longo das nossas aulas, você já é capaz de fazer várias operaçôes matemáticas e resolver diversos problemas usando algumas bibliotecas do [Python](https://www.python.org). Agora iremos dar um passo adiante e introduzir um assunto que, talvez, você não tenha visto antes, a Computação Simbólica, em especial, aplicada às funções.\n",
        "\n",
        "<center><img alt=\"Gráfico_3d\" width = \"30%\" src=\"https://upload.wikimedia.org/wikipedia/commons/thumb/c/c8/Sympy_plot_screenshot.png/637px-Sympy_plot_screenshot.png\"></center>\n",
        "\n",
        "Contudo, antes de realmente abordarmos o que é Computação Simbólica, devemos compreender o porquê devemos utilizá-la e quais as suas vantagens a fim de facilitar a resolução de diversos problemas matemáticos.\n",
        "\n",
        "Por exemplo, imagine o seguinte:\n",
        "\n",
        "Em uma determinada situação, surge a tarefa de você fazer o cálculo do volume de um tanque cujo formato é o de um cilindro. Para isso, como nós sabemos, esse cálculo pode ser feito multiplicando a área da base do cilindro pela sua altura, ou seja, $ V = \\frac{1}{4} \\pi D^2 h $. Contudo, o valor de $ \\pi $ que obtemos é um número finito, o que não chega a ser um problema, pois realizamos os cálculos do mundo real com bastante facilidade e que nos fornece excelentes resultados. Mas, podemos ir além...\n",
        "\n",
        "Geralmente, os cálculos com o número $ \\pi $ são feitos adotando dupla precisão, ou seja, 15 casas decimais, como podemos verificar abaixo."
      ]
    },
    {
      "cell_type": "code",
      "metadata": {
        "id": "sGxodJwcfB2M",
        "outputId": "b65b1bda-4a62-4571-ea5a-79f1518d2001",
        "colab": {
          "base_uri": "https://localhost:8080/"
        }
      },
      "source": [
        "import math as mt\n",
        "\n",
        "print(mt.pi)"
      ],
      "execution_count": null,
      "outputs": [
        {
          "output_type": "stream",
          "text": [
            "3.141592653589793\n"
          ],
          "name": "stdout"
        }
      ]
    },
    {
      "cell_type": "markdown",
      "metadata": {
        "id": "CSjafo8YfOTV"
      },
      "source": [
        "> De acordo com um artigo publicado pela NASA [[1]](https://www.jpl.nasa.gov/edu/news/2016/3/16/how-many-decimals-of-pi-do-we-really-need/), para o cálculo do raio do universo observável, cerca de **46 bilhões de anos-luz**, seria suficiente uma aproximação de $ \\pi $ com apenas **40 casas decimais** para garantir precisão do tamanho do **diâmetro de um átomo de hidrogênio**.\n",
        "\n",
        "\n",
        "Porém, mesmo essa precisão sendo realmente impressionante, pense que você poderia realizar o cálculo do volume do tanque de maneira \"exata\". Sabemos, no entanto, que matematicamente isso é impossível, pois o $ \\pi $ é um número irracional. Mas, é nesse ponto que a Computação Simbólica entra. Ela nos permite realizar esse tipo de cálculo com precisão infinita, admitindo o $ \\pi $ apenas como um símbolo, ampliando totalmente as capacidades matemáticas, nos permitindo trabalhar com modelos abstratos e também com diversas aplicações reais."
      ]
    },
    {
      "cell_type": "markdown",
      "metadata": {
        "id": "OzqCc6sSswpK"
      },
      "source": [
        "### **Mas, afinal, o que é Computação Simbólica?**\n",
        "\n",
        "A Computação Simbólica (CS), também conhecida como computação algébrica, é uma subárea da matemática e da ciência da computação relativamente moderna, tendo surgido na segunda metade do século XX. Essa área procura resolver problemas usando objetos simbólicos representáveis em um computador. \n",
        "\n",
        "Existem diversas possibilidades de aplicação da CS, resolvendo problemas que surgem em pesquisa básica, na indústria e no desenvolvimento de softwares para computação avançada, denominados de *sistemas de computação algébrica* (SCAs).\n",
        "\n",
        "Os sistemas de CA permitem, dentre diversos exemplos, a implementação de regras de álgebra, trigonometria e cálculo, derivaração, integração, obter a solução de equações diferenciais, simplificar expressões, representar graficamente campos escalares, vetoriais e curvas paramétricas [[2]](https://www.scielo.br/scielo.php?pid=S0102-47442002000200017&script=sci_arttext&tlng=pt). Em casos mais avançados, a CS é útil para solucionar equações da macroeconomia, manipular números para a ﬁnalidade de criptograﬁa e criar modelos probabilísticos [[3]](https://kevinkotze.github.io/mm-tut1-symbolic/),[[4]](https://www.ukma.edu.ua/~yubod/teach/compalgebra/%5BJoel_S._Cohen%5D_Computer_algebra_and_symbolic_comp(BookFi.org).pdf).\n",
        "\n",
        "Existem diversos SCAs, dentre os que estão disponíveis com licença comercial, os mais populares são o [Maple](https://www.maplesoft.com/), [Mathematica](https://www.wolfram.com/mathematica/) e [MATLAB](https://www.mathworks.com/products/matlab.html), que apesar de possuírem versões para estudantes, os custos das liceças ainda são altos. Contudo, também existe uma certa varieadade desses softwares com licenças gratuitas, como o [Maxima](http://maxima.sourceforge.net/), [Scilab](https://www.scilab.org/), [Octave](https://www.gnu.org/software/octave/index), [Sympy](https://www.sympy.org/pt/index.html) e [Scipy](https://www.scipy.org/), estes dois últimos são bibliotecas do Python, que inclusive, serão abordados com mais ênfase ao longo deste *notebook*."
      ]
    },
    {
      "cell_type": "markdown",
      "metadata": {
        "id": "RUBuhXqtZE6x"
      },
      "source": [
        "## **BIBLIOTECA SYMPY**"
      ]
    },
    {
      "cell_type": "markdown",
      "metadata": {
        "id": "goQlIV86pZUx"
      },
      "source": [
        "<center><img alt = \"Logo_Sympy\" width=\"15%\" src=\"https://upload.wikimedia.org/wikipedia/commons/thumb/5/54/Sympy_logo.svg/1200px-Sympy_logo.svg.png\"></center>"
      ]
    },
    {
      "cell_type": "markdown",
      "metadata": {
        "id": "ESFRB_RspeQZ"
      },
      "source": [
        "O SymPy é um sistema de álgebra computacional completo (CAS) escrito na linguagem de programação Python. Atualmente, na sua versão 1.6.2, o projeto do SymPy começou a ser desenvolvido em 2005 pelos pesquisadores Ondřej Čertík e Aaron Meurer e, desde então, cresceu exponencialmente, contando com mais de 500 colaboradores nos dias atuais [[5]](https://peerj.com/articles/cs-103/?utm_source=TrendMD&utm_campaign=PeerJ_TrendMD_1&utm_medium=TrendMD). \n",
        "\n",
        "Ao contrário de muitos CASs, o SymPy não inventa sua própria linguagem de programação. O próprio Python é usado tanto para a implementação interna quanto para a interação do usuário final.\n",
        "\n",
        "De acordo com os próprios desenvolvedores da biblioteca, as principais vantagens do SymPy são [[6]](https://www.sympy.org/pt/index.html):\n",
        "\n",
        "* É um software livre e de código aberto, licenciado sob a licença BSD;\n",
        "\n",
        "* É escrito inteiramente em Python;\n",
        "\n",
        "* Além de ser usada como uma ferramenta interativa, o SymPy pode ser incorporado em outros aplicativos e estendido com funções personalizadas.\n",
        "\n",
        "* Leve: SymPy depende apenas de mpmath , uma biblioteca Python pura para aritmética de ponto flutuante arbitrário, tornando-o fácil de usar.\n",
        "\n",
        "Você pode conferir todos os detalhes da biblioteca SymPy acessando o [site oficial](https://www.sympy.org/pt/index.html) e/ou  através de artigos dos próprios autores da ferramenta clicando [neste link](https://peerj.com/articles/cs-103/?utm_source=TrendMDutm_campaign=PeerJ_TrendMD_1&utm_medium=TrendMD)."
      ]
    },
    {
      "cell_type": "markdown",
      "metadata": {
        "id": "ROr3assB6Lo0"
      },
      "source": [
        "### **Primeiros Passos com o SymPy**"
      ]
    },
    {
      "cell_type": "markdown",
      "metadata": {
        "id": "_K-cElPv6RIB"
      },
      "source": [
        "O primeiro passo que devemos fazer, antes de começar a escrever códigos, é fazer a instalação ou importação da biblioteca SymPy. No nosso caso, como estamos trabalhando no ambiente do Google Colab, podemos importar o SymPy digitando e executando o seguinte comando:"
      ]
    },
    {
      "cell_type": "code",
      "metadata": {
        "id": "-jiqvAvoXkEB"
      },
      "source": [
        "import sympy as sy\n",
        "\n",
        "from sympy import *"
      ],
      "execution_count": null,
      "outputs": []
    },
    {
      "cell_type": "markdown",
      "metadata": {
        "id": "LMPXkbmp7-GL"
      },
      "source": [
        "Na primeira linha de código, estamos importando o SymPy e atrabuindo o \"apelido\" '**sy**' para facilitar na hora de chamar essa biblioteca posteriormente.\n",
        "\n",
        "E ao digitar o **asterisco (*)**, estamos informando que queremos importar todos os módulos dessa biblioteca."
      ]
    },
    {
      "cell_type": "markdown",
      "metadata": {
        "id": "RDPEk3YX8zOw"
      },
      "source": [
        "**Inicialmente, podemos verificar a diferença entre objetvos numéricos e objetos simbólicos no Python.**"
      ]
    },
    {
      "cell_type": "code",
      "metadata": {
        "id": "5jTVB-0y78Nx"
      },
      "source": [
        "# MELHORAR A IMPRESSÃO DOS SÍMBOLOS DA BIBLIOTECA SYMPY\n",
        "\n",
        "sy.init_printing(pretty_print=True)"
      ],
      "execution_count": null,
      "outputs": []
    },
    {
      "cell_type": "code",
      "metadata": {
        "id": "j_-MNWls9Mup",
        "outputId": "85f4179a-e614-43d5-d0bc-e07fb21fa06f",
        "colab": {
          "base_uri": "https://localhost:8080/",
          "height": 37
        }
      },
      "source": [
        "# OBJETO NUMÉRICO\n",
        "\n",
        "mt.pi"
      ],
      "execution_count": null,
      "outputs": [
        {
          "output_type": "execute_result",
          "data": {
            "image/png": "[encoded data removed]",
            "text/latex": "$$3.141592653589793$$",
            "text/plain": [
              "3.141592653589793"
            ]
          },
          "metadata": {
            "tags": []
          },
          "execution_count": 4
        }
      ]
    },
    {
      "cell_type": "code",
      "metadata": {
        "id": "WoyMFTny9SHj",
        "outputId": "036a302a-c542-48bf-9343-00ad65e5fe30",
        "colab": {
          "base_uri": "https://localhost:8080/",
          "height": 38
        }
      },
      "source": [
        "# OBJETO SIMBÓLICO\n",
        "\n",
        "sy.pi"
      ],
      "execution_count": null,
      "outputs": [
        {
          "output_type": "execute_result",
          "data": {
            "image/png": "[encoded data removed]",
            "text/latex": "$$\\pi$$",
            "text/plain": [
              "π"
            ]
          },
          "metadata": {
            "tags": []
          },
          "execution_count": 5
        }
      ]
    },
    {
      "cell_type": "markdown",
      "metadata": {
        "id": "6_VgFP6U9qT7"
      },
      "source": [
        "Já podemos perceber claramente a diferença entre a maneira de como cada biblioteca trabalha a tipologia das variáveis.\n",
        "\n",
        "Agora, podemos verificar o tipo desses objetivos."
      ]
    },
    {
      "cell_type": "code",
      "metadata": {
        "id": "JI6rebwc9etb",
        "outputId": "c7b365b7-56e9-436e-a33a-50ce49595599",
        "colab": {
          "base_uri": "https://localhost:8080/"
        }
      },
      "source": [
        "type(mt.pi)"
      ],
      "execution_count": null,
      "outputs": [
        {
          "output_type": "execute_result",
          "data": {
            "text/plain": [
              "float"
            ]
          },
          "metadata": {
            "tags": []
          },
          "execution_count": 6
        }
      ]
    },
    {
      "cell_type": "code",
      "metadata": {
        "id": "Ga2xPzjx-FP8",
        "outputId": "4eac733d-52fd-4b99-b0f0-8f6349a0df8e",
        "colab": {
          "base_uri": "https://localhost:8080/"
        }
      },
      "source": [
        "type(sy.pi)"
      ],
      "execution_count": null,
      "outputs": [
        {
          "output_type": "execute_result",
          "data": {
            "text/plain": [
              "sympy.core.numbers.Pi"
            ]
          },
          "metadata": {
            "tags": []
          },
          "execution_count": 7
        }
      ]
    },
    {
      "cell_type": "markdown",
      "metadata": {
        "id": "gQFEb9eC-OLx"
      },
      "source": [
        "Enquanto no primeiro exemplo foi verificado que o objetivo é do tipo *float* (numérico), o segundo é do tipo 'sympy.core' (objeto simbólico do SymPy)."
      ]
    },
    {
      "cell_type": "code",
      "metadata": {
        "id": "Tv1LYoeu_NDx",
        "outputId": "cfa20775-7b99-4925-be54-3aa11fd1c12c",
        "colab": {
          "base_uri": "https://localhost:8080/",
          "height": 37
        }
      },
      "source": [
        "mt.sqrt(5)"
      ],
      "execution_count": null,
      "outputs": [
        {
          "output_type": "execute_result",
          "data": {
            "image/png": "[encoded data removed]",
            "text/latex": "$$2.23606797749979$$",
            "text/plain": [
              "2.23606797749979"
            ]
          },
          "metadata": {
            "tags": []
          },
          "execution_count": 8
        }
      ]
    },
    {
      "cell_type": "code",
      "metadata": {
        "id": "NBTOV605_bKV",
        "outputId": "65688356-f11d-4d6a-daf0-7129c5c779d3",
        "colab": {
          "base_uri": "https://localhost:8080/",
          "height": 37
        }
      },
      "source": [
        "sy.sqrt(5)"
      ],
      "execution_count": null,
      "outputs": [
        {
          "output_type": "execute_result",
          "data": {
            "image/png": "[encoded data removed]",
            "text/latex": "$$\\sqrt{5}$$",
            "text/plain": [
              "√5"
            ]
          },
          "metadata": {
            "tags": []
          },
          "execution_count": 9
        }
      ]
    },
    {
      "cell_type": "markdown",
      "metadata": {
        "id": "1lHexvnB-67F"
      },
      "source": [
        "**Mas então, como podemos escrever equações usando o Sympy?**\n",
        "\n",
        "Isso é bem simples de ser feito. Podemos atribuir símbolos às variáveis de uma equação usando a função 'symbols'.\n",
        "\n",
        "Por exemplo, queremos escrever uma função de apenas uma variável, no caso, 'x'."
      ]
    },
    {
      "cell_type": "code",
      "metadata": {
        "id": "ANPDy_dX-HKg",
        "outputId": "269aedd5-0489-4ad5-bbca-e854690675f6",
        "colab": {
          "base_uri": "https://localhost:8080/",
          "height": 38
        }
      },
      "source": [
        "x = sy.symbols('x')\n",
        "\n",
        "x"
      ],
      "execution_count": null,
      "outputs": [
        {
          "output_type": "execute_result",
          "data": {
            "image/png": "[encoded data removed]",
            "text/latex": "$$x$$",
            "text/plain": [
              "x"
            ]
          },
          "metadata": {
            "tags": []
          },
          "execution_count": 10
        }
      ]
    },
    {
      "cell_type": "markdown",
      "metadata": {
        "id": "R5v-Z7BHA2zG"
      },
      "source": [
        "Perceba que a variável foi impressa como no formato semelhante ao do LaTeX. Essa é justamente a forma visual que SymPy utiliza. Ao verificar o tipo dessa variável, iremos perceber que está no formato de símbolo. "
      ]
    },
    {
      "cell_type": "code",
      "metadata": {
        "id": "dxeUqYb5Ax2U",
        "outputId": "693c985a-afa3-45d4-c0c0-23fccc663b6c",
        "colab": {
          "base_uri": "https://localhost:8080/"
        }
      },
      "source": [
        "type(x)"
      ],
      "execution_count": null,
      "outputs": [
        {
          "output_type": "execute_result",
          "data": {
            "text/plain": [
              "sympy.core.symbol.Symbol"
            ]
          },
          "metadata": {
            "tags": []
          },
          "execution_count": 11
        }
      ]
    },
    {
      "cell_type": "code",
      "metadata": {
        "id": "dFLtokkBBLa1",
        "outputId": "55603dfa-9144-4398-a01c-c7a950aa72e6",
        "colab": {
          "base_uri": "https://localhost:8080/",
          "height": 38
        }
      },
      "source": [
        "x**2 + 2*x - 3"
      ],
      "execution_count": null,
      "outputs": [
        {
          "output_type": "execute_result",
          "data": {
            "image/png": "[encoded data removed]",
            "text/latex": "$$x^{2} + 2 x - 3$$",
            "text/plain": [
              " 2          \n",
              "x  + 2⋅x - 3"
            ]
          },
          "metadata": {
            "tags": []
          },
          "execution_count": 12
        }
      ]
    },
    {
      "cell_type": "markdown",
      "metadata": {
        "id": "LlRoUidQByFT"
      },
      "source": [
        "**E se quisermos declarar mais de uma variável?**\n",
        "\n",
        "Bom, neste caso, existem duas formas. Pode ser feito da maneira da situação anterior, ou seja, uma por uma. Ou também podemos declarar todos ao mesmo tempo."
      ]
    },
    {
      "cell_type": "code",
      "metadata": {
        "id": "drKuLTIMBhzU"
      },
      "source": [
        "# DO JEITO ANTERIOR\n",
        "\n",
        "y = sy.symbols('y')\n",
        "z = sy.symbols('z')\n",
        "\n",
        "# TODAS AO MESMO TEMPO\n",
        "\n",
        "x, y, z = sy.symbols('x y z')\n",
        "\n",
        "### ESSAS DUAS MANEIRAS SÃO EQUIVALENTES ###"
      ],
      "execution_count": null,
      "outputs": []
    },
    {
      "cell_type": "code",
      "metadata": {
        "id": "5vMWdoOuCPpQ",
        "outputId": "9b435cc2-e590-48d5-f086-f75681c777dc",
        "colab": {
          "base_uri": "https://localhost:8080/",
          "height": 38
        }
      },
      "source": [
        "x + 2*y/3 - 5*sqrt(z)"
      ],
      "execution_count": null,
      "outputs": [
        {
          "output_type": "execute_result",
          "data": {
            "image/png": "[encoded data removed]",
            "text/latex": "$$x + \\frac{2 y}{3} - 5 \\sqrt{z}$$",
            "text/plain": [
              "    2⋅y       \n",
              "x + ─── - 5⋅√z\n",
              "     3        "
            ]
          },
          "metadata": {
            "tags": []
          },
          "execution_count": 14
        }
      ]
    },
    {
      "cell_type": "markdown",
      "metadata": {
        "id": "l0N2iA3QFqCF"
      },
      "source": [
        "**Alfabeto em formato de Símbolos** \n",
        "\n",
        "Como mencionado anteriormente, o SymPy possui vários submódulos em sua biblioteca, uma delas o 'sympy.abc', um módulo que permite importar e trabalhar símbolos de letras gregas ou latinas, por exemplo. Vejamos a seguir."
      ]
    },
    {
      "cell_type": "code",
      "metadata": {
        "id": "cIpcOGrAGcwu"
      },
      "source": [
        "from sympy.abc import alpha, beta, gamma, theta, a, b, c"
      ],
      "execution_count": null,
      "outputs": []
    },
    {
      "cell_type": "code",
      "metadata": {
        "id": "OcxDxUDKC8Ff",
        "outputId": "562eac9e-7693-43ef-99d6-15032297f18e",
        "colab": {
          "base_uri": "https://localhost:8080/",
          "height": 38
        }
      },
      "source": [
        "alpha + beta + gamma + theta"
      ],
      "execution_count": null,
      "outputs": [
        {
          "output_type": "execute_result",
          "data": {
            "image/png": "[encoded data removed]",
            "text/latex": "$$\\alpha + \\beta + \\gamma + \\theta$$",
            "text/plain": [
              "α + β + γ + θ"
            ]
          },
          "metadata": {
            "tags": []
          },
          "execution_count": 16
        }
      ]
    },
    {
      "cell_type": "code",
      "metadata": {
        "id": "0_jjUOvyG2Ti",
        "outputId": "19ecd419-1e8f-406f-dca9-f9f6278f84ac",
        "colab": {
          "base_uri": "https://localhost:8080/",
          "height": 38
        }
      },
      "source": [
        "(2*a - b + c)*(alpha/2 - 3*beta)"
      ],
      "execution_count": null,
      "outputs": [
        {
          "output_type": "execute_result",
          "data": {
            "image/png": "[encoded data removed]",
            "text/latex": "$$\\left(\\frac{\\alpha}{2} - 3 \\beta\\right) \\left(2 a - b + c\\right)$$",
            "text/plain": [
              "⎛α      ⎞              \n",
              "⎜─ - 3⋅β⎟⋅(2⋅a - b + c)\n",
              "⎝2      ⎠              "
            ]
          },
          "metadata": {
            "tags": []
          },
          "execution_count": 17
        }
      ]
    },
    {
      "cell_type": "markdown",
      "metadata": {
        "id": "vgYYgqyyH5fh"
      },
      "source": [
        "Devemos nos atentar ao fato de que o SymPy já utiliza algumas letras com símbolos especiais, como por exemplo o '*$I$*' que é o número complexo *$i$*."
      ]
    },
    {
      "cell_type": "code",
      "metadata": {
        "id": "6awq77vlHHyI",
        "outputId": "7a539128-3708-49d5-d155-ecf08212ef88",
        "colab": {
          "base_uri": "https://localhost:8080/",
          "height": 38
        }
      },
      "source": [
        "sy.I"
      ],
      "execution_count": null,
      "outputs": [
        {
          "output_type": "execute_result",
          "data": {
            "image/png": "[encoded data removed]",
            "text/latex": "$$i$$",
            "text/plain": [
              "ⅈ"
            ]
          },
          "metadata": {
            "tags": []
          },
          "execution_count": 18
        }
      ]
    },
    {
      "cell_type": "code",
      "metadata": {
        "id": "DxiJ6P-bIXvS",
        "outputId": "d5ede022-a02f-4ba9-8a86-c4fb22630b4d",
        "colab": {
          "base_uri": "https://localhost:8080/"
        }
      },
      "source": [
        "type(I)"
      ],
      "execution_count": null,
      "outputs": [
        {
          "output_type": "execute_result",
          "data": {
            "text/plain": [
              "sympy.core.numbers.ImaginaryUnit"
            ]
          },
          "metadata": {
            "tags": []
          },
          "execution_count": 19
        }
      ]
    },
    {
      "cell_type": "markdown",
      "metadata": {
        "id": "ksTHKeLe4brY"
      },
      "source": [
        "Trabalhar com valores infinitos é tarefa simples com SymPy."
      ]
    },
    {
      "cell_type": "code",
      "metadata": {
        "id": "8SHDQtHx4Zol",
        "outputId": "a1f7049e-6f88-466b-c4b9-382df1363328",
        "colab": {
          "base_uri": "https://localhost:8080/",
          "height": 37
        }
      },
      "source": [
        "# infinito negativo\n",
        "-sy.oo"
      ],
      "execution_count": null,
      "outputs": [
        {
          "output_type": "execute_result",
          "data": {
            "image/png": "[encoded data removed]",
            "text/latex": "$$-\\infty$$",
            "text/plain": [
              "-∞"
            ]
          },
          "metadata": {
            "tags": []
          },
          "execution_count": 20
        }
      ]
    },
    {
      "cell_type": "markdown",
      "metadata": {
        "id": "SPxiQiQcFs42"
      },
      "source": [
        "**Simplificando Expressões**"
      ]
    },
    {
      "cell_type": "code",
      "metadata": {
        "id": "VDEL4K3eFyoD",
        "outputId": "0cc5eeaa-c6fd-4d95-dfa5-0b2336c060e7",
        "colab": {
          "base_uri": "https://localhost:8080/",
          "height": 39
        }
      },
      "source": [
        "simplify(x*x*x*x * sqrt(x))"
      ],
      "execution_count": null,
      "outputs": [
        {
          "output_type": "execute_result",
          "data": {
            "image/png": "[encoded data removed]",
            "text/latex": "$$x^{\\frac{9}{2}}$$",
            "text/plain": [
              " 9/2\n",
              "x   "
            ]
          },
          "metadata": {
            "tags": []
          },
          "execution_count": 21
        }
      ]
    },
    {
      "cell_type": "markdown",
      "metadata": {
        "id": "sz5WOsU-JL2k"
      },
      "source": [
        "**Substituição de Variáveis**"
      ]
    },
    {
      "cell_type": "markdown",
      "metadata": {
        "id": "3YL8wG0_cvkR"
      },
      "source": [
        "Com uma expressão simbólica definida, podemos fazer uso do método `subs()` para avaliar o comportamento desta expressão sob os valores desejados."
      ]
    },
    {
      "cell_type": "code",
      "metadata": {
        "id": "U5xGNNkjIZjl",
        "outputId": "de93564d-0a75-4c3b-9a65-c2e47923966f",
        "colab": {
          "base_uri": "https://localhost:8080/",
          "height": 37
        }
      },
      "source": [
        "expr = (x**2 - x)/2\n",
        "expr.subs(x, 10)"
      ],
      "execution_count": null,
      "outputs": [
        {
          "output_type": "execute_result",
          "data": {
            "image/png": "[encoded data removed]",
            "text/latex": "$$45$$",
            "text/plain": [
              "45"
            ]
          },
          "metadata": {
            "tags": []
          },
          "execution_count": 22
        }
      ]
    },
    {
      "cell_type": "markdown",
      "metadata": {
        "id": "sVVT0UMhYEd0"
      },
      "source": [
        " **Avaliando Expressões** \n",
        "\n",
        " Adentraremos agora em uma série de características da biblioteca, de modo que sem o conhecimento destas seríamos incapazes de prosseguir para aplicações mais práticas do SymPy na resolução de problemas do mundo real. \n",
        "\n",
        " Para definir uma expressão podemos atribuir a esta qualquer nome, dentro do bom senso científico.\n",
        "\n"
      ]
    },
    {
      "cell_type": "code",
      "metadata": {
        "id": "yHUia49yYr6Q",
        "outputId": "0f8f3383-14fc-4216-9e73-4bb53b1bc189",
        "colab": {
          "base_uri": "https://localhost:8080/",
          "height": 37
        }
      },
      "source": [
        "expr = sqrt(x*x*x - x**2 + x)\n",
        "expr"
      ],
      "execution_count": null,
      "outputs": [
        {
          "output_type": "execute_result",
          "data": {
            "image/png": "[encoded data removed]",
            "text/latex": "$$\\sqrt{x^{3} - x^{2} + x}$$",
            "text/plain": [
              "   _____________\n",
              "  ╱  3    2     \n",
              "╲╱  x  - x  + x "
            ]
          },
          "metadata": {
            "tags": []
          },
          "execution_count": 23
        }
      ]
    },
    {
      "cell_type": "markdown",
      "metadata": {
        "id": "mMdJx_dSaz-o"
      },
      "source": [
        "É importante ressaltar que, uma vez que alteramos o valor simbólico de um objeto SymPy, as expressões já definidas com a versão anterior deste objeto mantém o seu valor e estrutura originais, não mais dependendo do objeto utilizado; vamos observar um exemplo:"
      ]
    },
    {
      "cell_type": "code",
      "metadata": {
        "id": "U3HlrhuSbgN1",
        "outputId": "aec77310-7e91-4b43-f18b-fbf15b1a0d4d",
        "colab": {
          "base_uri": "https://localhost:8080/",
          "height": 38
        }
      },
      "source": [
        "z = sy.symbols('100')\n",
        "e = z*(x**2) + z\n",
        " \n",
        "# experimente modificar z para um objeto SymPy ou para um valor definido no \n",
        "# ecossistema Python puro.\n",
        "z = 0\n",
        " \n",
        "e"
      ],
      "execution_count": null,
      "outputs": [
        {
          "output_type": "execute_result",
          "data": {
            "image/png": "[encoded data removed]",
            "text/latex": "$$100 x^{2} + 100$$",
            "text/plain": [
              "     2      \n",
              "100⋅x  + 100"
            ]
          },
          "metadata": {
            "tags": []
          },
          "execution_count": 24
        }
      ]
    },
    {
      "cell_type": "markdown",
      "metadata": {
        "id": "Kc96E8sKe8uD"
      },
      "source": [
        "Para avaliar igualdades em SymPy devemos estar atentos ao uso de `=` e `==`. O primeiro faz parte do sistema Python nativo, não sendo extendido nem alterado pela biblioteca SymPy. Seu significado permanece sendo o de atribuição de valores a espaços de memória em Python. O segundo comporta-se como um avaliador estrutural. **Atenção!** Para este separador, temos que `(a+b)**2` é diferente de `a**2 + 2*a*b + b**2`, e de fato, estruturalmente falando são expressões distintas. Cientes disto, podemos prosseguir para a avaliação de igualdades de uma maneira geral."
      ]
    },
    {
      "cell_type": "markdown",
      "metadata": {
        "id": "2wDrZskXgCvS"
      },
      "source": [
        "É definido que `a` e `b` são iguais se e somente se `a - b = 0`; nos ateremos a este fato para avaliar igualdades com SymPy, como segue:"
      ]
    },
    {
      "cell_type": "code",
      "metadata": {
        "id": "tvnq-SDwdKCD",
        "outputId": "765f8d31-c6f0-4b11-b8f5-58ff781dbdd2",
        "colab": {
          "base_uri": "https://localhost:8080/",
          "height": 37
        }
      },
      "source": [
        "ex1 = x**2 + 2*x\n",
        "ex2 = x*(2 + x)\n",
        " \n",
        "# ex1 e ex2 só são iguais se a linha seguinte nos retorna 0\n",
        "simplify(ex1 - ex2)"
      ],
      "execution_count": null,
      "outputs": [
        {
          "output_type": "execute_result",
          "data": {
            "image/png": "[encoded data removed]",
            "text/latex": "$$0$$",
            "text/plain": [
              "0"
            ]
          },
          "metadata": {
            "tags": []
          },
          "execution_count": 25
        }
      ]
    },
    {
      "cell_type": "markdown",
      "metadata": {
        "id": "GQpid7Z9g7xE"
      },
      "source": [
        "**Funções e Determinação de Raízes**\n",
        "\n",
        "Finalmente podemos aplicar os conceitos até então apresentados para lidar com funções em SymPy. \n",
        "Apresentamos, a seguir, a função modular:"
      ]
    },
    {
      "cell_type": "code",
      "metadata": {
        "id": "ERhGoI6Gy4xr",
        "outputId": "4fc21a94-5f1f-45e9-f727-72d37bd58d02",
        "colab": {
          "base_uri": "https://localhost:8080/",
          "height": 38
        }
      },
      "source": [
        "x = Symbol('x', real=True)\n",
        "expr = 1 - x**2\n",
        "sy.Abs(expr)"
      ],
      "execution_count": null,
      "outputs": [
        {
          "output_type": "execute_result",
          "data": {
            "image/png": "[encoded data removed]",
            "text/latex": "$$\\left|{x^{2} - 1}\\right|$$",
            "text/plain": [
              "│ 2    │\n",
              "│x  - 1│"
            ]
          },
          "metadata": {
            "tags": []
          },
          "execution_count": 26
        }
      ]
    },
    {
      "cell_type": "markdown",
      "metadata": {
        "id": "liXz_tOx-wL4"
      },
      "source": [
        "Além disso, podemos pedir para o SymPy resolver equações algébricas, assim como essa acima."
      ]
    },
    {
      "cell_type": "code",
      "metadata": {
        "id": "dZyK63gu-4aF",
        "outputId": "9d52ec8e-9367-4f3d-d1c5-71f387c68e79",
        "colab": {
          "base_uri": "https://localhost:8080/",
          "height": 37
        }
      },
      "source": [
        "solve(expr, x)"
      ],
      "execution_count": null,
      "outputs": [
        {
          "output_type": "execute_result",
          "data": {
            "image/png": "[encoded data removed]",
            "text/latex": "$$\\left [ -1, \\quad 1\\right ]$$",
            "text/plain": [
              "[-1, 1]"
            ]
          },
          "metadata": {
            "tags": []
          },
          "execution_count": 27
        }
      ]
    },
    {
      "cell_type": "markdown",
      "metadata": {
        "id": "tX72ByLo1Li6"
      },
      "source": [
        "Essa sintaxe significa `resolva(equação, em relação a variável)`. Ou seja, encontre as raízes da equação.\n",
        "\n",
        "Quando se trata de métodos numéricos, ou seja, aproximados, esse tipo de cálculo é feito usando o **Método de Newton-Raphson** para estimar as raízes."
      ]
    },
    {
      "cell_type": "markdown",
      "metadata": {
        "id": "x73lFL4iziXh"
      },
      "source": [
        "Contudo, perceba que a função do exemplo acima foi escrita considerando que ela está igualada a zero. Isso pode não parecer tão óbvio à primeira vista.\n",
        "\n",
        "Mas, e se quisermos que a igualdade seja diferente, como fazemos?\n",
        "\n",
        "Bom, existe duas formas. Vejamos a seguinte equação: $x^2 + 2x + 1 = 5 $\n",
        "\n",
        "Para resolvermos de acordo com o exemplos acima, podemos escrever a equação já passando o **5** para o lado esquedo, igualando a zero: $x^2 + 2x + 1 -5 = 0 $. Daí, pedimos para o Sympy resolver."
      ]
    },
    {
      "cell_type": "code",
      "metadata": {
        "id": "VAFQr05Q06EW",
        "outputId": "f71e98bc-5827-4ce7-f677-6e697f82e630",
        "colab": {
          "base_uri": "https://localhost:8080/",
          "height": 38
        }
      },
      "source": [
        "eq = x**2 + 2*x + 1 - 5\n",
        "eq"
      ],
      "execution_count": null,
      "outputs": [
        {
          "output_type": "execute_result",
          "data": {
            "image/png": "[encoded data removed]",
            "text/latex": "$$x^{2} + 2 x - 4$$",
            "text/plain": [
              " 2          \n",
              "x  + 2⋅x - 4"
            ]
          },
          "metadata": {
            "tags": []
          },
          "execution_count": 65
        }
      ]
    },
    {
      "cell_type": "code",
      "metadata": {
        "id": "0_nn3fg21Cao",
        "outputId": "cde41a33-4c5d-4298-c51e-15f109ceae44",
        "colab": {
          "base_uri": "https://localhost:8080/",
          "height": 38
        }
      },
      "source": [
        "solve(eq,x)"
      ],
      "execution_count": null,
      "outputs": [
        {
          "output_type": "execute_result",
          "data": {
            "image/png": "[encoded data removed]",
            "text/latex": "$$\\left [ -1 + \\sqrt{5}, \\quad - \\sqrt{5} - 1\\right ]$$",
            "text/plain": [
              "[-1 + √5, -√5 - 1]"
            ]
          },
          "metadata": {
            "tags": []
          },
          "execution_count": 66
        }
      ]
    },
    {
      "cell_type": "markdown",
      "metadata": {
        "id": "MQNeItWT2A-y"
      },
      "source": [
        "A segunda forma de fazer é usando o método `Eq` do SymPy. Nele, podemos declarar a função e a sua respectiva igualdade. Vejamos."
      ]
    },
    {
      "cell_type": "code",
      "metadata": {
        "id": "Bi7ZSSZP2NTM",
        "outputId": "2d6a1f3b-b147-4f82-8a01-f90ef05a57a8",
        "colab": {
          "base_uri": "https://localhost:8080/",
          "height": 38
        }
      },
      "source": [
        "eq2 = sy.Eq(x**2 + 2*x + 1, 5)\n",
        "eq2"
      ],
      "execution_count": null,
      "outputs": [
        {
          "output_type": "execute_result",
          "data": {
            "image/png": "[encoded data removed]",
            "text/latex": "$$x^{2} + 2 x + 1 = 5$$",
            "text/plain": [
              " 2              \n",
              "x  + 2⋅x + 1 = 5"
            ]
          },
          "metadata": {
            "tags": []
          },
          "execution_count": 67
        }
      ]
    },
    {
      "cell_type": "code",
      "metadata": {
        "id": "L8q0Ds0Y2UsP",
        "outputId": "5feeb9d1-61e6-42d8-b565-08fc79416e18",
        "colab": {
          "base_uri": "https://localhost:8080/",
          "height": 38
        }
      },
      "source": [
        "# Resolvendo a Equação\n",
        "\n",
        "solve(eq2,x)"
      ],
      "execution_count": null,
      "outputs": [
        {
          "output_type": "execute_result",
          "data": {
            "image/png": "[encoded data removed]",
            "text/latex": "$$\\left [ -1 + \\sqrt{5}, \\quad - \\sqrt{5} - 1\\right ]$$",
            "text/plain": [
              "[-1 + √5, -√5 - 1]"
            ]
          },
          "metadata": {
            "tags": []
          },
          "execution_count": 68
        }
      ]
    },
    {
      "cell_type": "markdown",
      "metadata": {
        "id": "gj0VBFct2a2B"
      },
      "source": [
        "Agora você como declarar funções de uma variável das duas maneiras e achar suas raízes.\n",
        "\n",
        "E se quisermos fazer o mesmo processo para funções de várias variáveis e resolver um sistema?"
      ]
    },
    {
      "cell_type": "code",
      "metadata": {
        "id": "JSJnIuDg9TJ4",
        "outputId": "29824d56-64aa-400d-c220-9ea181eadb0e",
        "colab": {
          "base_uri": "https://localhost:8080/"
        }
      },
      "source": [
        "# Declarando as Funções\n",
        "\n",
        "f1 = sy.Eq(3*x + 2*y, -3)\n",
        "f2 = sy.Eq(x - 3*y, 2)\n",
        "\n",
        "pprint(f1)\n",
        "\n",
        "pprint(f2)"
      ],
      "execution_count": null,
      "outputs": [
        {
          "output_type": "stream",
          "text": [
            "3⋅x + 2⋅y = -3\n",
            "x - 3⋅y = 2\n"
          ],
          "name": "stdout"
        }
      ]
    },
    {
      "cell_type": "code",
      "metadata": {
        "id": "UCZZ9lwX-Bxn",
        "outputId": "246e5227-09da-4327-ec9b-2aef19c328d2",
        "colab": {
          "base_uri": "https://localhost:8080/",
          "height": 38
        }
      },
      "source": [
        "# Resolvendo o Sistema de Equações Algébricas\n",
        "\n",
        "sy.solve([f1, f2], [x,y])"
      ],
      "execution_count": null,
      "outputs": [
        {
          "output_type": "execute_result",
          "data": {
            "image/png": "[encoded data removed]",
            "text/latex": "$$\\left \\{ x : - \\frac{5}{11}, \\quad y : - \\frac{9}{11}\\right \\}$$",
            "text/plain": [
              "{x: -5/11, y: -9/11}"
            ]
          },
          "metadata": {
            "tags": []
          },
          "execution_count": 91
        }
      ]
    },
    {
      "cell_type": "markdown",
      "metadata": {
        "id": "Ao6YrmtLzjWS"
      },
      "source": [
        "**Funções Trigonométricas**"
      ]
    },
    {
      "cell_type": "code",
      "metadata": {
        "id": "DaySeJGKztV9",
        "outputId": "9a501148-e4e3-4378-ad46-471876e6e2e5",
        "colab": {
          "base_uri": "https://localhost:8080/",
          "height": 37
        }
      },
      "source": [
        "# seno\n",
        "expr = sy.sin(sqrt(x))\n",
        "expr"
      ],
      "execution_count": null,
      "outputs": [
        {
          "output_type": "execute_result",
          "data": {
            "image/png": "[encoded data removed]",
            "text/latex": "$$\\sin{\\left (\\sqrt{x} \\right )}$$",
            "text/plain": [
              "sin(√x)"
            ]
          },
          "metadata": {
            "tags": []
          },
          "execution_count": 28
        }
      ]
    },
    {
      "cell_type": "code",
      "metadata": {
        "id": "ozmDZKcG0BVV",
        "outputId": "60b7cc68-951f-408d-b4d8-bddb2dc23669",
        "colab": {
          "base_uri": "https://localhost:8080/",
          "height": 37
        }
      },
      "source": [
        "# cosseno\n",
        "expr = sy.cos(expr)\n",
        "expr\n",
        "\n",
        "# observe que utilizamos o valor anterior de expr para gerar uma função composta\n",
        "# no espaço de memória utilizado pela função anterior\n"
      ],
      "execution_count": null,
      "outputs": [
        {
          "output_type": "execute_result",
          "data": {
            "image/png": "[encoded data removed]",
            "text/latex": "$$\\cos{\\left (\\sin{\\left (\\sqrt{x} \\right )} \\right )}$$",
            "text/plain": [
              "cos(sin(√x))"
            ]
          },
          "metadata": {
            "tags": []
          },
          "execution_count": 29
        }
      ]
    },
    {
      "cell_type": "code",
      "metadata": {
        "id": "KqHDUlIo0-l_",
        "outputId": "7050cf81-7af7-49b1-b485-f5bc9a761b2b",
        "colab": {
          "base_uri": "https://localhost:8080/",
          "height": 38
        }
      },
      "source": [
        "# tangente\n",
        "expr = tan(x)\n",
        "expr"
      ],
      "execution_count": null,
      "outputs": [
        {
          "output_type": "execute_result",
          "data": {
            "image/png": "[encoded data removed]",
            "text/latex": "$$\\tan{\\left (x \\right )}$$",
            "text/plain": [
              "tan(x)"
            ]
          },
          "metadata": {
            "tags": []
          },
          "execution_count": 62
        }
      ]
    },
    {
      "cell_type": "code",
      "metadata": {
        "id": "X1D_v46FzM3s",
        "outputId": "59713fdd-623a-460d-d5e6-41c2fe431521",
        "colab": {
          "base_uri": "https://localhost:8080/",
          "height": 38
        }
      },
      "source": [
        "# Identidade Trigonométrica Fundamental\n",
        "\n",
        "sy.Eq(cos(x)**2 + sin(x)**2,1)"
      ],
      "execution_count": null,
      "outputs": [
        {
          "output_type": "execute_result",
          "data": {
            "image/png": "[encoded data removed]",
            "text/latex": "$$\\sin^{2}{\\left (x \\right )} + \\cos^{2}{\\left (x \\right )} = 1$$",
            "text/plain": [
              "   2         2       \n",
              "sin (x) + cos (x) = 1"
            ]
          },
          "metadata": {
            "tags": []
          },
          "execution_count": 64
        }
      ]
    },
    {
      "cell_type": "markdown",
      "metadata": {
        "id": "gqAskwW48wn-"
      },
      "source": [
        "A função `expand_trig` pode ser usada para verificar e expandir as identidades trigonométricas, aquelas que geralmente esquecemos nas horas essenciais. rs"
      ]
    },
    {
      "cell_type": "code",
      "metadata": {
        "id": "ocYV5-lm9Js0",
        "outputId": "7e8828c7-e465-40a2-e417-3bee8cb9adac",
        "colab": {
          "base_uri": "https://localhost:8080/",
          "height": 38
        }
      },
      "source": [
        "sy.expand_trig(sy.cos(a + b))"
      ],
      "execution_count": null,
      "outputs": [
        {
          "output_type": "execute_result",
          "data": {
            "image/png": "[encoded data removed]",
            "text/latex": "$$- \\sin{\\left (a \\right )} \\sin{\\left (b \\right )} + \\cos{\\left (a \\right )} \\cos{\\left (b \\right )}$$",
            "text/plain": [
              "-sin(a)⋅sin(b) + cos(a)⋅cos(b)"
            ]
          },
          "metadata": {
            "tags": []
          },
          "execution_count": 31
        }
      ]
    },
    {
      "cell_type": "markdown",
      "metadata": {
        "id": "IIWSk8vn1JUn"
      },
      "source": [
        "Muitos fenômenos da natureza podem ser estudados por meio de expressões envolvendo o número de Euler, `e`. Tratamos agora de funções exponenciais."
      ]
    },
    {
      "cell_type": "code",
      "metadata": {
        "id": "RjeFAfAV1kMX",
        "outputId": "1f0c8463-7af6-4e1a-c3a9-bc17ce8b5ee1",
        "colab": {
          "base_uri": "https://localhost:8080/",
          "height": 38
        }
      },
      "source": [
        "sy.exp(x)"
      ],
      "execution_count": null,
      "outputs": [
        {
          "output_type": "execute_result",
          "data": {
            "image/png": "[encoded data removed]",
            "text/latex": "$$e^{x}$$",
            "text/plain": [
              " x\n",
              "ℯ "
            ]
          },
          "metadata": {
            "tags": []
          },
          "execution_count": 32
        }
      ]
    },
    {
      "cell_type": "code",
      "metadata": {
        "id": "3IQn5UqU1qb_",
        "outputId": "cc6996d6-664d-4617-b962-fd9ad706a75d",
        "colab": {
          "base_uri": "https://localhost:8080/",
          "height": 42
        }
      },
      "source": [
        "# exemplos mais complexos podem ser alcançados por meio de intrincadas \n",
        "# expressões em python\n",
        "sy.exp(x**2 + sqrt(sy.sin(1 - x))) - x**sy.exp(1)\n",
        "\n",
        "# isso mostra a versatilidade da biblioteca SymPy, fator decisivo no sucesso de \n",
        "# estudos e pesquisas científicas"
      ],
      "execution_count": null,
      "outputs": [
        {
          "output_type": "execute_result",
          "data": {
            "image/png": "[encoded data removed]",
            "text/latex": "$$- x^{e} + e^{x^{2} + \\sqrt{- \\sin{\\left (x - 1 \\right )}}}$$",
            "text/plain": [
              "         2     _____________\n",
              "   ℯ    x  + ╲╱ -sin(x - 1) \n",
              "- x  + ℯ                    "
            ]
          },
          "metadata": {
            "tags": []
          },
          "execution_count": 33
        }
      ]
    },
    {
      "cell_type": "markdown",
      "metadata": {
        "id": "H9EVvC7y-CZi"
      },
      "source": [
        "**Polinômios**\n",
        "\n",
        "O Sympy também nos permite trabalhar com polinômios de maneira simples, podemos realizar expansões, simplificações e fatoração. \n",
        "\n",
        "Vejamos um exemplo para um polinômio de 2° grau."
      ]
    },
    {
      "cell_type": "code",
      "metadata": {
        "id": "Gg0w1FvpAdT7",
        "outputId": "966151c0-c07b-4dfd-a70c-5915103b5039",
        "colab": {
          "base_uri": "https://localhost:8080/",
          "height": 38
        }
      },
      "source": [
        "a0, a1, a2 = sy.symbols('a0 a1 a2')\n",
        "P = a0 + a1*x + a2*x**2\n",
        "P"
      ],
      "execution_count": null,
      "outputs": [
        {
          "output_type": "execute_result",
          "data": {
            "image/png": "[encoded data removed]",
            "text/latex": "$$a_{0} + a_{1} x + a_{2} x^{2}$$",
            "text/plain": [
              "                2\n",
              "a₀ + a₁⋅x + a₂⋅x "
            ]
          },
          "metadata": {
            "tags": []
          },
          "execution_count": 34
        }
      ]
    },
    {
      "cell_type": "code",
      "metadata": {
        "id": "gYqF-AGyA5xb",
        "outputId": "c05a2291-e656-4699-a9d4-5e79471e1235",
        "colab": {
          "base_uri": "https://localhost:8080/",
          "height": 38
        }
      },
      "source": [
        "b0, b1, b2 = sy.symbols('b0 b1 b2')\n",
        "Q = b0 + b1*x + b2*x**2\n",
        "Q"
      ],
      "execution_count": null,
      "outputs": [
        {
          "output_type": "execute_result",
          "data": {
            "image/png": "[encoded data removed]",
            "text/latex": "$$b_{0} + b_{1} x + b_{2} x^{2}$$",
            "text/plain": [
              "                2\n",
              "b₀ + b₁⋅x + b₂⋅x "
            ]
          },
          "metadata": {
            "tags": []
          },
          "execution_count": 35
        }
      ]
    },
    {
      "cell_type": "code",
      "metadata": {
        "id": "fbo4EhdKA_7v",
        "outputId": "c5b65fea-0a24-49c2-89f7-abbfd573988b",
        "colab": {
          "base_uri": "https://localhost:8080/",
          "height": 38
        }
      },
      "source": [
        "# PRODUTO ENTRE POLINÔMIOS\n",
        "\n",
        "P*Q"
      ],
      "execution_count": null,
      "outputs": [
        {
          "output_type": "execute_result",
          "data": {
            "image/png": "[encoded data removed]",
            "text/latex": "$$\\left(a_{0} + a_{1} x + a_{2} x^{2}\\right) \\left(b_{0} + b_{1} x + b_{2} x^{2}\\right)$$",
            "text/plain": [
              "⎛                2⎞ ⎛                2⎞\n",
              "⎝a₀ + a₁⋅x + a₂⋅x ⎠⋅⎝b₀ + b₁⋅x + b₂⋅x ⎠"
            ]
          },
          "metadata": {
            "tags": []
          },
          "execution_count": 36
        }
      ]
    },
    {
      "cell_type": "code",
      "metadata": {
        "id": "qT6bE0HwBJMS",
        "outputId": "cb5f8f75-1e55-41ab-f5b2-a512787a173e",
        "colab": {
          "base_uri": "https://localhost:8080/",
          "height": 38
        }
      },
      "source": [
        "# EXPANDIR EXPRESSÕES\n",
        "R = P*Q\n",
        "sy.expand(R)"
      ],
      "execution_count": null,
      "outputs": [
        {
          "output_type": "execute_result",
          "data": {
            "image/png": "[encoded data removed]",
            "text/latex": "$$a_{0} b_{0} + a_{0} b_{1} x + a_{0} b_{2} x^{2} + a_{1} b_{0} x + a_{1} b_{1} x^{2} + a_{1} b_{2} x^{3} + a_{2} b_{0} x^{2} + a_{2} b_{1} x^{3} + a_{2} b_{2} x^{4}$$",
            "text/plain": [
              "                         2                    2          3          2         \n",
              "a₀⋅b₀ + a₀⋅b₁⋅x + a₀⋅b₂⋅x  + a₁⋅b₀⋅x + a₁⋅b₁⋅x  + a₁⋅b₂⋅x  + a₂⋅b₀⋅x  + a₂⋅b₁⋅\n",
              "\n",
              " 3          4\n",
              "x  + a₂⋅b₂⋅x "
            ]
          },
          "metadata": {
            "tags": []
          },
          "execution_count": 37
        }
      ]
    },
    {
      "cell_type": "code",
      "metadata": {
        "id": "FEf0gfriBUWM",
        "outputId": "2da0c1c8-4453-451c-f745-bf453c2c5fc9",
        "colab": {
          "base_uri": "https://localhost:8080/",
          "height": 38
        }
      },
      "source": [
        "# FATORAR POLINÔMIOS\n",
        "\n",
        "sy.factor(R)"
      ],
      "execution_count": null,
      "outputs": [
        {
          "output_type": "execute_result",
          "data": {
            "image/png": "[encoded data removed]",
            "text/latex": "$$\\left(a_{0} + a_{1} x + a_{2} x^{2}\\right) \\left(b_{0} + b_{1} x + b_{2} x^{2}\\right)$$",
            "text/plain": [
              "⎛                2⎞ ⎛                2⎞\n",
              "⎝a₀ + a₁⋅x + a₂⋅x ⎠⋅⎝b₀ + b₁⋅x + b₂⋅x ⎠"
            ]
          },
          "metadata": {
            "tags": []
          },
          "execution_count": 38
        }
      ]
    },
    {
      "cell_type": "markdown",
      "metadata": {
        "id": "3O1X4tZP2olw"
      },
      "source": [
        "**Não poderiam faltar as funções logarítmicas no arsenal do SymPy.**"
      ]
    },
    {
      "cell_type": "code",
      "metadata": {
        "id": "mfPdIs4T2nGY",
        "outputId": "2e508789-e1af-4a6a-c4f3-8641adcf3844",
        "colab": {
          "base_uri": "https://localhost:8080/",
          "height": 37
        }
      },
      "source": [
        "# log\n",
        "pot, base = 8, 2\n",
        "sy.log(pot, base)"
      ],
      "execution_count": null,
      "outputs": [
        {
          "output_type": "execute_result",
          "data": {
            "image/png": "[encoded data removed]",
            "text/latex": "$$3$$",
            "text/plain": [
              "3"
            ]
          },
          "metadata": {
            "tags": []
          },
          "execution_count": 39
        }
      ]
    },
    {
      "cell_type": "code",
      "metadata": {
        "id": "drS4J0ue3A1a",
        "outputId": "de20dfd3-f40a-4a27-dd0f-f41c2f6248df",
        "colab": {
          "base_uri": "https://localhost:8080/",
          "height": 38
        }
      },
      "source": [
        "# ln\n",
        "sy.ln(sy.exp(x))"
      ],
      "execution_count": null,
      "outputs": [
        {
          "output_type": "execute_result",
          "data": {
            "image/png": "[encoded data removed]",
            "text/latex": "$$x$$",
            "text/plain": [
              "x"
            ]
          },
          "metadata": {
            "tags": []
          },
          "execution_count": 40
        }
      ]
    },
    {
      "cell_type": "markdown",
      "metadata": {
        "id": "eKuTlduX75A7"
      },
      "source": [
        "Propriedades de Logaritmo\n",
        "\n",
        "A função `expand_log` nos permite explorar as propriedades dos logaritmos no SymPy."
      ]
    },
    {
      "cell_type": "code",
      "metadata": {
        "id": "BxpWxLYu7PQK",
        "outputId": "f975a517-04a5-47cc-81b2-45e558a9cd98",
        "colab": {
          "base_uri": "https://localhost:8080/",
          "height": 38
        }
      },
      "source": [
        "a, b = sy.symbols('a b', positive = True)\n",
        "\n",
        "sy.expand_log(sy.log(a*b))"
      ],
      "execution_count": null,
      "outputs": [
        {
          "output_type": "execute_result",
          "data": {
            "image/png": "[encoded data removed]",
            "text/latex": "$$\\log{\\left (a \\right )} + \\log{\\left (b \\right )}$$",
            "text/plain": [
              "log(a) + log(b)"
            ]
          },
          "metadata": {
            "tags": []
          },
          "execution_count": 69
        }
      ]
    },
    {
      "cell_type": "code",
      "metadata": {
        "id": "HDrbcYgx3Typ",
        "outputId": "610f15f6-7598-4d82-f2cb-3ae7a507aa67",
        "colab": {
          "base_uri": "https://localhost:8080/",
          "height": 38
        }
      },
      "source": [
        "sy.expand_log(sy.log(a/b))"
      ],
      "execution_count": null,
      "outputs": [
        {
          "output_type": "execute_result",
          "data": {
            "image/png": "[encoded data removed]",
            "text/latex": "$$\\log{\\left (a \\right )} - \\log{\\left (b \\right )}$$",
            "text/plain": [
              "log(a) - log(b)"
            ]
          },
          "metadata": {
            "tags": []
          },
          "execution_count": 70
        }
      ]
    },
    {
      "cell_type": "code",
      "metadata": {
        "id": "u6AiQZSH3X8q",
        "outputId": "2f8a293d-d383-4f68-a189-eeaedd8420f1",
        "colab": {
          "base_uri": "https://localhost:8080/",
          "height": 38
        }
      },
      "source": [
        "sy.expand_log(sy.log(a**b))"
      ],
      "execution_count": null,
      "outputs": [
        {
          "output_type": "execute_result",
          "data": {
            "image/png": "[encoded data removed]",
            "text/latex": "$$b \\log{\\left (a \\right )}$$",
            "text/plain": [
              "b⋅log(a)"
            ]
          },
          "metadata": {
            "tags": []
          },
          "execution_count": 73
        }
      ]
    },
    {
      "cell_type": "markdown",
      "metadata": {
        "id": "TmCDhpLV1ELe"
      },
      "source": [
        "Há também suporte nativo à biblioteca MatplotLib, o que nos permite desenhar gráficos de funções quaisquer."
      ]
    },
    {
      "cell_type": "code",
      "metadata": {
        "id": "aRxsV6zn1MEB",
        "outputId": "c8d972bb-2939-4dfb-ff25-1def24276544",
        "colab": {
          "base_uri": "https://localhost:8080/",
          "height": 39
        }
      },
      "source": [
        "# considere a função a seguir\n",
        "sigmoid = 1/(1 + exp(-x))\n",
        "sigmoid"
      ],
      "execution_count": null,
      "outputs": [
        {
          "output_type": "execute_result",
          "data": {
            "image/png": "[encoded data removed]",
            "text/latex": "$$\\frac{1}{1 + e^{- x}}$$",
            "text/plain": [
              "   1   \n",
              "───────\n",
              "     -x\n",
              "1 + ℯ  "
            ]
          },
          "metadata": {
            "tags": []
          },
          "execution_count": 41
        }
      ]
    },
    {
      "cell_type": "code",
      "metadata": {
        "id": "VcOqtTxv1tgq",
        "outputId": "9830d50c-3acc-45f6-ef9c-629f6843cba7",
        "colab": {
          "base_uri": "https://localhost:8080/",
          "height": 407
        }
      },
      "source": [
        "from sympy.plotting import plot\n",
        "\n",
        "x = symbols('x')\n",
        "\n",
        "plot(sigmoid)"
      ],
      "execution_count": null,
      "outputs": [
        {
          "output_type": "stream",
          "text": [
            "/usr/local/lib/python3.6/dist-packages/sympy/plotting/plot.py:890: MatplotlibDeprecationWarning: \n",
            "The set_smart_bounds function was deprecated in Matplotlib 3.2 and will be removed two minor releases later.\n",
            "  self.ax.spines['left'].set_smart_bounds(True)\n",
            "/usr/local/lib/python3.6/dist-packages/sympy/plotting/plot.py:891: MatplotlibDeprecationWarning: \n",
            "The set_smart_bounds function was deprecated in Matplotlib 3.2 and will be removed two minor releases later.\n",
            "  self.ax.spines['bottom'].set_smart_bounds(False)\n"
          ],
          "name": "stderr"
        },
        {
          "output_type": "display_data",
          "data": {
            "image/png": "[encoded data removed]",
            "text/plain": [
              "<Figure size 432x288 with 1 Axes>"
            ]
          },
          "metadata": {
            "tags": [],
            "needs_background": "light"
          }
        },
        {
          "output_type": "execute_result",
          "data": {
            "text/plain": [
              "<sympy.plotting.plot.Plot at 0x7f8250e45860>"
            ]
          },
          "metadata": {
            "tags": []
          },
          "execution_count": 78
        }
      ]
    },
    {
      "cell_type": "markdown",
      "metadata": {
        "id": "WBTSyjYnIhpl"
      },
      "source": [
        "Uma aplicação interessante que envolve tanto a função Sigmóide quanto a composição de funções é o de Regressão Logística, que nada mais é do que a função composta `sigmoid(linear(x))` onde `linear(x)` é uma função linear em seus argumentos.\n"
      ]
    },
    {
      "cell_type": "markdown",
      "metadata": {
        "id": "YqdFSPllNVMc"
      },
      "source": [
        "Vamos definir as seguintes funções $f$ e $g$, tal que:\n",
        "\n",
        "$$\n",
        "f(x) = \\frac{1}{1 + e^{-x}}, \\text{ com } x \\in (-\\infty, \\infty) \\text{ e } f(x)\\in (0,1)\n",
        "$$ e,\n",
        "$$\n",
        "g(X) = X\\cdot \\beta, \\text{ com } x \\in (-\\infty, \\infty) \\text{ e } g(X)\\in (-\\infty, \\infty)\n",
        "$$\n",
        "\n",
        "Perceba que $h(x) = f\\circ g (x)$ é dado da seguinte forma:\n",
        "\n",
        "$$\n",
        "h(X) = f\\circ g (x)= f(g(x))= \\frac{1}{1 + e^{-g(x)}} = \\frac{1}{1 + e^{-X\\cdot \\beta}}\n",
        "$$\n",
        "\n",
        "com $\\{ x \\in \\mathbb{R}: 0 < h(x) < 1 \\}$."
      ]
    },
    {
      "cell_type": "markdown",
      "metadata": {
        "id": "9Dhtjq54UCyn"
      },
      "source": [
        "Como visto no **Ebook**, **subseção [4.7](https://www.overleaf.com/read/gtspgphgvstz)**, temos a seguinte expressão final para cada observação de $h(X)$:\n",
        "\n",
        "$$\n",
        "h(y_i | \\beta_0, \\beta_1, \\dots, \\beta_p) = \\frac{1}{1 + e^{-(\\beta_0 + \\beta_1 \\cdot x_{i1} + \\beta_2\\cdot x_{i2} + \\dots + \\beta_p \\cdot x_{ip})}}\n",
        "$$"
      ]
    },
    {
      "cell_type": "markdown",
      "metadata": {
        "id": "qDpwhcyDOyFy"
      },
      "source": [
        "Podemos definir `h(x)`, compondo `g` sobre `f`:"
      ]
    },
    {
      "cell_type": "code",
      "metadata": {
        "id": "NTgJZtWjJ8PB",
        "outputId": "83bed1cd-fc40-4171-976a-8043c882e2e1",
        "colab": {
          "base_uri": "https://localhost:8080/",
          "height": 40
        }
      },
      "source": [
        "# Definindo a função f\n",
        "f = sigmoid\n",
        "\n",
        "# Definindo a expressão de g\n",
        "g = x * beta\n",
        "\n",
        "# Definindo a função g\n",
        "g = Function('g')(x)\n",
        "\n",
        "# Definindo a função composta h(x) = f(g(x))\n",
        "h = 1/(1 + exp(-g))\n",
        "h"
      ],
      "execution_count": null,
      "outputs": [
        {
          "output_type": "execute_result",
          "data": {
            "image/png": "[encoded data removed]",
            "text/latex": "$$\\frac{1}{1 + e^{- g{\\left (x \\right )}}}$$",
            "text/plain": [
              "    1     \n",
              "──────────\n",
              "     -g(x)\n",
              "1 + ℯ     "
            ]
          },
          "metadata": {
            "tags": []
          },
          "execution_count": 43
        }
      ]
    },
    {
      "cell_type": "markdown",
      "metadata": {
        "id": "8T-qQaUb8nTp"
      },
      "source": [
        "É importante definir 'positive = True' para que o SymPy entenda que se tratam de números positivos, já que os logaritmos possuem restrição quanto a isso."
      ]
    },
    {
      "cell_type": "markdown",
      "metadata": {
        "id": "Xe-zuwSj5vL9"
      },
      "source": [
        "**Fatorial**\n",
        "\n",
        "O cálculo do fatorial de um número pode ser feito usando a função `factorial(n)`. Vejamos um exemplo."
      ]
    },
    {
      "cell_type": "code",
      "metadata": {
        "id": "3OG6dJ8W6Iei",
        "outputId": "2da63be2-ded5-452e-c660-8e76eb06830e",
        "colab": {
          "base_uri": "https://localhost:8080/",
          "height": 38
        }
      },
      "source": [
        "sy.factorial(x)"
      ],
      "execution_count": null,
      "outputs": [
        {
          "output_type": "execute_result",
          "data": {
            "image/png": "[encoded data removed]",
            "text/latex": "$$x!$$",
            "text/plain": [
              "x!"
            ]
          },
          "metadata": {
            "tags": []
          },
          "execution_count": 45
        }
      ]
    },
    {
      "cell_type": "code",
      "metadata": {
        "id": "432nt9Ly6SFt",
        "outputId": "1ffbbdee-cb46-4028-d4b1-59fc29527850",
        "colab": {
          "base_uri": "https://localhost:8080/",
          "height": 37
        }
      },
      "source": [
        "# 8!\n",
        "\n",
        "sy.factorial(x).subs(x,8)"
      ],
      "execution_count": null,
      "outputs": [
        {
          "output_type": "execute_result",
          "data": {
            "image/png": "[encoded data removed]",
            "text/latex": "$$40320$$",
            "text/plain": [
              "40320"
            ]
          },
          "metadata": {
            "tags": []
          },
          "execution_count": 46
        }
      ]
    },
    {
      "cell_type": "markdown",
      "metadata": {
        "id": "UslqqY5MB6PS"
      },
      "source": [
        "**Matrizes**\n",
        "\n",
        "As matrizes no SymPy seguem uma sintaxe semelhante ao do Python. Assim, podemos definir uma matriz da seguinte forma:"
      ]
    },
    {
      "cell_type": "code",
      "metadata": {
        "id": "MmiyljtvCHwn",
        "outputId": "0ca8e292-c5f3-43ff-fd3c-b2d7637b11d1",
        "colab": {
          "base_uri": "https://localhost:8080/",
          "height": 78
        }
      },
      "source": [
        "A = sy.Matrix([[1,2,3],[4,5,6],[7,8,9]])\n",
        "A"
      ],
      "execution_count": null,
      "outputs": [
        {
          "output_type": "execute_result",
          "data": {
            "text/latex": "$$\\left[\\begin{matrix}1 & 2 & 3\\\\4 & 5 & 6\\\\7 & 8 & 9\\end{matrix}\\right]$$",
            "text/plain": [
              "⎡1  2  3⎤\n",
              "⎢       ⎥\n",
              "⎢4  5  6⎥\n",
              "⎢       ⎥\n",
              "⎣7  8  9⎦"
            ]
          },
          "metadata": {
            "tags": []
          },
          "execution_count": 47
        }
      ]
    },
    {
      "cell_type": "markdown",
      "metadata": {
        "id": "x7LydJ2t6ygy"
      },
      "source": [
        "O SymPy nos permite executar vários cálculos envolvendo matrizes... autovalores e autovetores, diagonalização, transposta, inversa, entre outros."
      ]
    },
    {
      "cell_type": "code",
      "metadata": {
        "id": "Vv9SFleJ76Ed",
        "outputId": "c97739a9-270c-4f99-fdba-28f9c5cfa202",
        "colab": {
          "base_uri": "https://localhost:8080/",
          "height": 78
        }
      },
      "source": [
        "# Transporta de uma Matriz\n",
        "\n",
        "A.T"
      ],
      "execution_count": null,
      "outputs": [
        {
          "output_type": "execute_result",
          "data": {
            "text/latex": "$$\\left[\\begin{matrix}1 & 4 & 7\\\\2 & 5 & 8\\\\3 & 6 & 9\\end{matrix}\\right]$$",
            "text/plain": [
              "⎡1  4  7⎤\n",
              "⎢       ⎥\n",
              "⎢2  5  8⎥\n",
              "⎢       ⎥\n",
              "⎣3  6  9⎦"
            ]
          },
          "metadata": {
            "tags": []
          },
          "execution_count": 81
        }
      ]
    },
    {
      "cell_type": "code",
      "metadata": {
        "id": "k87ejMXj8CQt",
        "outputId": "a1b3fb99-51c4-4581-df55-760416fa001a",
        "colab": {
          "base_uri": "https://localhost:8080/",
          "height": 78
        }
      },
      "source": [
        "# Matriz de zeros\n",
        "\n",
        "zeros(3,3)"
      ],
      "execution_count": null,
      "outputs": [
        {
          "output_type": "execute_result",
          "data": {
            "text/latex": "$$\\left[\\begin{matrix}0 & 0 & 0\\\\0 & 0 & 0\\\\0 & 0 & 0\\end{matrix}\\right]$$",
            "text/plain": [
              "⎡0  0  0⎤\n",
              "⎢       ⎥\n",
              "⎢0  0  0⎥\n",
              "⎢       ⎥\n",
              "⎣0  0  0⎦"
            ]
          },
          "metadata": {
            "tags": []
          },
          "execution_count": 82
        }
      ]
    },
    {
      "cell_type": "code",
      "metadata": {
        "id": "gyD5Rg568MOJ",
        "outputId": "a5d320e0-d2fd-4ee2-83da-4fe3ffa3148d",
        "colab": {
          "base_uri": "https://localhost:8080/",
          "height": 78
        }
      },
      "source": [
        "# Matriz de uns\n",
        "\n",
        "ones(3,3)"
      ],
      "execution_count": null,
      "outputs": [
        {
          "output_type": "execute_result",
          "data": {
            "text/latex": "$$\\left[\\begin{matrix}1 & 1 & 1\\\\1 & 1 & 1\\\\1 & 1 & 1\\end{matrix}\\right]$$",
            "text/plain": [
              "⎡1  1  1⎤\n",
              "⎢       ⎥\n",
              "⎢1  1  1⎥\n",
              "⎢       ⎥\n",
              "⎣1  1  1⎦"
            ]
          },
          "metadata": {
            "tags": []
          },
          "execution_count": 83
        }
      ]
    },
    {
      "cell_type": "code",
      "metadata": {
        "id": "obDpg3Nf8Uck",
        "outputId": "e65b0bdb-942f-4947-ad92-2e23676dcc01",
        "colab": {
          "base_uri": "https://localhost:8080/",
          "height": 78
        }
      },
      "source": [
        "# Matriz Identidade\n",
        "\n",
        "eye(3)"
      ],
      "execution_count": null,
      "outputs": [
        {
          "output_type": "execute_result",
          "data": {
            "text/latex": "$$\\left[\\begin{matrix}1 & 0 & 0\\\\0 & 1 & 0\\\\0 & 0 & 1\\end{matrix}\\right]$$",
            "text/plain": [
              "⎡1  0  0⎤\n",
              "⎢       ⎥\n",
              "⎢0  1  0⎥\n",
              "⎢       ⎥\n",
              "⎣0  0  1⎦"
            ]
          },
          "metadata": {
            "tags": []
          },
          "execution_count": 86
        }
      ]
    },
    {
      "cell_type": "markdown",
      "metadata": {
        "id": "zVS3p_ZMr0zc"
      },
      "source": [
        "**Exercícios**\n",
        "\n",
        "(1) Um vendedor tem seu salário definido como um valor fixo, de `1045` reais, acrescido de um bônus por cada artigo negociado com sucesso, cada um somando `55` reais ao salário do vendedor. \n",
        "\n",
        "  "
      ]
    },
    {
      "cell_type": "markdown",
      "metadata": {
        "id": "-65BIhzUtWjo"
      },
      "source": [
        "a) Determinar a expressão matemática que corresponde ao salário final do vendedor."
      ]
    },
    {
      "cell_type": "code",
      "metadata": {
        "id": "xwIaq9YjtYkq"
      },
      "source": [
        "# R:\n",
        "expr = 0\n",
        "\n",
        "# PS: defina expr = \"sua resposta\""
      ],
      "execution_count": null,
      "outputs": []
    },
    {
      "cell_type": "markdown",
      "metadata": {
        "id": "JXfs2J_Itfcb"
      },
      "source": [
        "b) Qual será o salário deste profissional, tendo ele vendido 7 artigos?"
      ]
    },
    {
      "cell_type": "code",
      "metadata": {
        "id": "QMKK9lUItq6b"
      },
      "source": [
        "# R:"
      ],
      "execution_count": null,
      "outputs": []
    },
    {
      "cell_type": "markdown",
      "metadata": {
        "id": "vaUnohlqv4kk"
      },
      "source": [
        "c) Quantos artigos ele precisa vender (no mínimo) para bater a meta de `3600` reais?"
      ]
    },
    {
      "cell_type": "code",
      "metadata": {
        "id": "Bh28WpSVwFh9"
      },
      "source": [
        "i = 1\n",
        "while(expr.subs(x, i) <= 3600):\n",
        "  i += 1\n",
        "print(i)"
      ],
      "execution_count": null,
      "outputs": []
    },
    {
      "cell_type": "markdown",
      "metadata": {
        "id": "um1BG2Imwq21"
      },
      "source": [
        "(2) Um projétil é lançado ao ar e sua trajetória obedece à parábola determinada por"
      ]
    },
    {
      "cell_type": "code",
      "metadata": {
        "id": "Xsyn_5lYzAZE"
      },
      "source": [
        "expr = -x**2 + 5*x - 1\n",
        "expr"
      ],
      "execution_count": null,
      "outputs": []
    },
    {
      "cell_type": "markdown",
      "metadata": {
        "id": "McWAHyjHyodn"
      },
      "source": [
        "a) Determine o ponto vertical ao solo que coincide com a altura máxima alcançada pelo projétil."
      ]
    },
    {
      "cell_type": "code",
      "metadata": {
        "id": "YHoLApb_yY7S"
      },
      "source": [
        "# x do vértice de uma parábola: -b/2a\n",
        "xv = -5/(2*(-1))\n",
        "\n",
        "# altura máxima: f(xv)\n",
        "expr.subs(x, xv)"
      ],
      "execution_count": null,
      "outputs": []
    },
    {
      "cell_type": "markdown",
      "metadata": {
        "id": "Ca4hZ5tOyYNR"
      },
      "source": [
        "b) Determine o ponto de onde foi lançado o projétil."
      ]
    },
    {
      "cell_type": "code",
      "metadata": {
        "id": "spjUW__8w6iq"
      },
      "source": [
        "# R:"
      ],
      "execution_count": null,
      "outputs": []
    },
    {
      "cell_type": "markdown",
      "metadata": {
        "id": "hTMqYo2AxlIn"
      },
      "source": [
        "c) Determine o ponto onde irá cair o projétil."
      ]
    },
    {
      "cell_type": "code",
      "metadata": {
        "id": "WCdrh2sbznzI"
      },
      "source": [
        "# R:"
      ],
      "execution_count": null,
      "outputs": []
    },
    {
      "cell_type": "markdown",
      "metadata": {
        "id": "cnscWqu69xNQ"
      },
      "source": [
        "(3) Dada $f(x) = \\sqrt{x} - 2x +1$, calculo a $f$ no ponto x = 4 e plote o gráfico a mesma função."
      ]
    },
    {
      "cell_type": "code",
      "metadata": {
        "id": "wgX9muYm-Ahd"
      },
      "source": [
        "# R:"
      ],
      "execution_count": null,
      "outputs": []
    },
    {
      "cell_type": "markdown",
      "metadata": {
        "id": "K6vcxHuc975p"
      },
      "source": [
        "(4) Seja $f(x) = -x^2 + 2x$, simplifique as expressões:"
      ]
    },
    {
      "cell_type": "markdown",
      "metadata": {
        "id": "UwA6_II7-Cq5"
      },
      "source": [
        "a) $ \\frac{f(x) - f(1)}{x - 1} $"
      ]
    },
    {
      "cell_type": "code",
      "metadata": {
        "id": "TlHZLDY3-BoR",
        "outputId": "497666d5-e79b-40b9-d085-f61d1f1bcb83",
        "colab": {
          "base_uri": "https://localhost:8080/",
          "height": 39
        }
      },
      "source": [
        "# R:\n",
        "# armazenando a função f\n",
        "f = -x**2 + 2*x\n",
        "\n",
        "# calculando a expressão do item (A)\n",
        "g = (f - f.subs(x, 1))/(x - 1)\n",
        "g"
      ],
      "execution_count": null,
      "outputs": [
        {
          "output_type": "execute_result",
          "data": {
            "image/png": "[encoded data removed]",
            "text/latex": "$$\\frac{1}{x - 1} \\left(- x^{2} + 2 x - 1\\right)$$",
            "text/plain": [
              "   2          \n",
              "- x  + 2⋅x - 1\n",
              "──────────────\n",
              "    x - 1     "
            ]
          },
          "metadata": {
            "tags": []
          },
          "execution_count": 79
        }
      ]
    },
    {
      "cell_type": "code",
      "metadata": {
        "id": "dgj1OU3WZlsj",
        "outputId": "7430e1d6-e710-4163-99db-6e5cf42a421a",
        "colab": {
          "base_uri": "https://localhost:8080/",
          "height": 38
        }
      },
      "source": [
        "\n",
        "# simplificando a expressão g\n",
        "simplify(g)"
      ],
      "execution_count": null,
      "outputs": [
        {
          "output_type": "execute_result",
          "data": {
            "image/png": "[encoded data removed]",
            "text/latex": "$$- x + 1$$",
            "text/plain": [
              "-x + 1"
            ]
          },
          "metadata": {
            "tags": []
          },
          "execution_count": 80
        }
      ]
    },
    {
      "cell_type": "markdown",
      "metadata": {
        "id": "uoIe2IVk-MSp"
      },
      "source": [
        "b) $ \\frac{f(x + h) - f(x)}{h} $"
      ]
    },
    {
      "cell_type": "code",
      "metadata": {
        "id": "Qujwxk7h-Mt0"
      },
      "source": [
        "# R:"
      ],
      "execution_count": null,
      "outputs": []
    },
    {
      "cell_type": "markdown",
      "metadata": {
        "id": "soFfI6n2-fzu"
      },
      "source": [
        "(5) Resolva o sistema de equações algébricas formado pelas equações abaixo:\n",
        "\n",
        "\n",
        "$ 2x+y-z = 0 $\n",
        "\n",
        "$ 4x-y-z = 5$\n",
        "\n",
        "$ y+3z = 10 $"
      ]
    },
    {
      "cell_type": "code",
      "metadata": {
        "id": "-BKepr-0_o39"
      },
      "source": [
        "# R:"
      ],
      "execution_count": null,
      "outputs": []
    },
    {
      "cell_type": "markdown",
      "metadata": {
        "id": "8CxA4pYl_q2k"
      },
      "source": [
        "(6) Dado o sistema $Ax = b$, sendo as matrizes $A = \\begin{pmatrix} 2 & 4 & 1 \\\\ 5 & -7 & 2 \\\\ -1 & 3 & 6 \\end{pmatrix}$ e $b = \\begin{pmatrix} 1 & 3 & 7 \\end{pmatrix}$, determine:"
      ]
    },
    {
      "cell_type": "markdown",
      "metadata": {
        "id": "Ak8sfMMCBMMx"
      },
      "source": [
        "a) O determinante da matriz $A$."
      ]
    },
    {
      "cell_type": "code",
      "metadata": {
        "id": "SwreVUkvBHA1"
      },
      "source": [
        "# R:"
      ],
      "execution_count": null,
      "outputs": []
    },
    {
      "cell_type": "markdown",
      "metadata": {
        "id": "DGJBdnp8BQu8"
      },
      "source": [
        "b) A matriz inversa de $A$."
      ]
    },
    {
      "cell_type": "code",
      "metadata": {
        "id": "07XfU1dSBXtR"
      },
      "source": [
        "# R:"
      ],
      "execution_count": null,
      "outputs": []
    },
    {
      "cell_type": "markdown",
      "metadata": {
        "id": "gzY-TdQQBYFk"
      },
      "source": [
        "c) Os valores de $x$."
      ]
    },
    {
      "cell_type": "code",
      "metadata": {
        "id": "p5d_lDc7Bbb8"
      },
      "source": [
        "# R:"
      ],
      "execution_count": null,
      "outputs": []
    },
    {
      "cell_type": "markdown",
      "metadata": {
        "id": "uplpL_CN5eaz"
      },
      "source": [
        "Todo o aparato apresentado pode ser muito útil quando lidamos com problemas envolvendo funções, mas toda referência é bem-vinda. Por isso recomendamos que, desejando-se obter um conhecimento mais aprofundado da biblioteca, o leitor visite a documentação oficial do SymPy. \n",
        "\n",
        "https://docs.sympy.org/"
      ]
    }
  ]
}