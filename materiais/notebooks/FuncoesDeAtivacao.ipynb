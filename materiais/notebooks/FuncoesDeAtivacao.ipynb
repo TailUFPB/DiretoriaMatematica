{
  "nbformat": 4,
  "nbformat_minor": 0,
  "metadata": {
    "colab": {
      "name": "FuncoesDeAtivacao.ipynb",
      "provenance": [],
      "collapsed_sections": []
    },
    "kernelspec": {
      "name": "python3",
      "display_name": "Python 3"
    }
  },
  "cells": [
    {
      "cell_type": "markdown",
      "metadata": {
        "id": "arIbbk6kOSrD"
      },
      "source": [
        "# **Funções de ativação**"
      ]
    },
    {
      "cell_type": "markdown",
      "metadata": {
        "id": "CTNZCzfyz9Nx"
      },
      "source": [
        "_Este Notebook acessará conteúdos abordados no **e-book** [TAIL — Introdução à Matemática para Inteligência Artificial](https://www.overleaf.com/read/gtspgphgvstz), seja livre para revisitá-lo quando necessário._"
      ]
    },
    {
      "cell_type": "markdown",
      "metadata": {
        "id": "85JJCzWH0ICR"
      },
      "source": [
        "### Introdução"
      ]
    },
    {
      "cell_type": "markdown",
      "metadata": {
        "id": "oOOwrvleJvJR"
      },
      "source": [
        "Em uma Rede Neural, cada neurônio é caracterizado pelo seu peso, bias e a função de ativação. Os neurônios realizam uma transformação linear na entrada pelos pesos e bias e a transformação não linear é feita pela função de ativação. A informação flui da camada de entrada para as camadas seguintes, realizando o processamento dos dados e enviam a saída final para a camada de saída. Mas e se o resultado gerado estiver longe do valor esperado? Em uma rede neural, os pesos e bias dos neurônios são atualizados com base no erro. Uma vez que todos os dados passaram por este processo, os pesos e bias finais são utilizados para previsões.\n",
        "\n",
        "Percebemos esse processo na imagem abaixo:\n",
        "\n",
        "\n",
        "\n",
        "<p align=\"center\">\n",
        "  <img width=\"480\" height=\"280\" src=\"https://i.imgur.com/9glCfmj.png\">\n",
        "</p>\n",
        "\n"
      ]
    },
    {
      "cell_type": "markdown",
      "metadata": {
        "id": "9ZMxmEAhHLCJ"
      },
      "source": [
        "### Importando as bibliotecas necessárias\n"
      ]
    },
    {
      "cell_type": "code",
      "metadata": {
        "id": "4tDOcvmSp4C7"
      },
      "source": [
        "import numpy as np\n",
        "import scipy.special\n",
        "import matplotlib.pyplot as plt\n",
        "from keras.datasets import mnist\n",
        "from keras.models import Sequential\n",
        "from keras.layers import Dense, Flatten, Conv2D, MaxPool2D\n",
        "from keras.utils import to_categorical\n",
        "from keras.layers import LeakyReLU"
      ],
      "execution_count": null,
      "outputs": []
    },
    {
      "cell_type": "markdown",
      "metadata": {
        "id": "YcmdwSGS2ZYh"
      },
      "source": [
        "### Funções"
      ]
    },
    {
      "cell_type": "markdown",
      "metadata": {
        "id": "X3fKuk98HRxG"
      },
      "source": [
        "#### Função Sigmoid\n",
        "_(e-book: 4.6 Exemplos, p. 23)_\n",
        "\n",
        "A função Sigmoid permite converter um input em um range binário (0 e 1), o que é uma característica desejável, por exemplo, em problemas de classificação. Ela se caracteriza como uma função com não linearidade. \n",
        "\n",
        "A função é definida como:\n",
        "\n",
        "$$\n",
        "σ(x) = \n",
        "{1 \n",
        "\\over \n",
        "{1 + {e^{-x}}}}\n",
        "$$\n",
        "\n",
        "\n",
        "\n",
        "\n",
        "<p align=\"center\">\n",
        "  <img width=\"400\" height=\"280\" src=\"https://i1.wp.com/clay-atlas.com/wp-content/uploads/2019/10/sigmoid.png?w=640&ssl=1%22%3E\">\n",
        "</p>\n"
      ]
    },
    {
      "cell_type": "code",
      "metadata": {
        "id": "_uQTjE11rzPj"
      },
      "source": [
        "#Utilizando SciPy\n",
        "def expit(x):\n",
        "  return scipy.special.expit(x)\n",
        "\n",
        "#Utilizando Numpy\n",
        "def sigmoid(X):\n",
        "  return 1/(1+np.exp(-X))"
      ],
      "execution_count": null,
      "outputs": []
    },
    {
      "cell_type": "markdown",
      "metadata": {
        "id": "LwzFCFAoHUXi"
      },
      "source": [
        "#### Função Softmax\n",
        "_(e-book: 4.6 Exemplos, p. 24)_\n",
        "\n",
        "A Função Softmax é uma generalização da função Sigmoide para casos não-binários. Geralmente, ela não é aplicada às camadas intermediárias da Rede Neural, mas na camada de saída de problemas de classificação multiclasse, pois a mesma é capaz de produzir valores no intervalo [0, 1] em que sua soma é igual a 1. Ou seja, em um problema com 3 classes, por exemplo, a função Softmax produzirá 3 valores, que somam 1, em que cada valor representa a probabilidade da instância pertencer a uma das 3 possíveis classes.\n",
        "\n",
        "A função é definida como:\n",
        "\n",
        "$$\n",
        "f_{i}(\\vec{x}) = \n",
        "{e^{x_{i}}\n",
        "\\over\n",
        "{{\\sum_{j=1}^{J}}e^{x_{j}}}\n",
        "}\\ \\\n",
        " \\text {para}\\ i \\text{ = 1, ..., J}\n",
        "$$\n"
      ]
    },
    {
      "cell_type": "code",
      "metadata": {
        "id": "EOrXtA5Gr2w7"
      },
      "source": [
        "#Utilizando Numpy\n",
        "def softmax(x):\n",
        "   return np.exp(x) / np.sum(np.exp(x))"
      ],
      "execution_count": null,
      "outputs": []
    },
    {
      "cell_type": "markdown",
      "metadata": {
        "id": "AIhVHPZjOghA"
      },
      "source": [
        "#### TanH\n",
        "\n",
        "A Função TanH funciona de forma semelhante à função sigmóide, pórem simetricamente em relação à origem, variando entre o intervalo [-1,1]. Ela é contínua, diferenciável em todos os pontos e não linear. \n",
        "\n",
        "A função é definida como:\n",
        "\n",
        "$$\n",
        "f(x) =\n",
        "tanh(x) = \n",
        "{({e^x} - {e^{-x}}) \n",
        "\\over \n",
        "({{e^x} + {e^{-x}})}}\n",
        "$$\n",
        "\n",
        "\n",
        "<p align=\"center\">\n",
        "  <img width=\"400\" height=\"280\" src=\"https://i0.wp.com/clay-atlas.com/wp-content/uploads/2019/10/image-44.png?w=640&ssl=1%22%3E\">\n",
        "</p>\n",
        "\n"
      ]
    },
    {
      "cell_type": "code",
      "metadata": {
        "id": "E_z11ApNPQAO"
      },
      "source": [
        "#Utilizando Numpy\n",
        "def tanh(x):\n",
        "  return np.tanh(x)"
      ],
      "execution_count": null,
      "outputs": []
    },
    {
      "cell_type": "markdown",
      "metadata": {
        "id": "Hf-7HQssHTux"
      },
      "source": [
        "#### ReLU \n",
        "\n",
        "A principal vantagem de utilizar a função Rectified Linear Unit (Relu) em relação à outras funções de ativação é que a mesma não ativa todos os neurônios da rede ao mesmo tempo. Se a função ReLU receber um input e ele for um valor negativo, o output será zero e o neurônio não será ativado, caso contrário se conserva o valor de entrada. Isso significa que, ao mesmo tempo, apenas alguns neurônios são ativados, tornando a rede esparsa, eficiente e fácil para a computação.\n",
        "\n",
        "A função é definida como:\n",
        "\n",
        "$$\n",
        "f(x) = \\left\\{\n",
        "  \\begin{array}\\\\\n",
        "    {0} & \\mbox{para} \\ x \\leq 0\\\\\n",
        "    {x} & \\mbox{para} \\ x > \\ 0\\\\\n",
        "  \\end{array}\n",
        "  \\right.\n",
        " = max\\{0, x\\}\n",
        "$$\n",
        "\n",
        "<p align=\"center\">\n",
        "  <img width=\"400\" height=\"280\" src=\"https://i2.wp.com/clay-atlas.com/wp-content/uploads/2019/10/ReLU.png?w=640&ssl=1%22%3E\">\n",
        "</p>\n"
      ]
    },
    {
      "cell_type": "code",
      "metadata": {
        "id": "qc2LLuFsr02p"
      },
      "source": [
        "#Utilizando Numpy\n",
        "def relu(X):\n",
        "  return np.maximum(0,X)\n",
        "\n",
        "#Outra Implementação \n",
        "def relu2(x):\n",
        "  return 0 if x < 0.0 else x"
      ],
      "execution_count": null,
      "outputs": []
    },
    {
      "cell_type": "markdown",
      "metadata": {
        "id": "K0cVqyzKOljE"
      },
      "source": [
        "#### Leaky ReLU\n",
        "\n",
        "A função Leaky ReLU é uma versão melhorada da função ReLU. Na função ReLU, o output é 0 para um input x < 0, que implica na \"morte\" dos neurônios por ativações nessa região. A Leaky ReLU ameniza este problema, ao invés de definir a função Relu como 0 para x inferior a 0, ela é definida como um pequeno componente linear de x. Substituindo a linha horizontal por uma linha não-zero ou não horizontal. \n",
        "\n",
        "A função é definida como:\n",
        "\n",
        "$$\n",
        "f(x) = \\left\\{\n",
        "    \\begin{array}\\\\\n",
        "        0.01x & \\mbox{para } \\ x  < \\ 0 \\\\\n",
        "        x & \\mbox{para } \\ x \\geq  0 \\\\\n",
        "    \\end{array}\n",
        "\\right.\n",
        "$$\n",
        "\n",
        "\n",
        "<p align=\"center\">\n",
        "  <img width=\"400\" height=\"280\" src=\"https://i1.wp.com/clay-atlas.com/wp-content/uploads/2019/10/image-37.png?resize=640%2C480&ssl=1%22%3E\">\n",
        "</p>"
      ]
    },
    {
      "cell_type": "code",
      "metadata": {
        "id": "wtbNn8hYPRuC"
      },
      "source": [
        "#Utilizando Numpy\n",
        "def leakyrelu(x):\n",
        "   return np.maximum(0.1*x,x)\n",
        "\n",
        "#Outra Implementação   \n",
        "def leakyrelu2(x):\n",
        "  return x*0.01 if x < 0 else x"
      ],
      "execution_count": null,
      "outputs": []
    },
    {
      "cell_type": "markdown",
      "metadata": {
        "id": "Hem8Ki0DK59F"
      },
      "source": [
        "#### Singularidade\n",
        "_(e-book: 4.7.1 Exercício (1): Regressão Logística, p. 24)_\n",
        "\n",
        "A função logística é uma função composta pela função Sigmoid aplicada numa reta de uma regressão.\n",
        "\n",
        "Seja \n",
        "\n",
        "$$f(x) = ax+b$$\n",
        "\n",
        "e\n",
        "\n",
        "$$\n",
        "g(x) = \n",
        "{1 \n",
        "\\over \n",
        "{1 + {e^{-x}}}}\n",
        "$$\n",
        "\n",
        "A expressão g(f(x)) será caracterizada como a regressão logística. Sabendo que a equação da regressão linear múltipla é dada por \n",
        "\n",
        "$$Y = \\beta \\ \\cdot \\ X$$\n",
        "\n",
        "podemos estabelecer uma interpretação da função logística utilizando a função Sigmoid e um hiperplano. Em resumo, se temos a Regressão Linear Múltipla e a Sigmoid, a composta de ambas será a função logística. "
      ]
    },
    {
      "cell_type": "markdown",
      "metadata": {
        "id": "g0Px5VQXOzOO"
      },
      "source": [
        "### Exemplo Prático\n",
        "\n",
        "Problema de Classificação com o MNIST."
      ]
    },
    {
      "cell_type": "markdown",
      "metadata": {
        "id": "Udqek9XeyYyA"
      },
      "source": [
        "#### Carregando o Banco de Dados\n",
        "\n",
        "O MNIST consiste de 70.000 imagens 28x28 de 10 dígitos escritos à mão. Foram utilizadas 60.000 imagens para treinamento e 10.000 imagens para teste.\n"
      ]
    },
    {
      "cell_type": "code",
      "metadata": {
        "id": "to0h4nhJk0Cj"
      },
      "source": [
        "#O mnist.load_data() já realiza o split das imagens de teste e treinamento do MNIST\n",
        "(x_train, y_train), (x_test, y_test) = mnist.load_data()"
      ],
      "execution_count": null,
      "outputs": []
    },
    {
      "cell_type": "markdown",
      "metadata": {
        "id": "Hs7j6QPpy-Xh"
      },
      "source": [
        "#### Analisando os Dados"
      ]
    },
    {
      "cell_type": "code",
      "metadata": {
        "id": "ZhakgXvrk6MG",
        "outputId": "efca8cce-917d-4c14-ac44-eba939567863",
        "colab": {
          "base_uri": "https://localhost:8080/"
        }
      },
      "source": [
        "#Analisando o formato dos dados do banco\n",
        "print(x_train.shape, y_train.shape)\n",
        "print(x_test.shape, y_test.shape)"
      ],
      "execution_count": null,
      "outputs": [
        {
          "output_type": "stream",
          "text": [
            "(60000, 28, 28) (60000,)\n",
            "(10000, 28, 28) (10000,)\n"
          ],
          "name": "stdout"
        }
      ]
    },
    {
      "cell_type": "code",
      "metadata": {
        "id": "RGNkPXOllFnD",
        "outputId": "5984d1f5-630b-4938-902e-92a466f72717",
        "colab": {
          "base_uri": "https://localhost:8080/",
          "height": 282
        }
      },
      "source": [
        "#Analisando uma instância do banco de dados\n",
        "plt.imshow(x_train[600], cmap = \"gray\") \n",
        "print(\"O dígito é \" + str(y_train[600]))"
      ],
      "execution_count": null,
      "outputs": [
        {
          "output_type": "stream",
          "text": [
            "O digito é 9\n"
          ],
          "name": "stdout"
        },
        {
          "output_type": "display_data",
          "data": {
            "image/png": "[encoded data removed]",
            "text/plain": [
              "<Figure size 432x288 with 1 Axes>"
            ]
          },
          "metadata": {
            "tags": [],
            "needs_background": "light"
          }
        }
      ]
    },
    {
      "cell_type": "markdown",
      "metadata": {
        "id": "hMS3K6A-zPpj"
      },
      "source": [
        "#### Criando as classes"
      ]
    },
    {
      "cell_type": "code",
      "metadata": {
        "id": "hMW5C_hNlLri"
      },
      "source": [
        "#Categoriza as instâncias do banco de dados em dez classes\n",
        "y_train_oh = to_categorical(y_train, 10)\n",
        "y_test_oh = to_categorical(y_test, 10)"
      ],
      "execution_count": null,
      "outputs": []
    },
    {
      "cell_type": "markdown",
      "metadata": {
        "id": "-mykSfWkzvDo"
      },
      "source": [
        "### Criando o Modelo\n",
        "\n",
        "Construir a rede neural requer configurar as camadas do modelo, e depois, compilar o modelo. O principal bloco de construção da rede neural é a camada (layer). As camadas (layers) extraem representações dos dados inseridos na rede. \n",
        "\n",
        "\n",
        "\n",
        "\n",
        "\n",
        "\n"
      ]
    },
    {
      "cell_type": "markdown",
      "metadata": {
        "id": "Ru7VdWybLZo7"
      },
      "source": [
        "### Primeira camada\n",
        "\n",
        "A primeira camada da rede, Flatten, transforma o formato da imagem de um array de imagens de duas dimensões (28x28) para um array de uma dimensão (de 28 * 28 = 784 pixels). Podemos interpretar como um enfileramento dos pixels da imagem.  Essa camada não tem paramêtros para aprender, ela só reformata os dados."
      ]
    },
    {
      "cell_type": "code",
      "metadata": {
        "id": "JfWOctBELWqY"
      },
      "source": [
        "#Cria um modelo sequencial\n",
        "modelo = Sequential()\n",
        "#Inseri uma camada Flatten \n",
        "modelo.add(Flatten(input_shape = (28,28)))"
      ],
      "execution_count": null,
      "outputs": []
    },
    {
      "cell_type": "markdown",
      "metadata": {
        "id": "Nh1xx-BxLmCV"
      },
      "source": [
        "### Camadas seguintes\n",
        "Depois dos pixels serem achatados, a rede consite de uma sequência de duas camadas Dense. Essa são camadas neurais densely connected, ou fully connected. A primeira camada Dense tem 128 nós (ou neurônios). A segunda (e última) camda é uma softmax de 10 nós que retorna um array de 10 probabilidades, cuja soma resulta em 1. Cada nó contem um valor que indica a probabilidade de que aquela imagem pertence a uma das 10 classes."
      ]
    },
    {
      "cell_type": "code",
      "metadata": {
        "id": "79uAHDohlP6g"
      },
      "source": [
        "#Inseri uma camada densa utilizando a função relu como a função de ativação\n",
        "modelo.add(Dense(256, activation=\"relu\")) \n",
        "#Inseri uma camada densa utilizando a função relu como a função de ativação\n",
        "modelo.add(Dense(128, activation=\"relu\"))\n",
        "#Inseri uma camada densa utilizando a função softmax como a função de ativação\n",
        "modelo.add(Dense(10, activation=\"softmax\"))\n",
        "\n",
        "#Exibe detalhes sobra o modelo criado\n",
        "modelo.summary() "
      ],
      "execution_count": null,
      "outputs": []
    },
    {
      "cell_type": "markdown",
      "metadata": {
        "id": "jsRNf6HjLuC9"
      },
      "source": [
        "### Compilar o modelo\n",
        "Em seguida, é realizado a compilação do modelo informando os seguintes dados:\n",
        "\n",
        "Optimizer — Isso é como o modelo se atualiza com base no dado que ele vê e sua função loss.\n",
        "\n",
        "Função Loss — Essa mede quão precisa o modelo é durante o treinamento. Queremos minimizar a função para guiar o modelo para direção certa.\n",
        "\n",
        "Métricas — usadas para monitorar os passos de treinamento e teste. O exemplo abaixo usa a acurácia, a fração das imagens que foram classificadas corretamente."
      ]
    },
    {
      "cell_type": "code",
      "metadata": {
        "id": "sDtMdR99LrXV"
      },
      "source": [
        "#Compila o modelo criado\n",
        "modelo.compile(optimizer= \"adam\", loss = 'categorical_crossentropy', metrics=['accuracy'])"
      ],
      "execution_count": null,
      "outputs": []
    },
    {
      "cell_type": "markdown",
      "metadata": {
        "id": "78sf0KOhL7gN"
      },
      "source": [
        "###Treinamento\n",
        "\n",
        "Em seguida, é realizado o treinamento do modelo, alimentando ele com os dados de treinamento, o modelo. Neste exemplo, os dados de treinamento são os arrays x_train e y_train_oh. O modelo aprende como associar as imagens as labels.\n"
      ]
    },
    {
      "cell_type": "code",
      "metadata": {
        "id": "eVnpcUBNL8Ju"
      },
      "source": [
        "#Treina o modelo criado passando os dados de predição e os outputs esperados \n",
        "modelo.fit(x_train/255, y_train_oh, batch_size= 32, epochs= 1)"
      ],
      "execution_count": null,
      "outputs": []
    },
    {
      "cell_type": "markdown",
      "metadata": {
        "id": "qFvHwrY9zrST"
      },
      "source": [
        "#### Avaliando o Modelo\n",
        "\n",
        "O passo seguinte é colocar o modelo para fazer previsões sobre o conjunto de teste — nesse exemplo, o array x_test. Verificamos se as previsões combinaram com as labels do array y_train_oh."
      ]
    },
    {
      "cell_type": "code",
      "metadata": {
        "id": "i_fQkR-QlV6D",
        "outputId": "7e37b4eb-f0f8-4ea5-91ae-41de9ba4b537",
        "colab": {
          "base_uri": "https://localhost:8080/"
        }
      },
      "source": [
        "modelo.evaluate(x_test/255, y_test_oh)"
      ],
      "execution_count": null,
      "outputs": [
        {
          "output_type": "stream",
          "text": [
            "313/313 [==============================] - 0s 1ms/step - loss: 0.1111 - accuracy: 0.9643\n"
          ],
          "name": "stdout"
        },
        {
          "output_type": "execute_result",
          "data": {
            "text/plain": [
              "[0.11109666526317596, 0.9642999768257141]"
            ]
          },
          "metadata": {
            "tags": []
          },
          "execution_count": 7
        }
      ]
    }
  ]
}