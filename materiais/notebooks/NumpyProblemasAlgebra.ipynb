{
  "nbformat": 4,
  "nbformat_minor": 0,
  "metadata": {
    "colab": {
      "name": "NumpyProblemasAlgebra.ipynb",
      "provenance": []
    },
    "kernelspec": {
      "name": "python3",
      "display_name": "Python 3"
    }
  },
  "cells": [
    {
      "cell_type": "markdown",
      "metadata": {
        "id": "RTJy2zXrxxn0"
      },
      "source": [
        "# **Utilizando Numpy na resolução de problemas de álgebra linear** "
      ]
    },
    {
      "cell_type": "markdown",
      "metadata": {
        "id": "BmVAMiSF-mtr"
      },
      "source": [
        "É possível usar a biblioteca Numpy para resolver diversos problemas de álgebra linear. Primeiramente, vamos ver como realizar operações mais básicas com matrizes.\n",
        "\n",
        "_Este Notebook acessará conteúdos abordados no **e-book** [TAIL — Introdução à Matemática para Inteligência Artificial](https://www.overleaf.com/read/gtspgphgvstz), seja livre para revisitá-lo quando necessário._"
      ]
    },
    {
      "cell_type": "markdown",
      "metadata": {
        "id": "zvBpXIE7igP8"
      },
      "source": [
        "### Importar biblioteca"
      ]
    },
    {
      "cell_type": "code",
      "metadata": {
        "id": "o_NtPQ9Dp9gC"
      },
      "source": [
        "import numpy as np"
      ],
      "execution_count": null,
      "outputs": []
    },
    {
      "cell_type": "markdown",
      "metadata": {
        "id": "4Zfp3wObikDw"
      },
      "source": [
        "## **Soma de matrizes**\n",
        "\n",
        "Vamos declarar duas matrizes 2x2 para somá-las _(e-book: Equações 16 e 17, p. 3)_."
      ]
    },
    {
      "cell_type": "code",
      "metadata": {
        "id": "NO8sTvwQYRX2",
        "outputId": "1c19d8f8-0519-4713-dd7c-343f976d6bda",
        "colab": {
          "base_uri": "https://localhost:8080/",
          "height": 156
        }
      },
      "source": [
        "M1 = np.array([\n",
        "               [3, 8], \n",
        "               [1, -5]\n",
        "               ])\n",
        "\n",
        "M2 = np.array([\n",
        "               [-3, 7], \n",
        "               [11, 0]\n",
        "               ])\n",
        "\n",
        "print(M1) #Printando as duas matrizes\n",
        "print()\n",
        "print(M2)\n",
        "print()\n",
        "\n",
        "M3 = M1 + M2 #Somando as duas\n",
        "\n",
        "print(M3) #Printando o resultado"
      ],
      "execution_count": null,
      "outputs": [
        {
          "output_type": "stream",
          "text": [
            "[[ 3  8]\n",
            " [ 1 -5]]\n",
            "\n",
            "[[-3  7]\n",
            " [11  0]]\n",
            "\n",
            "[[ 0 15]\n",
            " [12 -5]]\n"
          ],
          "name": "stdout"
        }
      ]
    },
    {
      "cell_type": "markdown",
      "metadata": {
        "id": "6sI3ZBC9i2UC"
      },
      "source": [
        "## **Multiplicação de matrizes**\n",
        "\n",
        "Vamos usar as mesmas matrizes M1 e M2, agora as multiplicando _(e-book: Multiplicação de matrizes, p. 3-4)_."
      ]
    },
    {
      "cell_type": "code",
      "metadata": {
        "id": "HEZnN5lZZGln",
        "outputId": "c41d1e7a-8d75-4b5a-a3b6-10994edb8e69",
        "colab": {
          "base_uri": "https://localhost:8080/",
          "height": 208
        }
      },
      "source": [
        "#Existem diversas maneiras de multiplicar matrizes:\n",
        "M4 = np.matmul(M1, M2) \n",
        "M5 = M1.dot(M2)\n",
        "M6 = np.dot(M1, M2)\n",
        "M7 = M1 @ M2\n",
        "\n",
        "print(M4, M5, M6, M7, sep='\\n\\n')"
      ],
      "execution_count": null,
      "outputs": [
        {
          "output_type": "stream",
          "text": [
            "[[ 79  21]\n",
            " [-58   7]]\n",
            "\n",
            "[[ 79  21]\n",
            " [-58   7]]\n",
            "\n",
            "[[ 79  21]\n",
            " [-58   7]]\n",
            "\n",
            "[[ 79  21]\n",
            " [-58   7]]\n"
          ],
          "name": "stdout"
        }
      ]
    },
    {
      "cell_type": "markdown",
      "metadata": {
        "id": "3n7yoYOdkpId"
      },
      "source": [
        "## **Matriz inversa, transposta e a determinante**"
      ]
    },
    {
      "cell_type": "code",
      "metadata": {
        "id": "cVMr8VaLaDvo",
        "outputId": "8d5b2db9-cd94-46fc-c2a9-aaf5863cbd8c",
        "colab": {
          "base_uri": "https://localhost:8080/",
          "height": 139
        }
      },
      "source": [
        "print(M1.transpose()) #Printando a transposta da matriz M1, uma outra maneira seria M1.T (e-book: Definição 1.5, p. 5)\n",
        "print()\n",
        "print(np.linalg.inv(M2)) #Printando a inversa da matriz M2 (e-book: Definição 1.7, p. 5)\n",
        "print()\n",
        "print(np.linalg.det(M1)) #Printando o determinante da matriz M1 (e-book: Determinante de uma matriz, p. 4)"
      ],
      "execution_count": null,
      "outputs": [
        {
          "output_type": "stream",
          "text": [
            "[[ 3  1]\n",
            " [ 8 -5]]\n",
            "\n",
            "[[0.         0.09090909]\n",
            " [0.14285714 0.03896104]]\n",
            "\n",
            "-23.0\n"
          ],
          "name": "stdout"
        }
      ]
    },
    {
      "cell_type": "markdown",
      "metadata": {
        "id": "KNJGsPRY8Ban"
      },
      "source": [
        "Um exemplo de equação que utiliza esses conceitos é a seguinte:\n",
        "\n",
        "$$\\hat{\\beta}=(X^TX)^{-1}X^TY $$\n",
        "\n",
        "Essa equação é usada para calcular os coeficientes da função em regressão linear, um conceito abordado em outro notebook.\n",
        "\n",
        "Vejamos como resolvê-la:"
      ]
    },
    {
      "cell_type": "code",
      "metadata": {
        "id": "CmdJcOHj-Hfu",
        "outputId": "7a2a71b0-0138-4960-fe52-ff09d8b04393",
        "colab": {
          "base_uri": "https://localhost:8080/",
          "height": 255
        }
      },
      "source": [
        "#Para resolver essa equação, vamos declarar a matriz X e a matriz Y\n",
        "\n",
        "y = np.array([[124], \n",
        "              [95], \n",
        "              [71], \n",
        "              [45], \n",
        "              [18]\n",
        "              ])\n",
        "\n",
        "x = np.array([\n",
        "              [1, 49], \n",
        "              [1, 69], \n",
        "              [1, 89], \n",
        "              [1, 99], \n",
        "              [1, 109]\n",
        "              ])\n",
        "\n",
        "print(x) #Assim ficaram as matrizes usando esses valores\n",
        "print()\n",
        "print(y)\n",
        "\n",
        "xtx = np.matmul(x.transpose(), x) \n",
        "\n",
        "xty = np.matmul(x.transpose(), y)\n",
        "\n",
        "xtxinv = np.linalg.inv(xtx)\n",
        "#Todos os valores necessários foram obtidos\n",
        "\n",
        "beta = np.matmul(xtxinv, xty)\n",
        "\n",
        "print()\n",
        "print(beta) #Resultado final"
      ],
      "execution_count": null,
      "outputs": [
        {
          "output_type": "stream",
          "text": [
            "[[  1  49]\n",
            " [  1  69]\n",
            " [  1  89]\n",
            " [  1  99]\n",
            " [  1 109]]\n",
            "\n",
            "[[124]\n",
            " [ 95]\n",
            " [ 71]\n",
            " [ 45]\n",
            " [ 18]]\n",
            "\n",
            "[[211.27068966]\n",
            " [ -1.69482759]]\n"
          ],
          "name": "stdout"
        }
      ]
    },
    {
      "cell_type": "code",
      "metadata": {
        "id": "wLQ19awHbIP7",
        "outputId": "4b4dd918-a161-4358-c7f3-d85f48224899",
        "colab": {
          "base_uri": "https://localhost:8080/",
          "height": 282
        }
      },
      "source": [
        "import matplotlib.pyplot as plt\n",
        "\n",
        "f = lambda x: x * (-1.6948) + 211.27\n",
        "plt.scatter(x[:, 1],y)\n",
        "plt.plot(x[:,1], f(x[:, 1]))\n",
        "\n",
        "#Nesse gráfico podemos ver a regressão obtida, e o quão próximo ela foi dos valores reais\n",
        "# (Os pontos são os valores de Y e a reta é a regressão, com os valores preditos)"
      ],
      "execution_count": null,
      "outputs": [
        {
          "output_type": "execute_result",
          "data": {
            "text/plain": [
              "[<matplotlib.lines.Line2D at 0x7f277f40ee10>]"
            ]
          },
          "metadata": {
            "tags": []
          },
          "execution_count": 27
        },
        {
          "output_type": "display_data",
          "data": {
            "image/png": "[encoded data removed]",
            "text/plain": [
              "<Figure size 432x288 with 1 Axes>"
            ]
          },
          "metadata": {
            "tags": [],
            "needs_background": "light"
          }
        }
      ]
    },
    {
      "cell_type": "markdown",
      "metadata": {
        "id": "1tktbTOHqdT-"
      },
      "source": [
        "  \n",
        "\n",
        "  Além disso, a biblioteca pode ser usada para solucionar sistemas de equações lineares com *m* equações e *n* incógnitas, representados como:\n",
        "\n",
        "$$\\begin{cases}\n",
        "            \\ a_{11}x_1 &+& \\cdots &+& a_{1n}x_n &=& b_1\\ \\\\\n",
        "            \\ a_{21}x_1 &+& \\cdots &+& a_{2n}x_n &=& b_2\\ \\\\\n",
        "            \\ \\vdots & \\vdots & \\ddots & \\vdots & \\vdots & \\vdots & \\vdots\\ \\\\\n",
        "            \\ a_{m1}x_1 &+& \\cdots &+& a_{mn}x_n &=& b_m\\ \\\\\n",
        "  \\end{cases}$$\n",
        "\n",
        "\n",
        "Onde: $$a_{ij} , b_i ∈ R, i = 1,...,m\\text{  e  }j = 1,...,n.$$\n",
        "\n",
        "\n",
        "---\n",
        "\n",
        "\n",
        "Para exemplificar isso, temos o sistema de equações:\n",
        "\n",
        "\n",
        "\n",
        "> x - 4y + 2z + w = -32\n",
        "\n",
        "\n",
        "> x - y + 7z  + 9w = 14\n",
        "\n",
        "\n",
        "> -x  + y + 3z + w = 11\n",
        "\n",
        "\n",
        "> x - 2y + z - 4w = -4\n",
        "\n",
        "\n",
        "---\n",
        "\n",
        "  Esse sistema pode ser escrito na forma matricial\n",
        "\n",
        " **AX = B**\n",
        "\n",
        "  Em que, A é a matriz dos coeficientes, X é a matriz das incógnitas e B é a matriz dos termos independentes, dessa forma:\n"
      ]
    },
    {
      "cell_type": "markdown",
      "metadata": {
        "id": "jg_jPCUVJ_zc"
      },
      "source": [
        "$$ A=\n",
        "\\begin{vmatrix}\n",
        "            \\ a_{11} & a_{12} & a_{13} & \\cdots & a_{1n}\\ \\\\\n",
        "            \\ a_{21} & a_{22} & a_{23} & \\cdots & a_{2n}\\ \\\\\n",
        "            \\ a_{31} & a_{32} & a_{33} & \\cdots & a_{3n}\\ \\\\\n",
        "            \\ \\vdots & \\vdots & \\vdots & \\ddots & \\vdots\\ \\\\\n",
        "            \\ a_{m1} & a_{m2} & a_{m3} & \\cdots & a_{mn}\\ \\\\\n",
        "\\end{vmatrix} $$\n",
        "\n",
        "$$$$ \n",
        "\n",
        "$$ X= \n",
        "\\begin{vmatrix}\n",
        "\\ x_1\\ \\\\\n",
        "\\ x_2\\ \\\\\n",
        "\\ \\vdots\\ \\\\\n",
        "\\ x_n\\ \\\\\n",
        "\\end{vmatrix} $$\n",
        "\n",
        "$$$$ \n",
        "\n",
        "$$ B= \n",
        "\\begin{vmatrix}\n",
        "\\ b_1\\ \\\\\n",
        "\\ b_2\\ \\\\\n",
        "\\ \\vdots\\ \\\\\n",
        "\\ b_m\\ \\\\\n",
        "\\end{vmatrix} $$\n"
      ]
    },
    {
      "cell_type": "markdown",
      "metadata": {
        "id": "nmJsyq8JFjoT"
      },
      "source": [
        "A primeira linha de A são os coeficientes da primeira equação, a segunda são os da segunda equação e assim em diante.\n",
        "\n",
        " Na matriz X, $x_1$ é a primeira variável da equação, $x_2$ a segunda, etc."
      ]
    },
    {
      "cell_type": "markdown",
      "metadata": {
        "id": "ZzKMzqzbMOq-"
      },
      "source": [
        "Para resolver esse sistema usando Python, primeiro temos que definir as matrizes como arrays, da seguinte forma:"
      ]
    },
    {
      "cell_type": "code",
      "metadata": {
        "id": "AbI_WdsHFig2",
        "outputId": "8667526a-45cb-4ed2-df4a-11fd6608c99d",
        "colab": {
          "base_uri": "https://localhost:8080/",
          "height": 85
        }
      },
      "source": [
        "#Definindo as matrizes\n",
        "A = np.array([\n",
        "              [1, -4, 2, 1], \n",
        "              [1, -1, 7, 9], \n",
        "              [-1, 1, 3, 1], \n",
        "              [1, -2, 1, -4]\n",
        "              ])\n",
        "\n",
        "B = np.array([\n",
        "              [-32],\n",
        "              [14], \n",
        "              [11], \n",
        "              [-4]\n",
        "              ])\n",
        "\n",
        "print(A)"
      ],
      "execution_count": null,
      "outputs": [
        {
          "output_type": "stream",
          "text": [
            "[[ 1 -4  2  1]\n",
            " [ 1 -1  7  9]\n",
            " [-1  1  3  1]\n",
            " [ 1 -2  1 -4]]\n"
          ],
          "name": "stdout"
        }
      ]
    },
    {
      "cell_type": "markdown",
      "metadata": {
        "id": "Qiif-F5eHCEi"
      },
      "source": [
        "Para descobrirmos os valores da matriz X na equação **AX = B**, precisamos isolá-la.\n",
        "\n",
        "Multiplicando a inversa de A nos dois lados, temos:\n",
        "\n",
        "$$A^{-1}AX=A^{-1}B$$\n",
        "\n",
        "Multiplicando a inversa de uma matriz por ela resulta na matriz identidade, logo:\n",
        "\n",
        "$$X=A^{-1}B$$\n",
        "\n",
        "Então, conseguimos isolar X, agora é só resolver a equação"
      ]
    },
    {
      "cell_type": "code",
      "metadata": {
        "id": "_b6xytS5HGOV",
        "outputId": "0955d58e-7260-4c9f-c025-2ee6e855a440",
        "colab": {
          "base_uri": "https://localhost:8080/",
          "height": 85
        }
      },
      "source": [
        "#Vamos achar a inversa de A\n",
        "\n",
        "A_inversa = np.linalg.inv(A)\n",
        "\n",
        "#Agora podemos multiplicar a inversa de A com B, para descobrir os valores dos coeficientesw\n",
        "X = np.matmul(A_inversa, B)\n",
        "\n",
        "print(X)\n",
        "#Vemos que os resultados aproximados são x = 11.75, y = 12.5278, z = 3,861 e w = -1,361"
      ],
      "execution_count": null,
      "outputs": [
        {
          "output_type": "stream",
          "text": [
            "[[11.75      ]\n",
            " [12.52777778]\n",
            " [ 3.86111111]\n",
            " [-1.36111111]]\n"
          ],
          "name": "stdout"
        }
      ]
    },
    {
      "cell_type": "markdown",
      "metadata": {
        "id": "HicB5Wcb9l7L"
      },
      "source": [
        "Existe outra forma de resolver mais simples também presente no pacote, usando a função *linalg.solve*, feita para esse tipo de problema"
      ]
    },
    {
      "cell_type": "code",
      "metadata": {
        "id": "_GUHuQ5W-QcL",
        "outputId": "46c33449-2097-4d3f-d6bd-c243ad8493ca",
        "colab": {
          "base_uri": "https://localhost:8080/",
          "height": 87
        }
      },
      "source": [
        "print(np.linalg.solve (A,B))"
      ],
      "execution_count": null,
      "outputs": [
        {
          "output_type": "stream",
          "text": [
            "[[11.75      ]\n",
            " [12.52777778]\n",
            " [ 3.86111111]\n",
            " [-1.36111111]]\n"
          ],
          "name": "stdout"
        }
      ]
    },
    {
      "cell_type": "markdown",
      "metadata": {
        "id": "FBZTWTUvtZes"
      },
      "source": [
        "---\n",
        "\n",
        "## **Exercícios**"
      ]
    },
    {
      "cell_type": "markdown",
      "metadata": {
        "id": "8m2O2lLgf2Iv"
      },
      "source": [
        "\n",
        "\n",
        "Agora vamos realizar alguns exercícios sobre o assunto aprendido.\n",
        "\n",
        "####1 - Resolva os sistemas a seguir utilizando matrizes:\n",
        "\n",
        "\\begin{cases}\n",
        "x+2y-3z=1 \\\\\n",
        "3x-y+2z=0 \\\\\n",
        "2x+y+z=2 \\\\\n",
        "\\end{cases}"
      ]
    },
    {
      "cell_type": "code",
      "metadata": {
        "id": "lCKjBwmthMa9"
      },
      "source": [
        "#R:\n",
        "a = np.array([\n",
        "              [1, 2, -3], \n",
        "              [3, -1, 2],  \n",
        "              [2, 1, 1]\n",
        "              ])\n",
        "  \n",
        "b = np.array([[1],\n",
        "              [0],\n",
        "              [2]\n",
        "              ])"
      ],
      "execution_count": null,
      "outputs": []
    },
    {
      "cell_type": "markdown",
      "metadata": {
        "id": "nDG0VsxLoeqS"
      },
      "source": [
        "\\begin{cases}\n",
        "b+c=87 \\\\\n",
        "a+c=123 \\\\\n",
        "a+b=66 \\\\\n",
        "\\end{cases}"
      ]
    },
    {
      "cell_type": "code",
      "metadata": {
        "id": "8H0Z1EFool98"
      },
      "source": [
        "#R:\n",
        "a = np.array([\n",
        "              [0, 1, 1], \n",
        "              [1, 0, 1],  \n",
        "              [1, 1, 0]\n",
        "              ])\n",
        "  \n",
        "b = np.array([[87],\n",
        "              [123],\n",
        "              [66]\n",
        "              ])"
      ],
      "execution_count": null,
      "outputs": []
    },
    {
      "cell_type": "markdown",
      "metadata": {
        "id": "8aBrG9zy5LAw"
      },
      "source": [
        "####2 - Declare a seguinte matriz:\n",
        "$$ A=\n",
        "\\begin{vmatrix}\n",
        "\\ 1 & 3 & 0 \\ \\\\\n",
        "\\ 2 & 5 & 1 \\ \\\\\n",
        "\\ 2 & 1 & 3 \\ \\\\\n",
        "\\end{vmatrix} $$\n",
        "\n",
        "Obtenha o determinante da inversa da matriz transposta dela.\n",
        "\n",
        "Ou seja, o determinante de :\n",
        "\n",
        " $$(A^{T})^{-1}$$"
      ]
    },
    {
      "cell_type": "code",
      "metadata": {
        "id": "OLAGCPYh6XZF"
      },
      "source": [
        "#R:\n",
        "A = np.array([[1, 3, 0],\n",
        "             [2, 5, 1],\n",
        "             [2, 1, 3]])"
      ],
      "execution_count": null,
      "outputs": []
    }
  ]
}