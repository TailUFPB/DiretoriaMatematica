{
  "nbformat": 4,
  "nbformat_minor": 0,
  "metadata": {
    "colab": {
      "name": "NumPy",
      "provenance": [],
      "collapsed_sections": []
    },
    "kernelspec": {
      "name": "python3",
      "display_name": "Python 3"
    }
  },
  "cells": [
    {
      "cell_type": "markdown",
      "metadata": {
        "id": "7qh_NzLDMEk_"
      },
      "source": [
        "# **Introdução ao NumPy**"
      ]
    },
    {
      "cell_type": "markdown",
      "metadata": {
        "id": "A5FLhkU7MNMt"
      },
      "source": [
        "NumPy é uma biblioteca do Python utilizada para computação científica. Através dele, é possível criar *arrays*, que podem representar vetores e matrizes multidimensionais, e utilizar funções e operações para executar cálculos numéricos.\n",
        "\n",
        "A documentação completa do NumPy pode ser encontrada [aqui](https://numpy.org/doc/)\n",
        "\n",
        "_Este Notebook acessará conteúdos abordados no **e-book** [TAIL — Introdução à Matemática para Inteligência Artificial](https://www.overleaf.com/read/gtspgphgvstz), seja livre para revisitá-lo quando necessário._"
      ]
    },
    {
      "cell_type": "markdown",
      "metadata": {
        "id": "7IL5gkEMiRT1"
      },
      "source": [
        "### Importar biblioteca"
      ]
    },
    {
      "cell_type": "markdown",
      "metadata": {
        "id": "La_cqM7iT6SG"
      },
      "source": [
        "O primeiro passo para sua utilização é importar a biblioteca.\n",
        "\n",
        "Caso queira baixar a ultima versão, abra o prompt de comando e escreva *pip install numpy -U*"
      ]
    },
    {
      "cell_type": "code",
      "metadata": {
        "id": "sfIHyK3MUK2_"
      },
      "source": [
        "#Importar o NumPy\n",
        "\n",
        "import numpy as np        #np é um apelido padrão dado ao NumPy"
      ],
      "execution_count": null,
      "outputs": []
    },
    {
      "cell_type": "markdown",
      "metadata": {
        "id": "ZhqBS6dYUqOK"
      },
      "source": [
        "##**Introdução aos Arrays**"
      ]
    },
    {
      "cell_type": "markdown",
      "metadata": {
        "id": "TqnRPa4xbdSI"
      },
      "source": [
        "Um *array* é uma lista homogênea, multidimensional, indexada por tuplas de inteiros positivos e é a principal ferramenta do NumPy.\n",
        "No pacote, um array é um objeto chamado *ndarray* e pode ser criado pelo método *np.array()*.\n",
        "\n",
        "Arrays unidimensionais são usados para representar vetores e os multidimensionais representam as matrizes (_e-book: Introdução a matrizes, p. 1_)."
      ]
    },
    {
      "cell_type": "code",
      "metadata": {
        "id": "BnRSgcxubnDT",
        "outputId": "8b844b04-2766-4d9a-d637-3e4fbc1d0292",
        "colab": {
          "base_uri": "https://localhost:8080/",
          "height": 35
        }
      },
      "source": [
        "#Criando um array unidimensional a partir de uma lista \n",
        "\n",
        "vetor = np.array( [1, 2, 3, 4] )\n",
        "print(vetor)"
      ],
      "execution_count": null,
      "outputs": [
        {
          "output_type": "stream",
          "text": [
            "[1 2 3 4]\n"
          ],
          "name": "stdout"
        }
      ]
    },
    {
      "cell_type": "code",
      "metadata": {
        "id": "iMnJ-32_fLtc",
        "outputId": "a04f90ea-97e1-486e-eb8a-3bf039656b26",
        "colab": {
          "base_uri": "https://localhost:8080/",
          "height": 35
        }
      },
      "source": [
        "print(type(vetor))"
      ],
      "execution_count": null,
      "outputs": [
        {
          "output_type": "stream",
          "text": [
            "<class 'numpy.ndarray'>\n"
          ],
          "name": "stdout"
        }
      ]
    },
    {
      "cell_type": "markdown",
      "metadata": {
        "id": "07rjvZM4gTf1"
      },
      "source": [
        "## **Propriedades**\n",
        "\n",
        "Apesar de ter formato semelhante a uma *lista*, o programa já entende que o *array* representa um vetor, assim, as operações com *arrays* seguem as propriedades de álgebra linear de forma simples e direta _(e-book: Equações 15 e 16, p. 2-3; Propriedades, p. 3)_. Para operações que envolvem muitos valores e dimensões, essa vetorização representa uma grande vantagem na velocidade de processamento. "
      ]
    },
    {
      "cell_type": "code",
      "metadata": {
        "id": "n2UHDpF-iWun",
        "outputId": "ea7b02bd-c09c-4611-c82a-85c2b66e03f5",
        "colab": {
          "base_uri": "https://localhost:8080/",
          "height": 69
        }
      },
      "source": [
        "numeros = [1, 2, 3, 4, 5]   # Valores que serão usados neste exemplo\n",
        "\n",
        "x_lista = list(numeros) # Criando uma lista com os valores do exemplo\n",
        "y_lista = [] # Criação de uma lista vazia para posteriormente incluir os cálculos\n",
        "for i in x_lista:\n",
        "    y_lista.append(2 * i + 5) # A função .append adiciona o termo entre parenteses à lista, neste caso, adicionando cada resposta por iteração\n",
        "\n",
        "print('y calculado pela lista', y_lista)\n",
        "print()\n",
        "\n",
        "x_array = np.array(numeros)\n",
        "y_array = 2 * x_array + 5\n",
        "\n",
        "print('y calculado pela array', y_array)"
      ],
      "execution_count": null,
      "outputs": [
        {
          "output_type": "stream",
          "text": [
            "y calculado pela lista [7, 9, 11, 13, 15]\n",
            "\n",
            "y calculado pela array [ 7  9 11 13 15]\n"
          ],
          "name": "stdout"
        }
      ]
    },
    {
      "cell_type": "markdown",
      "metadata": {
        "id": "allprrkejmRF"
      },
      "source": [
        "Note que não foi necessário utilizar o bloco *__for__*, pois o cálculo de um *array* resultará numa resposta de mesmo tipo."
      ]
    },
    {
      "cell_type": "markdown",
      "metadata": {
        "id": "S3Xf_tGEjZ5R"
      },
      "source": [
        "## **Criando Arrays**"
      ]
    },
    {
      "cell_type": "markdown",
      "metadata": {
        "id": "BbI6EjzXrkUy"
      },
      "source": [
        "O pacote conta com outras funções para criar *arrays* de forma mais rápida."
      ]
    },
    {
      "cell_type": "code",
      "metadata": {
        "id": "Z2UkF4wVscpj",
        "outputId": "374eced6-eab4-4c22-8920-403354409a38",
        "colab": {
          "base_uri": "https://localhost:8080/",
          "height": 35
        }
      },
      "source": [
        "#Cria um vetor que segue uma progressão aritmética\n",
        "\n",
        "np.arange(0, 50, 10)"
      ],
      "execution_count": null,
      "outputs": [
        {
          "output_type": "execute_result",
          "data": {
            "text/plain": [
              "array([ 0, 10, 20, 30, 40])"
            ]
          },
          "metadata": {
            "tags": []
          },
          "execution_count": 67
        }
      ]
    },
    {
      "cell_type": "code",
      "metadata": {
        "id": "LmQZbpRes6lF",
        "outputId": "b18b00ac-7697-40ab-9532-f7cc6f0b3682",
        "colab": {
          "base_uri": "https://localhost:8080/",
          "height": 52
        }
      },
      "source": [
        "#Cria um vetor contendo um número pré determinado de valores igualmente distribuídos em um intervalo predefinido, note que o valor final está incluído\n",
        "\n",
        "np.linspace(0, 50, 10)"
      ],
      "execution_count": null,
      "outputs": [
        {
          "output_type": "execute_result",
          "data": {
            "text/plain": [
              "array([ 0.        ,  5.55555556, 11.11111111, 16.66666667, 22.22222222,\n",
              "       27.77777778, 33.33333333, 38.88888889, 44.44444444, 50.        ])"
            ]
          },
          "metadata": {
            "tags": []
          },
          "execution_count": 6
        }
      ]
    },
    {
      "cell_type": "markdown",
      "metadata": {
        "id": "cQIxWbaa-KDX"
      },
      "source": [
        "Também pode-se criar um *array* com mais de uma dimensão."
      ]
    },
    {
      "cell_type": "code",
      "metadata": {
        "id": "aMqiESCnfdYE",
        "outputId": "ddede421-d829-4e46-a2b5-04f300f24d50",
        "colab": {
          "base_uri": "https://localhost:8080/",
          "height": 69
        }
      },
      "source": [
        "#Criando uma matriz 2x2\n",
        "\n",
        "matriz = np.array([\n",
        "                   [1, 2], \n",
        "                   [3, 4]\n",
        "                  ])\n",
        "print(matriz)\n",
        "print('O formato da matriz é: '+ str(matriz.shape))           "
      ],
      "execution_count": null,
      "outputs": [
        {
          "output_type": "stream",
          "text": [
            "[[1 2]\n",
            " [3 4]]\n",
            "O formato da matriz é: (2, 2)\n"
          ],
          "name": "stdout"
        }
      ]
    },
    {
      "cell_type": "code",
      "metadata": {
        "id": "x4RZ09NhPK8w",
        "outputId": "9adae106-42ff-411d-e91f-24ea4cb10dda",
        "colab": {
          "base_uri": "https://localhost:8080/",
          "height": 69
        }
      },
      "source": [
        "#Redimensiona a array nas dimensoes atribuidas\n",
        "a = np.array( [1, 2, 3, 4, 5, 6] )\n",
        "a.reshape(3, 2)"
      ],
      "execution_count": null,
      "outputs": [
        {
          "output_type": "execute_result",
          "data": {
            "text/plain": [
              "array([[1, 2],\n",
              "       [3, 4],\n",
              "       [5, 6]])"
            ]
          },
          "metadata": {
            "tags": []
          },
          "execution_count": 8
        }
      ]
    },
    {
      "cell_type": "markdown",
      "metadata": {
        "id": "1OFB9UUdCLQP"
      },
      "source": [
        "Se o segundo valor assinalado for o de -1, a função calcula automaticamente o valor necessário para satisfazer a outra dimensão."
      ]
    },
    {
      "cell_type": "code",
      "metadata": {
        "id": "9XVEbLmNCG2-",
        "outputId": "2eb79cb5-94a0-4fad-dc1f-2bc47f50ce78",
        "colab": {
          "base_uri": "https://localhost:8080/",
          "height": 69
        }
      },
      "source": [
        "#Mesmo exemplo que o anterior, utilizando -1\n",
        "\n",
        "a.reshape(3, -1)                   #a única maneira de formar uma matriz de 6 elementos e 3 linhas é com 2 colunas"
      ],
      "execution_count": null,
      "outputs": [
        {
          "output_type": "execute_result",
          "data": {
            "text/plain": [
              "array([[1, 2],\n",
              "       [3, 4],\n",
              "       [5, 6]])"
            ]
          },
          "metadata": {
            "tags": []
          },
          "execution_count": 9
        }
      ]
    },
    {
      "cell_type": "code",
      "metadata": {
        "id": "AVa4k2dZtkgA",
        "outputId": "24146703-d2fd-41d0-d693-3e09e1e15a0d",
        "colab": {
          "base_uri": "https://localhost:8080/",
          "height": 87
        }
      },
      "source": [
        "#Cria uma matriz de valores zero\n",
        "\n",
        "np.zeros( (4, 5) )"
      ],
      "execution_count": null,
      "outputs": [
        {
          "output_type": "execute_result",
          "data": {
            "text/plain": [
              "array([[0., 0., 0., 0., 0.],\n",
              "       [0., 0., 0., 0., 0.],\n",
              "       [0., 0., 0., 0., 0.],\n",
              "       [0., 0., 0., 0., 0.]])"
            ]
          },
          "metadata": {
            "tags": []
          },
          "execution_count": 10
        }
      ]
    },
    {
      "cell_type": "code",
      "metadata": {
        "id": "yAi6QqU5yNhI",
        "outputId": "d07a1d5d-dd1a-413b-bac2-a0e9d65105a4",
        "colab": {
          "base_uri": "https://localhost:8080/",
          "height": 87
        }
      },
      "source": [
        "#Cria uma matriz indentidade (e-book: Definição 1.3, p. 2)\n",
        "\n",
        "np.eye(4)"
      ],
      "execution_count": null,
      "outputs": [
        {
          "output_type": "execute_result",
          "data": {
            "text/plain": [
              "array([[1., 0., 0., 0.],\n",
              "       [0., 1., 0., 0.],\n",
              "       [0., 0., 1., 0.],\n",
              "       [0., 0., 0., 1.]])"
            ]
          },
          "metadata": {
            "tags": []
          },
          "execution_count": 11
        }
      ]
    },
    {
      "cell_type": "markdown",
      "metadata": {
        "id": "Mm2t7gsqd7qe"
      },
      "source": [
        "##**Indexação e Iteração em um *Array***"
      ]
    },
    {
      "cell_type": "markdown",
      "metadata": {
        "id": "jKP0uLaieSJW"
      },
      "source": [
        "Em *arrays* unidimensionais, os metodos de indexação, fatiação e iteração são semelhantes aos de uma lista comum. Em *arrays* multidimensionais, existem múltiplas maneiras de fazer isto."
      ]
    },
    {
      "cell_type": "code",
      "metadata": {
        "id": "O1lKuTygfzJE",
        "outputId": "f0a7507d-c6d0-4288-bfc8-a7fbfb66726c",
        "colab": {
          "base_uri": "https://localhost:8080/",
          "height": 329
        }
      },
      "source": [
        "#indexação de array unidimensional semelhante às listas:\n",
        "a = np.arange(10)\n",
        "print('a:',\n",
        "      a,'',\n",
        "      a[2],\n",
        "      a[2:5],\n",
        "      a[:2],\n",
        "      a[7:], \n",
        "      sep='\\n')\n",
        "print('\\n','b:')\n",
        "\n",
        "b = a.reshape(2,5) # redimensionamento do array para as dimensoes entre parênteses.\n",
        "\n",
        "print(b, '\\n')\n",
        "print(b[1, 3]) # elemento da segunda linha e quarta coluna\n",
        "print(b[:, 2]) # terceira coluna inteira\n",
        "print(b[0, 0:3]) # da primeira à terceira coluna presentes na primeira linha\n",
        "\n",
        "# também é possível indexar matrizes utilizando listas de listas:\n",
        "print(b[:, [2, 3]]) # terceira e quarta coluna\n",
        "print(b[[0, 1], [2, 3]]) # elementos b[0, 2] e b[1, 3]"
      ],
      "execution_count": null,
      "outputs": [
        {
          "output_type": "stream",
          "text": [
            "a:\n",
            "[0 1 2 3 4 5 6 7 8 9]\n",
            "\n",
            "2\n",
            "[2 3 4]\n",
            "[0 1]\n",
            "[7 8 9]\n",
            "\n",
            " b:\n",
            "[[0 1 2 3 4]\n",
            " [5 6 7 8 9]] \n",
            "\n",
            "8\n",
            "[2 7]\n",
            "[0 1 2]\n",
            "[[2 3]\n",
            " [7 8]]\n",
            "[2 8]\n"
          ],
          "name": "stdout"
        }
      ]
    },
    {
      "cell_type": "markdown",
      "metadata": {
        "id": "brs-6Y0iINwq"
      },
      "source": [
        "Uma função muito útil dos *arrays* é a indexação booleana, atribuindo valores que atendem as condições impostas."
      ]
    },
    {
      "cell_type": "code",
      "metadata": {
        "id": "N08rZVkwJLzJ",
        "outputId": "221ade87-4219-4661-aafc-fe718da14c6c",
        "colab": {
          "base_uri": "https://localhost:8080/",
          "height": 225
        }
      },
      "source": [
        "c = b < 5  # Retorna True em valores menores que 5\n",
        "print(c, '\\n')\n",
        "\n",
        "d = b % 2 == 0 # Retorna True em valores pares\n",
        "print(d, '\\n') \n",
        "\n",
        "# É possível retornar elementos que atendem à condição em um array unidimensional\n",
        "print(b[c]) \n",
        "print()\n",
        "print(b[d])\n",
        "print()\n",
        "print(b) # Note que isso não altera a matriz original\n"
      ],
      "execution_count": null,
      "outputs": [
        {
          "output_type": "stream",
          "text": [
            "[[ True  True  True  True  True]\n",
            " [False False False False False]] \n",
            "\n",
            "[[ True False  True False  True]\n",
            " [False  True False  True False]] \n",
            "\n",
            "[0 1 2 3 4]\n",
            "\n",
            "[0 2 4 6 8]\n",
            "\n",
            "[[0 1 2 3 4]\n",
            " [5 6 7 8 9]]\n"
          ],
          "name": "stdout"
        }
      ]
    },
    {
      "cell_type": "code",
      "metadata": {
        "id": "jv4y0-n1OLj3",
        "outputId": "0c2ae141-a46a-4d81-ff76-b1417ec33841",
        "colab": {
          "base_uri": "https://localhost:8080/",
          "height": 104
        }
      },
      "source": [
        "#É possível atribuir valores na matriz original utilizando este método\n",
        "b = np.arange(10).reshape(2, 5)\n",
        "print(b)\n",
        "print()\n",
        "\n",
        "d = b % 2 == 0  #Obs: O operador \"%\" retorna apenas o resto da divisão\n",
        "\n",
        "b[d] = 0 #Apenas os valores que atendem a condição serão atribuídos à matriz original\n",
        "print(b)"
      ],
      "execution_count": null,
      "outputs": [
        {
          "output_type": "stream",
          "text": [
            "[[0 1 2 3 4]\n",
            " [5 6 7 8 9]]\n",
            "\n",
            "[[0 1 0 3 0]\n",
            " [5 0 7 0 9]]\n"
          ],
          "name": "stdout"
        }
      ]
    },
    {
      "cell_type": "markdown",
      "metadata": {
        "id": "k7LAsNbBtkud"
      },
      "source": [
        "## **União de *Arrays***"
      ]
    },
    {
      "cell_type": "markdown",
      "metadata": {
        "id": "QzCFArHzrhgp"
      },
      "source": [
        "Já a união de dois arrays pode ser feita de mais de uma maneira. Por exemplo, a função _concatenate_, que pode juntar dois *arrays* através de suas colunas ou de suas linhas."
      ]
    },
    {
      "cell_type": "code",
      "metadata": {
        "id": "5hnhciKXsGpk",
        "outputId": "99422f5c-94fe-4a66-c8ac-22d93a2f4c10",
        "colab": {
          "base_uri": "https://localhost:8080/",
          "height": 191
        }
      },
      "source": [
        "#Concatenando dois arrays\n",
        "\n",
        "a = np.arange(4).reshape(2, 2)\n",
        "b = np.zeros((2, 2))\n",
        "\n",
        "print(a)\n",
        "print()\n",
        "print(b)\n",
        "print()\n",
        "\n",
        "print(np.concatenate((a, b)))                 #se o eixo não for específicado, o array \"b\" será adicionado ao \"a\" na forma de novas linhas"
      ],
      "execution_count": null,
      "outputs": [
        {
          "output_type": "stream",
          "text": [
            "[[0 1]\n",
            " [2 3]]\n",
            "\n",
            "[[0. 0.]\n",
            " [0. 0.]]\n",
            "\n",
            "[[0. 1.]\n",
            " [2. 3.]\n",
            " [0. 0.]\n",
            " [0. 0.]]\n"
          ],
          "name": "stdout"
        }
      ]
    },
    {
      "cell_type": "code",
      "metadata": {
        "id": "o5bo5J9RtpyR",
        "outputId": "a3394e12-855f-4708-ba5e-bb5f760d1fac",
        "colab": {
          "base_uri": "https://localhost:8080/",
          "height": 52
        }
      },
      "source": [
        "print(np.concatenate((a, b), axis = 1))      #nesse caso, foi específicado o eixo para a junção"
      ],
      "execution_count": null,
      "outputs": [
        {
          "output_type": "stream",
          "text": [
            "[[0. 1. 0. 0.]\n",
            " [2. 3. 0. 0.]]\n"
          ],
          "name": "stdout"
        }
      ]
    },
    {
      "cell_type": "markdown",
      "metadata": {
        "id": "cK27muVBv2tb"
      },
      "source": [
        "O mesmo pode ser obtido através de outras duas funções, o *vstack()* e *hstack()*"
      ]
    },
    {
      "cell_type": "code",
      "metadata": {
        "id": "G7UqSQSlwDW7",
        "outputId": "09ac3508-0a50-49fe-d827-9286423c9221",
        "colab": {
          "base_uri": "https://localhost:8080/",
          "height": 87
        }
      },
      "source": [
        "print(np.vstack((a, b)))"
      ],
      "execution_count": null,
      "outputs": [
        {
          "output_type": "stream",
          "text": [
            "[[0. 1.]\n",
            " [2. 3.]\n",
            " [0. 0.]\n",
            " [0. 0.]]\n"
          ],
          "name": "stdout"
        }
      ]
    },
    {
      "cell_type": "code",
      "metadata": {
        "id": "g2uo5FbpwLKi",
        "outputId": "6b11e222-245e-4216-823d-d36f0b64c8fb",
        "colab": {
          "base_uri": "https://localhost:8080/",
          "height": 52
        }
      },
      "source": [
        "print(np.hstack((a, b)))"
      ],
      "execution_count": null,
      "outputs": [
        {
          "output_type": "stream",
          "text": [
            "[[0. 1. 0. 0.]\n",
            " [2. 3. 0. 0.]]\n"
          ],
          "name": "stdout"
        }
      ]
    },
    {
      "cell_type": "markdown",
      "metadata": {
        "id": "6h4IA3A43QvB"
      },
      "source": [
        "##**Ordenando Arrays**"
      ]
    },
    {
      "cell_type": "markdown",
      "metadata": {
        "id": "fX12J5yA3Zqq"
      },
      "source": [
        "A principal função do NumPy para ordenar arrays é o *np.sort()*:"
      ]
    },
    {
      "cell_type": "code",
      "metadata": {
        "id": "J3GERmUF3PuG",
        "outputId": "15257fc6-cf75-4d30-e772-07bcd118dbce",
        "colab": {
          "base_uri": "https://localhost:8080/",
          "height": 35
        }
      },
      "source": [
        "a = np.array([5, 9, -3, -8, 1, 0, -6])\n",
        "print(np.sort(a))"
      ],
      "execution_count": null,
      "outputs": [
        {
          "output_type": "stream",
          "text": [
            "[-8 -6 -3  0  1  5  9]\n"
          ],
          "name": "stdout"
        }
      ]
    },
    {
      "cell_type": "markdown",
      "metadata": {
        "id": "pbw8VwRw4HXs"
      },
      "source": [
        "No caso de matrizes, utiliza-se o parâmetro axis para indicar o eixo da ordenação:"
      ]
    },
    {
      "cell_type": "code",
      "metadata": {
        "id": "N0SqGtYR4QVN",
        "outputId": "0273e107-b3a9-440d-ded3-e596b3b08d6e",
        "colab": {
          "base_uri": "https://localhost:8080/",
          "height": 139
        }
      },
      "source": [
        "b = np.array([[-5, 8 , 2], \n",
        "              [4, 7, -9],\n",
        "              [1, 3, 2]])\n",
        "\n",
        "print(np.sort(b, axis=None))                 # se axis for None, o array é aplainado antes de ordenar\n",
        "print(np.sort(b, axis=0))                    # axis=0 irá ordenar através das linhas\n",
        "print(np.sort(b, axis=1))                    # axis=1 irá ordenar através das colunas"
      ],
      "execution_count": null,
      "outputs": [
        {
          "output_type": "stream",
          "text": [
            "[-9 -5  1  2  2  3  4  7  8]\n",
            "[[-5  3 -9]\n",
            " [ 1  7  2]\n",
            " [ 4  8  2]]\n",
            "[[-5  2  8]\n",
            " [-9  4  7]\n",
            " [ 1  2  3]]\n"
          ],
          "name": "stdout"
        }
      ]
    },
    {
      "cell_type": "markdown",
      "metadata": {
        "id": "ouoDkgMY6CEn"
      },
      "source": [
        "##**Método Random**"
      ]
    },
    {
      "cell_type": "markdown",
      "metadata": {
        "id": "TnVY2KZHbgc8"
      },
      "source": [
        "O *np.random* é uma ferramente muito útil do NumPy. Através dele, é possível criar *arrays* e matrizes com valores aleatórios."
      ]
    },
    {
      "cell_type": "code",
      "metadata": {
        "id": "kDcdaqDuok-T",
        "outputId": "1fb9fb55-c8b3-484e-ffe7-09413f202a52",
        "colab": {
          "base_uri": "https://localhost:8080/",
          "height": 121
        }
      },
      "source": [
        "#A Função np.random.random cria valores entre 0.0 e 1.0 aleatóriamente:\n",
        "\n",
        "print(np.random.random())  # apenas um número entre 0.0 e 1.0\n",
        "print()\n",
        "print(np.random.random(5))  # Cinco valores em uma Array unidimensional\n",
        "print()\n",
        "print( np.random.random( (2, 4) ))  # matriz aleatória 2x4"
      ],
      "execution_count": null,
      "outputs": [
        {
          "output_type": "stream",
          "text": [
            "0.33554122632989314\n",
            "\n",
            "[0.43317072 0.91318228 0.71938803 0.34000796 0.61452035]\n",
            "\n",
            "[[0.40055159 0.38958916 0.90717513 0.3743875 ]\n",
            " [0.55299685 0.26419095 0.84948384 0.67894305]]\n"
          ],
          "name": "stdout"
        }
      ]
    },
    {
      "cell_type": "code",
      "metadata": {
        "id": "szvdu8ckpSB-",
        "outputId": "0adc2f38-2ad4-452b-ea09-10ec336bfc5d",
        "colab": {
          "base_uri": "https://localhost:8080/",
          "height": 121
        }
      },
      "source": [
        "#A Função np.random.randint cria valores entre inteiros aleatóriamente, dentro de um intervalo estabelecido:\n",
        "\n",
        "print(np.random.randint(-3,3))  # apenas um número inteiro dentro do intervalo -3 e 3\n",
        "print()\n",
        "print(np.random.randint(5))  # apenas um número inteiro entre 0 e 5, o mesmo que np.random.randint(0,5)\n",
        "print()\n",
        "print(np.random.randint(-3, \n",
        "                        3, \n",
        "                        (2, 4)\n",
        "                        )\n",
        ")  # uma matriz 2x4 com valores inteiros entre -3 e 3"
      ],
      "execution_count": null,
      "outputs": [
        {
          "output_type": "stream",
          "text": [
            "1\n",
            "\n",
            "1\n",
            "\n",
            "[[ 2 -3  0  1]\n",
            " [ 0 -3 -2 -1]]\n"
          ],
          "name": "stdout"
        }
      ]
    },
    {
      "cell_type": "code",
      "metadata": {
        "id": "9O_kaHpIcnka",
        "outputId": "cb31d69c-1e38-404e-a9a4-5f5e49f5738c",
        "colab": {
          "base_uri": "https://localhost:8080/",
          "height": 69
        }
      },
      "source": [
        "#Cria uma matriz com valores aleatórios uniformemente distribuídos\n",
        "\n",
        "matriz_alea = np.random.rand(3, 2)\n",
        "\n",
        "print(matriz_alea)"
      ],
      "execution_count": null,
      "outputs": [
        {
          "output_type": "stream",
          "text": [
            "[[0.80264892 0.96585368]\n",
            " [0.68461589 0.26244141]\n",
            " [0.07319112 0.63422356]]\n"
          ],
          "name": "stdout"
        }
      ]
    },
    {
      "cell_type": "code",
      "metadata": {
        "id": "cZ-AR96-emyp",
        "outputId": "428db66e-3652-458d-b1b9-5c7cc165accf",
        "colab": {
          "base_uri": "https://localhost:8080/",
          "height": 265
        }
      },
      "source": [
        "#Distribuição dos valores \n",
        "\n",
        "import matplotlib.pyplot as plt\n",
        "import seaborn as sns\n",
        "\n",
        "sns.set_style('darkgrid') #altera o grid para um de maior contraste\n",
        "sns.set_palette('cubehelix') #escolhe um pacote de paleta de cores\n",
        "%matplotlib inline\n",
        "\n",
        "plt.hist(np.random.rand(10000))\n",
        "plt.show()"
      ],
      "execution_count": null,
      "outputs": [
        {
          "output_type": "display_data",
          "data": {
            "image/png": "[encoded data removed]",
            "text/plain": [
              "<Figure size 432x288 with 1 Axes>"
            ]
          },
          "metadata": {
            "tags": [],
            "needs_background": "light"
          }
        }
      ]
    },
    {
      "cell_type": "markdown",
      "metadata": {
        "id": "zhniAm-feWOW"
      },
      "source": [
        "É possível gerar valores seguindo uma distribuição, como a normal."
      ]
    },
    {
      "cell_type": "code",
      "metadata": {
        "id": "F_Zem40HePB7",
        "outputId": "0e275512-57cc-42a9-9c34-1de8030c7d1d",
        "colab": {
          "base_uri": "https://localhost:8080/",
          "height": 87
        }
      },
      "source": [
        "matriz_normal = np.random.randn(4, 3)\n",
        "print(matriz_normal)"
      ],
      "execution_count": null,
      "outputs": [
        {
          "output_type": "stream",
          "text": [
            "[[-0.63475355  0.13636856 -0.33495803]\n",
            " [ 1.75267188 -1.38794916  1.31144226]\n",
            " [ 0.1055533   0.28860853  1.41169994]\n",
            " [-0.63180909 -0.75956839 -0.18135717]]\n"
          ],
          "name": "stdout"
        }
      ]
    },
    {
      "cell_type": "code",
      "metadata": {
        "id": "ziXLLX6FZWae",
        "outputId": "a38535d1-d473-45e6-c4a3-f4200dd498b2",
        "colab": {
          "base_uri": "https://localhost:8080/",
          "height": 267
        }
      },
      "source": [
        "plt.hist(np.random.randn(10000))\n",
        "plt.show()"
      ],
      "execution_count": null,
      "outputs": [
        {
          "output_type": "display_data",
          "data": {
            "image/png": "[encoded data removed]",
            "text/plain": [
              "<Figure size 432x288 with 1 Axes>"
            ]
          },
          "metadata": {
            "tags": [],
            "needs_background": "light"
          }
        }
      ]
    },
    {
      "cell_type": "markdown",
      "metadata": {
        "id": "5TVi9KsKyMkl"
      },
      "source": [
        "Ou distribuição Beta:"
      ]
    },
    {
      "cell_type": "code",
      "metadata": {
        "id": "JCPmzFtYyapR",
        "outputId": "bf158019-c35b-40fa-ca7a-d1fe956cb616",
        "colab": {
          "base_uri": "https://localhost:8080/",
          "height": 69
        }
      },
      "source": [
        "matriz_beta = np.random.beta(1, 2, (3,2))\n",
        "print(matriz_beta)"
      ],
      "execution_count": null,
      "outputs": [
        {
          "output_type": "stream",
          "text": [
            "[[0.62352124 0.18269125]\n",
            " [0.0359188  0.15010352]\n",
            " [0.86987922 0.31631217]]\n"
          ],
          "name": "stdout"
        }
      ]
    },
    {
      "cell_type": "markdown",
      "metadata": {
        "id": "ZnWPuqNazPYa"
      },
      "source": [
        "Pode-se conferir as distribuições disponíveis na [documentação](https://docs.scipy.org/doc/numpy-1.14.0/reference/routines.random.html)."
      ]
    },
    {
      "cell_type": "markdown",
      "metadata": {
        "id": "1a-RFUA7rnZc"
      },
      "source": [
        "Além de gerar valores aleatórios, a função **random** também fornece outras aplicações úteis, como escolher valores aleatórios ou embaralhar uma array."
      ]
    },
    {
      "cell_type": "code",
      "metadata": {
        "id": "9VVZBZbJrg1F",
        "outputId": "c19e1954-f32b-4a54-bfe7-1b6469d14eb8",
        "colab": {
          "base_uri": "https://localhost:8080/",
          "height": 139
        }
      },
      "source": [
        "# Escolher valores aleatórios em uma array\n",
        "a = np.linspace(5, 35, 6)\n",
        "print(a)\n",
        "print()\n",
        "\n",
        "print(np.random.choice(a)) # Escolhe aleatoriamente um elemento de 'a'\n",
        "print()\n",
        "print(np.random.choice(a, 3)) # Escolhe 3 elementos de 'a', é possivel que um mesmo valor apareca mais de uma vez\n",
        "print()\n",
        "print(np.random.choice(a, 3, replace=False)) # Escolhe 3 valores distintos de 'a'"
      ],
      "execution_count": null,
      "outputs": [
        {
          "output_type": "stream",
          "text": [
            "[ 5. 11. 17. 23. 29. 35.]\n",
            "\n",
            "17.0\n",
            "\n",
            "[17. 23. 11.]\n",
            "\n",
            "[29. 17. 11.]\n"
          ],
          "name": "stdout"
        }
      ]
    },
    {
      "cell_type": "code",
      "metadata": {
        "id": "hD_8FY4qujRi",
        "outputId": "a91f355c-920d-4d96-fa5c-bd91e570d0f0",
        "colab": {
          "base_uri": "https://localhost:8080/",
          "height": 121
        }
      },
      "source": [
        "# Além disso, o random.choice também pode ser usado selecionando o valor final do range como primeiro parâmetro e quantidade no segundo\n",
        "# Por padrão, a função dessa maneira só escolhe valores inteiros e o valor inicial do range sempre é 0\n",
        "\n",
        "print(np.random.choice(10, 5))  # cinco números inteiros entre 0 e 10\n",
        "print()\n",
        "print(np.random.choice(5))  # apenas um número inteiro entre 0 e 5, o mesmo que np.random.choice(5,1)\n",
        "print()\n",
        "print(np.random.choice(10,  \n",
        "                        (2, 4),\n",
        "                        replace=False)\n",
        ")  # uma matriz 2x4 com valores inteiros entre 0 e 10, sem repetir nenhum valor."
      ],
      "execution_count": null,
      "outputs": [
        {
          "output_type": "stream",
          "text": [
            "[4 3 3 4 9]\n",
            "\n",
            "3\n",
            "\n",
            "[[2 4 7 9]\n",
            " [5 0 6 3]]\n"
          ],
          "name": "stdout"
        }
      ]
    },
    {
      "cell_type": "code",
      "metadata": {
        "id": "lfMEqdoJxCaf",
        "outputId": "6e882d24-8a98-4d2b-ad2a-c0eef02a77f8",
        "colab": {
          "base_uri": "https://localhost:8080/",
          "height": 208
        }
      },
      "source": [
        "#Outra Função muito útil é o random.shuffle, que pode embaralhar uma array\n",
        "a = np.arange(12)\n",
        "print(a)\n",
        "print()\n",
        "\n",
        "np.random.shuffle(a)\n",
        "print(a)\n",
        "print()\n",
        "\n",
        "a = a.reshape(3, 4)\n",
        "print(a)\n",
        "print()\n",
        "np.random.shuffle(a)\n",
        "print(a)"
      ],
      "execution_count": null,
      "outputs": [
        {
          "output_type": "stream",
          "text": [
            "[ 0  1  2  3  4  5  6  7  8  9 10 11]\n",
            "\n",
            "[11  9  4  2  8 10  7  5  3  0  6  1]\n",
            "\n",
            "[[11  9  4  2]\n",
            " [ 8 10  7  5]\n",
            " [ 3  0  6  1]]\n",
            "\n",
            "[[ 3  0  6  1]\n",
            " [11  9  4  2]\n",
            " [ 8 10  7  5]]\n"
          ],
          "name": "stdout"
        }
      ]
    },
    {
      "cell_type": "markdown",
      "metadata": {
        "id": "bNSmJ3ms0XV5"
      },
      "source": [
        "Note que em um *array* multidimensional, a função apenas embaralha a posição das linhas, isso se deve ao fato que a função está tratando cada linha como um único elemento.\n",
        "\n",
        "Para embaralhar por elemento usa-se a função *np.apply_along_axis*, função usada para aplicar outra função ao longo de um eixo."
      ]
    },
    {
      "cell_type": "code",
      "metadata": {
        "id": "nKsaWki-1c6N",
        "outputId": "e6e590e2-f26f-4368-b177-924a2e88f97d",
        "colab": {
          "base_uri": "https://localhost:8080/",
          "height": 277
        }
      },
      "source": [
        "a = np.arange(12).reshape(3,4)\n",
        "print(a)\n",
        "print()\n",
        "\n",
        "np.apply_along_axis(np.random.shuffle, 0, a) # embaralha os elementos das linhas para cada coluna\n",
        "print(a)\n",
        "print()\n",
        "np.apply_along_axis(np.random.shuffle, 1, a) # embaralha os elementos das colunas para cada linha\n",
        "print(a)\n",
        "print()\n",
        "\n",
        "np.random.shuffle(a[0]) #Pode-se também indexar a array como em uma lista para selecionar a linha a embaralhar\n",
        "print(a)\n"
      ],
      "execution_count": null,
      "outputs": [
        {
          "output_type": "stream",
          "text": [
            "[[ 0  1  2  3]\n",
            " [ 4  5  6  7]\n",
            " [ 8  9 10 11]]\n",
            "\n",
            "[[ 0  1  2  7]\n",
            " [ 8  9  6  3]\n",
            " [ 4  5 10 11]]\n",
            "\n",
            "[[ 1  0  7  2]\n",
            " [ 6  9  8  3]\n",
            " [ 5 11  4 10]]\n",
            "\n",
            "[[ 7  1  2  0]\n",
            " [ 6  9  8  3]\n",
            " [ 5 11  4 10]]\n"
          ],
          "name": "stdout"
        }
      ]
    },
    {
      "cell_type": "markdown",
      "metadata": {
        "id": "7aZbIzSfpxjf"
      },
      "source": [
        "##**Operações com Arrays**"
      ]
    },
    {
      "cell_type": "markdown",
      "metadata": {
        "id": "pEczgWwjp0m3"
      },
      "source": [
        "Como dito anteriormente, os *arrays* simplificam operações com vetores e matrizes. Além de aplicar as operações elemento-a-elemento, o NumPy contém métodos para executar várias das funções que são utilizados na Álgebra Linear, como o cálculo do produto entre matrizes e a obtenção de uma matriz transposta.  "
      ]
    },
    {
      "cell_type": "code",
      "metadata": {
        "id": "TyxoPq6Zj20i",
        "outputId": "a3568f15-d436-4374-a363-248b9ebb98c7",
        "colab": {
          "base_uri": "https://localhost:8080/",
          "height": 52
        }
      },
      "source": [
        "#Multiplicação de uma matriz por um escalar (e-book: Equação 15, p. 2)\n",
        "\n",
        "a = np.array([\n",
        "              [1, 2], \n",
        "              [3, 4]\n",
        "])\n",
        "\n",
        "matriz_mult = a * 3\n",
        "\n",
        "print(matriz_mult)"
      ],
      "execution_count": null,
      "outputs": [
        {
          "output_type": "stream",
          "text": [
            "[[ 3  6]\n",
            " [ 9 12]]\n"
          ],
          "name": "stdout"
        }
      ]
    },
    {
      "cell_type": "code",
      "metadata": {
        "id": "wO8tnfJXqBfI",
        "outputId": "e82a30c2-6e1d-4128-d83d-72f684648544",
        "colab": {
          "base_uri": "https://localhost:8080/",
          "height": 208
        }
      },
      "source": [
        "#Produto das matrizes (e-book: Multiplicação de matrizes, p. 3)\n",
        "\n",
        "a = np.random.randint(10, size=(2, 4))\n",
        "b = np.random.randint(10, size=(4, 3))\n",
        "\n",
        "print(\"Matriz 'a' 2x4\")\n",
        "print(a)\n",
        "print(\"Matriz 'b' 4x3\")\n",
        "print(b)\n",
        "print(\"Produto das matrizes 2x3\")\n",
        "\n",
        "c = np.dot(a,b)                        #a @ b é outro meio de realizar essa operação, assim como a.dot(b) \n",
        "print(c)                               #Note que o número de colunas da primeira matriz deve ser igual ao de linhas da segunda matriz"
      ],
      "execution_count": null,
      "outputs": [
        {
          "output_type": "stream",
          "text": [
            "Matriz 'a' 2x4\n",
            "[[9 3 4 8]\n",
            " [2 0 8 9]]\n",
            "Matriz 'b' 4x3\n",
            "[[2 7 5]\n",
            " [7 8 7]\n",
            " [7 5 6]\n",
            " [9 4 6]]\n",
            "Produto das matrizes 2x3\n",
            "[[139 139 138]\n",
            " [141  90 112]]\n"
          ],
          "name": "stdout"
        }
      ]
    },
    {
      "cell_type": "code",
      "metadata": {
        "id": "awyqvtjqtDt3",
        "outputId": "2ae25593-96d3-4a84-9c7b-3bce3b841cb9",
        "colab": {
          "base_uri": "https://localhost:8080/",
          "height": 87
        }
      },
      "source": [
        "#Tranposta de uma matriz (e-book: Definição 1.5, p. 5)\n",
        "\n",
        "a_T = a.T\n",
        "\n",
        "print(a_T)"
      ],
      "execution_count": null,
      "outputs": [
        {
          "output_type": "stream",
          "text": [
            "[[9 2]\n",
            " [3 0]\n",
            " [4 8]\n",
            " [8 9]]\n"
          ],
          "name": "stdout"
        }
      ]
    },
    {
      "cell_type": "code",
      "metadata": {
        "id": "Yo0a9fTGAnGd",
        "outputId": "ec70d383-658d-4a76-eb70-d7502c7e5112",
        "colab": {
          "base_uri": "https://localhost:8080/",
          "height": 52
        }
      },
      "source": [
        "#Calcula a exponencial de cada elemento da matriz\n",
        "\n",
        "np.exp(a)"
      ],
      "execution_count": null,
      "outputs": [
        {
          "output_type": "execute_result",
          "data": {
            "text/plain": [
              "array([[8.10308393e+03, 2.00855369e+01, 5.45981500e+01, 2.98095799e+03],\n",
              "       [7.38905610e+00, 1.00000000e+00, 2.98095799e+03, 8.10308393e+03]])"
            ]
          },
          "metadata": {
            "tags": []
          },
          "execution_count": 35
        }
      ]
    },
    {
      "cell_type": "markdown",
      "metadata": {
        "id": "Ooy-JUpfwsWh"
      },
      "source": [
        "Parte das funções da Álgebra Linear estão contidas no módulo *linalg*."
      ]
    },
    {
      "cell_type": "code",
      "metadata": {
        "id": "9js81AigwcsQ",
        "outputId": "f5c1ecf1-5038-48b4-b770-d582ec016346",
        "colab": {
          "base_uri": "https://localhost:8080/",
          "height": 35
        }
      },
      "source": [
        "#Determinante de uma matriz (e-book: Determinante de uma matriz, p. 4)\n",
        "\n",
        "a = np.array([\n",
        "              [2.,4.],\n",
        "              [3.,1.]\n",
        "              ])\n",
        "\n",
        "print(np.linalg.det(a))"
      ],
      "execution_count": null,
      "outputs": [
        {
          "output_type": "stream",
          "text": [
            "-10.000000000000002\n"
          ],
          "name": "stdout"
        }
      ]
    },
    {
      "cell_type": "markdown",
      "metadata": {
        "id": "xNLRgGrP03_Y"
      },
      "source": [
        "Através de métodos pode-se manipular e obter informações da distribuição de um *array*."
      ]
    },
    {
      "cell_type": "code",
      "metadata": {
        "id": "1RzZtyKq1fxc",
        "outputId": "8ede2bec-dfb5-41a2-898a-623f96cb32e3",
        "colab": {
          "base_uri": "https://localhost:8080/",
          "height": 87
        }
      },
      "source": [
        "a = np.array([12, 23, 47, 61, 89, 94])\n",
        "\n",
        "print(f\"Soma: {a.sum()}\")\n",
        "print(f\"Soma acumulada: {a.cumsum()}\")\n",
        "print(f\"Média: {a.mean()}\")\n",
        "print(f\"Desvio Padrão: {a.std()}\")"
      ],
      "execution_count": null,
      "outputs": [
        {
          "output_type": "stream",
          "text": [
            "Soma: 326\n",
            "Soma acumulada: [ 12  35  82 143 232 326]\n",
            "Média: 54.333333333333336\n",
            "Desvio Padrão: 30.679345205239017\n"
          ],
          "name": "stdout"
        }
      ]
    },
    {
      "cell_type": "markdown",
      "metadata": {
        "id": "d-8NoeiY3bCl"
      },
      "source": [
        "No caso de uma matriz, é possível realizar essas operações de acordo com linha ou coluna."
      ]
    },
    {
      "cell_type": "code",
      "metadata": {
        "id": "unMdzNeg2ZqN",
        "outputId": "2a14665e-38fa-49c2-9390-eb85649a49ee",
        "colab": {
          "base_uri": "https://localhost:8080/",
          "height": 156
        }
      },
      "source": [
        "np.random.seed(42)\n",
        "a = np.random.randint(100, size = (4,4))\n",
        "print(a)\n",
        "\n",
        "print(f\"Soma por coluna: {a.sum(axis=0)}\")                  \n",
        "print(f\"Valor mínimo de cada linha: {a.min(axis=1)}\")       #ou np.amin(a, axis=1)          \n",
        "print(f\"Valor máximo da matriz: {a.max()}\")       #ou np.amax(a) \n",
        "print(f\"Diferença entre o maior e o menor valor de cada linha: {np.ptp(a,axis=1)}\")       "
      ],
      "execution_count": null,
      "outputs": [
        {
          "output_type": "stream",
          "text": [
            "[[51 92 14 71]\n",
            " [60 20 82 86]\n",
            " [74 74 87 99]\n",
            " [23  2 21 52]]\n",
            "Soma por coluna: [208 188 204 308]\n",
            "Valor mínimo de cada linha: [14 20 74  2]\n",
            "Valor máximo da matriz: 99\n",
            "Diferença entre o maior e o menor valor de cada linha: [78 66 25 50]\n"
          ],
          "name": "stdout"
        }
      ]
    },
    {
      "cell_type": "markdown",
      "metadata": {
        "id": "elSjsasajRh1"
      },
      "source": [
        "---\n",
        "##**Exercícios**"
      ]
    },
    {
      "cell_type": "markdown",
      "metadata": {
        "id": "awZwDH_0s7eK"
      },
      "source": [
        "Utilize as funções do NumPy para resolver os exercícios a seguir."
      ]
    },
    {
      "cell_type": "markdown",
      "metadata": {
        "id": "sp5QvzAu0XQH"
      },
      "source": [
        "####1 - Crie uma matriz 3x3 e confira seu formato"
      ]
    },
    {
      "cell_type": "code",
      "metadata": {
        "id": "AJYXmzXNjH91"
      },
      "source": [
        "#R:"
      ],
      "execution_count": null,
      "outputs": []
    },
    {
      "cell_type": "markdown",
      "metadata": {
        "id": "WmbPwXyZ0Xzc"
      },
      "source": [
        "####2 - Crie uma matriz nula 3x2"
      ]
    },
    {
      "cell_type": "code",
      "metadata": {
        "id": "Ic8XqmlgyZs-"
      },
      "source": [
        "#R:"
      ],
      "execution_count": null,
      "outputs": []
    },
    {
      "cell_type": "markdown",
      "metadata": {
        "id": "BsPruRPf0m12"
      },
      "source": [
        "####3 - Crie um vetor com 10 valores seguindo uma progressão aritmética de razão 5 "
      ]
    },
    {
      "cell_type": "code",
      "metadata": {
        "id": "VxdKsJEK-ydu"
      },
      "source": [
        "#R:"
      ],
      "execution_count": null,
      "outputs": []
    },
    {
      "cell_type": "markdown",
      "metadata": {
        "id": "hVSyHP2x0ooL"
      },
      "source": [
        "####4 - Crie uma matriz quadrada 3x3 com valores equidistantes"
      ]
    },
    {
      "cell_type": "code",
      "metadata": {
        "id": "S8aPhiWlmXLg"
      },
      "source": [
        "#R:"
      ],
      "execution_count": null,
      "outputs": []
    },
    {
      "cell_type": "markdown",
      "metadata": {
        "id": "9CDY_NK010qM"
      },
      "source": [
        "####5 - Gere 2 matrizes e calcule o produto das duas"
      ]
    },
    {
      "cell_type": "code",
      "metadata": {
        "id": "FplO5XTzGYAU"
      },
      "source": [
        "#R:"
      ],
      "execution_count": null,
      "outputs": []
    },
    {
      "cell_type": "markdown",
      "metadata": {
        "id": "xJY0wCawGrOE"
      },
      "source": [
        "#### 6 - Utilizando a resposta da questão anterior, elabore uma operação para retorná-la às matrizes originais.\n"
      ]
    },
    {
      "cell_type": "code",
      "metadata": {
        "id": "XCj01duCHCsk"
      },
      "source": [
        "#R:"
      ],
      "execution_count": null,
      "outputs": []
    },
    {
      "cell_type": "markdown",
      "metadata": {
        "id": "vg4JdV1M0vyJ"
      },
      "source": [
        "####7 - Utilizando as funções de indexação do numpy, crie uma array com valores de 0 a 100 e mostre apenas os quadrados perfeitos. \n",
        "\n",
        "Quadrados perfeitos são números que possuem raíz quadrada inteira, utilize a função _np.sqrt(x)_ para calcular a raíz quadrada."
      ]
    },
    {
      "cell_type": "code",
      "metadata": {
        "id": "TFVmU_mmnJ-M"
      },
      "source": [
        "#R:"
      ],
      "execution_count": null,
      "outputs": []
    },
    {
      "cell_type": "markdown",
      "metadata": {
        "id": "lu4aA0kWEQzr"
      },
      "source": [
        "#### 8 - Deixe a seguinte matriz com apenas valores positivos, zerando os valores negativos."
      ]
    },
    {
      "cell_type": "code",
      "metadata": {
        "id": "Hd48_YfzERH0",
        "outputId": "bf9eb561-5157-465d-c28c-ce7d694401b8",
        "colab": {
          "base_uri": "https://localhost:8080/",
          "height": 191
        }
      },
      "source": [
        "M = np.random.randn(50).reshape(10, -1)\n",
        "print(M)\n",
        "\n",
        "#R:"
      ],
      "execution_count": null,
      "outputs": [
        {
          "output_type": "stream",
          "text": [
            "[[-0.58087813 -0.52516981 -0.57138017 -0.92408284 -2.61254901]\n",
            " [ 0.95036968  0.81644508 -1.523876   -0.42804606 -0.74240684]\n",
            " [-0.7033438  -2.13962066 -0.62947496  0.59772047  2.55948803]\n",
            " [ 0.39423302  0.12221917 -0.51543566 -0.60025385  0.94743982]\n",
            " [ 0.291034   -0.63555974 -1.02155219 -0.16175539 -0.5336488 ]\n",
            " [-0.00552786 -0.22945045  0.38934891 -1.26511911  1.09199226]\n",
            " [ 2.77831304  1.19363972  0.21863832  0.88176104 -1.00908534]\n",
            " [-1.58329421  0.77370042 -0.53814166 -1.3466781  -0.88059127]\n",
            " [-1.1305523   0.13442888  0.58212279  0.88774846  0.89433233]\n",
            " [ 0.7549978  -0.20716589 -0.62347739 -1.50815329  1.09964698]]\n"
          ],
          "name": "stdout"
        }
      ]
    },
    {
      "cell_type": "markdown",
      "metadata": {
        "id": "dP9bQN7JL0LG"
      },
      "source": [
        "#### 9 - Use a matriz da questão anterior e a ordene de forma crescente.\n"
      ]
    },
    {
      "cell_type": "code",
      "metadata": {
        "id": "W9XdPjDPL0hw"
      },
      "source": [
        "#R:"
      ],
      "execution_count": null,
      "outputs": []
    },
    {
      "cell_type": "markdown",
      "metadata": {
        "id": "LIQR7dB_09C3"
      },
      "source": [
        "#### 10 - Faça um programa que sorteie o valor de um dado"
      ]
    },
    {
      "cell_type": "code",
      "metadata": {
        "id": "AKcT0wg3rhjP"
      },
      "source": [
        "#R:"
      ],
      "execution_count": null,
      "outputs": []
    },
    {
      "cell_type": "markdown",
      "metadata": {
        "id": "9DPoFXLMDXG7"
      },
      "source": [
        " #### 11 - Faça um programa que escolha pedra, papel e tesoura aleatoriamente.\n",
        " _(Opcional) Jogue contra o computador e faça o programa dizer quem é o vencedor._"
      ]
    },
    {
      "cell_type": "code",
      "metadata": {
        "id": "16ebjryDDzos"
      },
      "source": [
        "#R:"
      ],
      "execution_count": null,
      "outputs": []
    },
    {
      "cell_type": "markdown",
      "metadata": {
        "id": "H9eLmmjT1CYY"
      },
      "source": [
        " #### 12 - Crie uma matriz igual a \"ABCD\" abaixo apenas usando funções de unir arrays e depois embaralhe todos os termos\n",
        "\n",
        "$$ ABCD=\n",
        "\\begin{vmatrix}\n",
        "\\ 0 & 0 & 1 & 1 \\ \\\\\n",
        "\\ 0 & 0 & 1 & 1 \\ \\\\\n",
        "\\ 2 & 2 & 3 & 3 \\ \\\\\n",
        "\\ 2 & 2 & 3 & 3 \\ \\\\\n",
        "\\end{vmatrix} $$\n"
      ]
    },
    {
      "cell_type": "code",
      "metadata": {
        "id": "6kg_OAxzt_7h",
        "outputId": "b98fbcec-62fc-41fb-a145-fe1883d9637f",
        "colab": {
          "base_uri": "https://localhost:8080/",
          "height": 156
        }
      },
      "source": [
        "A, B, C, D = np.zeros((2, 2)), np.ones((2, 2)), np.ones((2,2 )) * 2, np.ones((2, 2)) * 3\n",
        "print(A, B, C, D, sep='\\n')\n",
        "\n",
        "#R:"
      ],
      "execution_count": null,
      "outputs": [
        {
          "output_type": "stream",
          "text": [
            "[[0. 0.]\n",
            " [0. 0.]]\n",
            "[[1. 1.]\n",
            " [1. 1.]]\n",
            "[[2. 2.]\n",
            " [2. 2.]]\n",
            "[[3. 3.]\n",
            " [3. 3.]]\n"
          ],
          "name": "stdout"
        }
      ]
    },
    {
      "cell_type": "markdown",
      "metadata": {
        "id": "Ebxrcnv414-V"
      },
      "source": [
        "####13 - Obtenha a média e o desvio padrão de cada coluna da matriz abaixo"
      ]
    },
    {
      "cell_type": "code",
      "metadata": {
        "id": "jRpeq-xAri2x",
        "outputId": "ba88cd0c-a57f-4300-befb-7a1f9c2ca143",
        "colab": {
          "base_uri": "https://localhost:8080/",
          "height": 87
        }
      },
      "source": [
        "matriz = np.arange(16).reshape(4,4)\n",
        "print(matriz)\n",
        "\n",
        "#R:"
      ],
      "execution_count": null,
      "outputs": [
        {
          "output_type": "stream",
          "text": [
            "[[ 0  1  2  3]\n",
            " [ 4  5  6  7]\n",
            " [ 8  9 10 11]\n",
            " [12 13 14 15]]\n"
          ],
          "name": "stdout"
        }
      ]
    },
    {
      "cell_type": "markdown",
      "metadata": {
        "id": "gBvhvDOZ2DCu"
      },
      "source": [
        "####14 - Regularize a matriz abaixo:\n",
        "$$ a=\n",
        "\\begin{vmatrix}\n",
        "\\ 5 & 7 & -12 \\ \\\\\n",
        "\\ 1 & 4 & 9 \\ \\\\\n",
        "\\ -8 & -2 & 0 \\ \\\\\n",
        "\\end{vmatrix} $$\n",
        "\n",
        "Fórmula: $$z = \\frac{(x - u)}s$$ onde:\n",
        "\n",
        "u = valor médio da matriz\n",
        "\n",
        "s = desvio padrão"
      ]
    },
    {
      "cell_type": "code",
      "metadata": {
        "id": "X_UYbv9msKtZ"
      },
      "source": [
        "a = np.array([[5, 7, -12],\n",
        "              [1, 4, 9],\n",
        "              [-8, -2, 0]])\n",
        "\n",
        "#R:"
      ],
      "execution_count": null,
      "outputs": []
    }
  ]
}