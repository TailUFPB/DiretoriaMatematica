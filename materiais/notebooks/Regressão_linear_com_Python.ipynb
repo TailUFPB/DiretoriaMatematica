{
  "nbformat": 4,
  "nbformat_minor": 0,
  "metadata": {
    "kernelspec": {
      "display_name": "Python 3",
      "language": "python",
      "name": "python3"
    },
    "language_info": {
      "codemirror_mode": {
        "name": "ipython",
        "version": 3
      },
      "file_extension": ".py",
      "mimetype": "text/x-python",
      "name": "python",
      "nbconvert_exporter": "python",
      "pygments_lexer": "ipython3",
      "version": "3.6.0"
    },
    "colab": {
      "name": "Regressão linear com Python.ipynb",
      "provenance": [],
      "collapsed_sections": []
    }
  },
  "cells": [
    {
      "cell_type": "markdown",
      "metadata": {
        "id": "-yOLTdx0BPbp"
      },
      "source": [
        "# **Regressão linear com Python e Numpy**\n",
        "\n",
        "\n",
        "\n",
        "Seu vizinho é um agente imobiliário e quer alguma ajuda para prever os preços das casas para as regiões nos EUA. Seria ótimo se você pudesse de alguma forma criar um modelo para ele, que lhe permita colocar algumas características de uma casa e retornar uma estimativa de quanto a casa venderia.\n",
        "\n",
        "Ele perguntou se você poderia ajudá-lo com suas novas habilidades de ciência de dados. Você diz sim e decide que a Regressão linear pode ser um bom caminho para resolver esse problema.\n",
        "\n",
        "Seu vizinho, em seguida, dá-lhe algumas informações sobre um monte de casas em regiões dos Estados Unidos. tudo está contido no arquivo: USA_Housing.csv.\n",
        "\n",
        "Os dados contém as seguintes colunas:\n",
        "\n",
        "* 'Avg. Area Income': Média da renda dos residentes de onde a casa está localizada.\n",
        "* 'Avg. Area House Age': Média de idade das casas da mesma cidade.\n",
        "* 'Avg. Area Number of Rooms': Número médio de cômodos para casas na mesma cidade.\n",
        "* 'Avg. Area Number of Bedrooms': Número médio de quartos para casas na mesma cidade\n",
        "* 'Area Population': A população da cidade onde a casa está localizada.\n",
        "* 'Price': Preço de venda da casa.\n",
        "* 'Address': Endereço da casa;"
      ]
    },
    {
      "cell_type": "markdown",
      "metadata": {
        "id": "Q2rfiiQpTD_W"
      },
      "source": [
        "_Este Notebook acessará conteúdos abordados no **e-book** [TAIL — Introdução à Matemática para Inteligência Artificial](https://www.overleaf.com/read/gtspgphgvstz), seção 1.4.1 p. 6-7_"
      ]
    },
    {
      "cell_type": "markdown",
      "metadata": {
        "id": "oFqhLG8CfXvT"
      },
      "source": [
        "# **Por que usar Regressão Linear?**\n",
        "\n",
        "Utilizamos regressão linear quando percebemos um comportamento de correlação entre duas ou mais variáveis, ou seja, identificamos uma possível influência de uma ou mais variáveis no valor de outra. A partir disso, podemos fazer um modelo baseado nessas variáveis correlatas para predizer o comportamento de uma outra variável de maneira linear. O modelo se dá por:\n",
        "\n",
        "$$Y_i = \\varepsilon_i + \\beta_0 + \\beta_1 \\cdot X_i $$  \n",
        "\n",
        "onde definimos:\n",
        "\n",
        "$$X_i : \\text{Variável explicativa}$$\n",
        "$$Y_i : \\text{Variável resposta}$$\n",
        "\n",
        "\n"
      ]
    },
    {
      "cell_type": "markdown",
      "metadata": {
        "id": "ADSH_OKSBPbq"
      },
      "source": [
        "**Vamos começar!**\n",
        "## **Confira os dados**\n",
        "Nós conseguimos obter alguns dados do seu vizinho para os preços da habitação como um conjunto de csv, vamos preparar nosso ambiente com as bibliotecas que precisaremos e depois importar os dados!\n",
        "### Importar bibliotecas"
      ]
    },
    {
      "cell_type": "code",
      "metadata": {
        "id": "7bSb2KLEBPbr"
      },
      "source": [
        "import pandas as pd\n",
        "import numpy as np"
      ],
      "execution_count": null,
      "outputs": []
    },
    {
      "cell_type": "markdown",
      "metadata": {
        "id": "tl2LkvHvBPby"
      },
      "source": [
        "### Confira os dados"
      ]
    },
    {
      "cell_type": "code",
      "metadata": {
        "id": "FPMh7OOOBPby"
      },
      "source": [
        "USAhousing = pd.read_csv('https://raw.githubusercontent.com/hugo451/Dados/master/USA_Housing.csv')"
      ],
      "execution_count": null,
      "outputs": []
    },
    {
      "cell_type": "code",
      "metadata": {
        "id": "yczbJAn5BPb-",
        "outputId": "0ec8c96f-1092-46ac-d7f3-f5cc83f913cf",
        "colab": {
          "base_uri": "https://localhost:8080/",
          "height": 272
        }
      },
      "source": [
        "USAhousing.insert(0, 'Um', 1.0) #Inserindo uma coluna com números 1 (necessário para a equação da regressão)\n",
        "USAhousing.info()"
      ],
      "execution_count": null,
      "outputs": [
        {
          "output_type": "stream",
          "text": [
            "<class 'pandas.core.frame.DataFrame'>\n",
            "RangeIndex: 5000 entries, 0 to 4999\n",
            "Data columns (total 8 columns):\n",
            " #   Column                        Non-Null Count  Dtype  \n",
            "---  ------                        --------------  -----  \n",
            " 0   Um                            5000 non-null   float64\n",
            " 1   Avg. Area Income              5000 non-null   float64\n",
            " 2   Avg. Area House Age           5000 non-null   float64\n",
            " 3   Avg. Area Number of Rooms     5000 non-null   float64\n",
            " 4   Avg. Area Number of Bedrooms  5000 non-null   float64\n",
            " 5   Area Population               5000 non-null   float64\n",
            " 6   Price                         5000 non-null   float64\n",
            " 7   Address                       5000 non-null   object \n",
            "dtypes: float64(7), object(1)\n",
            "memory usage: 312.6+ KB\n"
          ],
          "name": "stdout"
        }
      ]
    },
    {
      "cell_type": "code",
      "metadata": {
        "id": "iAYJrDGMBPcJ",
        "outputId": "461b71c2-8f52-4997-fc03-49e12d41771e",
        "colab": {
          "base_uri": "https://localhost:8080/",
          "height": 85
        }
      },
      "source": [
        "USAhousing.columns"
      ],
      "execution_count": null,
      "outputs": [
        {
          "output_type": "execute_result",
          "data": {
            "text/plain": [
              "Index(['Um', 'Avg. Area Income', 'Avg. Area House Age',\n",
              "       'Avg. Area Number of Rooms', 'Avg. Area Number of Bedrooms',\n",
              "       'Area Population', 'Price', 'Address'],\n",
              "      dtype='object')"
            ]
          },
          "metadata": {
            "tags": []
          },
          "execution_count": 66
        }
      ]
    },
    {
      "cell_type": "markdown",
      "metadata": {
        "id": "6dSfkrEPBPck"
      },
      "source": [
        "## **Filtragem de dados para o modelo de regressão linear**\n",
        "\n",
        "Precisamos primeiro dividir nossos dados em uma matriz X que contém os recursos para treinar, e uma matriz y com a variável alvo, neste caso, a coluna Preço. Vamos descartar a coluna \"Adress\" porque só tem informações de texto que o modelo de regressão linear não pode usar.\n",
        "\n",
        "### **Arrays X e y**"
      ]
    },
    {
      "cell_type": "code",
      "metadata": {
        "id": "gwNijUMsBPc2"
      },
      "source": [
        "#Separando os dados\n",
        "X = USAhousing[['Um', 'Avg. Area Income', 'Avg. Area House Age', 'Avg. Area Number of Rooms',\n",
        "               'Avg. Area Number of Bedrooms', 'Area Population']]\n",
        "y = USAhousing['Price']\n",
        "\n",
        "#Transformando os dados em matrizes:\n",
        "X = X.values\n",
        "y = y.values\n",
        "\n",
        "X = np.array(X)\n",
        "y = np.array(y)"
      ],
      "execution_count": null,
      "outputs": []
    },
    {
      "cell_type": "markdown",
      "metadata": {
        "id": "ALnhmjIzBPdI"
      },
      "source": [
        "## **Split de treino**\n",
        "\n",
        "Agora vamos dividir os dados em um conjunto de treinamento e um conjunto de testes e transformá-los em matrizes. Logo após isso, vamos criar o modelo usando o conjunto de treinamento e depois usar o conjunto de testes para avaliar o modelo."
      ]
    },
    {
      "cell_type": "code",
      "metadata": {
        "id": "otadm9cQBPdL"
      },
      "source": [
        "from sklearn.model_selection import train_test_split"
      ],
      "execution_count": null,
      "outputs": []
    },
    {
      "cell_type": "code",
      "metadata": {
        "id": "Q9c8_VGIBPdT",
        "outputId": "c9b0c8b8-f87f-4744-dcc7-066dc7988502",
        "colab": {
          "base_uri": "https://localhost:8080/",
          "height": 238
        }
      },
      "source": [
        "#Separação dos dados de treino e dados de teste\n",
        "#A proporção de divisão dos dados será 30% para\n",
        "#teste e 70% para treino. Pode ser representado\n",
        "#por \"test_size=0.3\" ou \"train_size=0.7\" como\n",
        "#parâmetro\n",
        "X_train, X_test, y_train, y_test = train_test_split(X, y, test_size=0.3, random_state=101)\n",
        "\n",
        "print(X_train)"
      ],
      "execution_count": null,
      "outputs": [
        {
          "output_type": "stream",
          "text": [
            "[[1.00000000e+00 8.66908733e+04 6.25990093e+00 6.67626537e+00\n",
            "  3.23000000e+00 4.25896244e+04]\n",
            " [1.00000000e+00 5.98669477e+04 5.87032983e+00 5.89907634e+00\n",
            "  4.16000000e+00 3.20645972e+04]\n",
            " [1.00000000e+00 7.43721385e+04 6.56237959e+00 8.18451052e+00\n",
            "  6.35000000e+00 3.43219602e+04]\n",
            " ...\n",
            " [1.00000000e+00 5.56218991e+04 3.73594179e+00 6.86829076e+00\n",
            "  2.30000000e+00 6.31846131e+04]\n",
            " [1.00000000e+00 6.30444601e+04 5.93526139e+00 5.91345361e+00\n",
            "  4.10000000e+00 3.27252795e+04]\n",
            " [1.00000000e+00 7.50787915e+04 7.64477860e+00 8.44072615e+00\n",
            "  4.33000000e+00 5.61484493e+04]]\n"
          ],
          "name": "stdout"
        }
      ]
    },
    {
      "cell_type": "markdown",
      "metadata": {
        "id": "Lt3qPWo6BPdY"
      },
      "source": [
        "## **Criando e treinando o modelo**"
      ]
    },
    {
      "cell_type": "markdown",
      "metadata": {
        "id": "7EgkVD4xivNa"
      },
      "source": [
        "Para descobrirmos o grau em que os 5 fatores diferentes afetam o preço da casa, ou seja, os coeficientes deles na equação que montaremos para poder prever o preço de novas casas com as informações de suas vizinhanças, vamos ter que achar o valor da matriz que chamamos de beta dos coeficientes, já que:\n",
        "\n",
        "$$\\text{Predict: }Y_{i} = X_{i} \\cdot \\hat{\\beta}$$\n",
        "\n",
        "Ou seja, quando se multiplica a matriz Xi (os 5 fatores responsáveis pelo preço de uma casa específica) pela matriz dos coeficientes, o resultado obtido é Yi (o preço predito da casa).\n",
        "\n",
        "---"
      ]
    },
    {
      "cell_type": "markdown",
      "metadata": {
        "id": "DuZXX4V27cO4"
      },
      "source": [
        "  Para acharmos os valores da matriz beta, iremos usar a seguinte equação:\n",
        "\n",
        "$$\\text{Fit: }\\hat{\\beta} = (X^{T}\\cdot X)^{-1} \\cdot X^{T} \\cdot Y$$\n",
        "\n",
        "  Na qual X é a matriz com todos os dados das diversas vizinhanças e Y é a matriz com todos os preços das casas."
      ]
    },
    {
      "cell_type": "code",
      "metadata": {
        "id": "Muq7HpjwBPdi"
      },
      "source": [
        "class LinearRegression:\n",
        "    def fit(self, X, y):\n",
        "        self.coef = np.linalg.pinv(X.transpose() @ X) @ np.transpose(X) @ y\n",
        "        return self\n",
        "\n",
        "    def predict(self, X):\n",
        "        return X @ self.coef\n",
        "    \n",
        "    def score(self, X, y):\n",
        "        #RMSE - Root Mean Square Error\n",
        "        return np.sqrt(np.mean((y - self.predict(X))**(2)))"
      ],
      "execution_count": null,
      "outputs": []
    },
    {
      "cell_type": "code",
      "metadata": {
        "id": "FoZpQk7cDNwj",
        "outputId": "bd31dc15-4472-46ae-d593-f45157c53a8c",
        "colab": {
          "base_uri": "https://localhost:8080/",
          "height": 34
        }
      },
      "source": [
        "#Criação do modelo:\n",
        "lr = LinearRegression()\n",
        "\n",
        "#Treinamento do modelo:\n",
        "lr.fit(X_train, y_train)\n"
      ],
      "execution_count": null,
      "outputs": [
        {
          "output_type": "execute_result",
          "data": {
            "text/plain": [
              "<__main__.LinearRegression at 0x7f20057f3cf8>"
            ]
          },
          "metadata": {
            "tags": []
          },
          "execution_count": 71
        }
      ]
    },
    {
      "cell_type": "markdown",
      "metadata": {
        "id": "MHcARoJEmEtL"
      },
      "source": [
        "# **$$\\text{Coeficiente } \\hat{\\beta}$$**\n",
        "\n",
        "Podemos ver a \"cara\" do nosso coeficiente beta, que foi baseado na influência de cada variável \"imputada\" no modelo, aquelas que apresentam uma certa correlação, e ter uma noção das variáveis mais importantes na construção da variável predita!"
      ]
    },
    {
      "cell_type": "code",
      "metadata": {
        "id": "is54utfxAwiT",
        "outputId": "1fa09270-94f3-447b-ee3a-b3f3b19b9854",
        "colab": {
          "base_uri": "https://localhost:8080/",
          "height": 235
        }
      },
      "source": [
        "pd.DataFrame(lr.coef,\n",
        "             index = USAhousing.drop(\n",
        "                 ['Price','Address'], \n",
        "                 axis = 1)\n",
        "             .columns)"
      ],
      "execution_count": null,
      "outputs": [
        {
          "output_type": "execute_result",
          "data": {
            "text/html": [
              "<div>\n",
              "<style scoped>\n",
              "    .dataframe tbody tr th:only-of-type {\n",
              "        vertical-align: middle;\n",
              "    }\n",
              "\n",
              "    .dataframe tbody tr th {\n",
              "        vertical-align: top;\n",
              "    }\n",
              "\n",
              "    .dataframe thead th {\n",
              "        text-align: right;\n",
              "    }\n",
              "</style>\n",
              "<table border=\"1\" class=\"dataframe\">\n",
              "  <thead>\n",
              "    <tr style=\"text-align: right;\">\n",
              "      <th></th>\n",
              "      <th>0</th>\n",
              "    </tr>\n",
              "  </thead>\n",
              "  <tbody>\n",
              "    <tr>\n",
              "      <th>Um</th>\n",
              "      <td>-2.641373e+06</td>\n",
              "    </tr>\n",
              "    <tr>\n",
              "      <th>Avg. Area Income</th>\n",
              "      <td>2.161763e+01</td>\n",
              "    </tr>\n",
              "    <tr>\n",
              "      <th>Avg. Area House Age</th>\n",
              "      <td>1.652211e+05</td>\n",
              "    </tr>\n",
              "    <tr>\n",
              "      <th>Avg. Area Number of Rooms</th>\n",
              "      <td>1.214054e+05</td>\n",
              "    </tr>\n",
              "    <tr>\n",
              "      <th>Avg. Area Number of Bedrooms</th>\n",
              "      <td>1.318719e+03</td>\n",
              "    </tr>\n",
              "    <tr>\n",
              "      <th>Area Population</th>\n",
              "      <td>1.522520e+01</td>\n",
              "    </tr>\n",
              "  </tbody>\n",
              "</table>\n",
              "</div>"
            ],
            "text/plain": [
              "                                         0\n",
              "Um                           -2.641373e+06\n",
              "Avg. Area Income              2.161763e+01\n",
              "Avg. Area House Age           1.652211e+05\n",
              "Avg. Area Number of Rooms     1.214054e+05\n",
              "Avg. Area Number of Bedrooms  1.318719e+03\n",
              "Area Population               1.522520e+01"
            ]
          },
          "metadata": {
            "tags": []
          },
          "execution_count": 72
        }
      ]
    },
    {
      "cell_type": "markdown",
      "metadata": {
        "id": "Z92GTrUt-WB7"
      },
      "source": [
        "Essa tabela mostra claramente como alguns fatores influenciam mais no resultado do preço do que outros.\n",
        "\n",
        "Por exemplo, se a Avg Area House Age aumentar em um ponto, o preço aumenta em aproximadamente 50000. Por outro lado, se o Avg. Area Income aumentar uma unidade, o preço só aumenta em aproximadamente 10."
      ]
    },
    {
      "cell_type": "markdown",
      "metadata": {
        "id": "8hG5jv2-BPeX"
      },
      "source": [
        "## **Avaliação modelo**\n",
        "\n",
        "Vamos avaliar o modelo ao verificar os coeficientes e como podemos interpretá-los."
      ]
    },
    {
      "cell_type": "markdown",
      "metadata": {
        "id": "Vfbb549MBPe1"
      },
      "source": [
        "## **Métricas de avaliação de regressão**\n",
        "\n",
        "\n",
        "Aqui estão três métricas de avaliação comuns para problemas de regressão:\n",
        "\n",
        "**Mean absolute error** (erro absoluto médio) (MAE) é a média do valor absoluto dos erros:\n",
        "\n",
        "$$\\frac 1n\\sum_{i=1}^n|y_i-\\hat{y}_i|$$\n",
        "\n",
        "**Mean Squared Error** (erro médio quadrático) (MSE) é a média dos erros quadrados:\n",
        "\n",
        "$$\\frac 1n\\sum_{i=1}^n(y_i-\\hat{y}_i)^2$$\n",
        "\n",
        "**Root Mean Square Error** (raiz do erro quadrático médio) (RMSE) é a raiz quadrada da média dos erros quadrados:\n",
        "\n",
        "$$\\sqrt{\\frac 1n\\sum_{i=1}^n(y_i-\\hat{y}_i)^2}$$\n",
        "\n",
        "Comparando estas métricas:\n",
        "\n",
        "- **MAE** é o mais fácil de entender, porque é o erro médio.\n",
        "- **MSE** é mais popular que o MAE, porque a MSE \"puniria\" erros maiores, o que tende a ser útil no mundo real.\n",
        "- **RMSE** é ainda mais popular do que MSE, porque o RMSE é interpretável nas unidades \"y\".\n",
        "\n",
        "Todas estas são **funções de perda**, porque queremos minimizá-las."
      ]
    },
    {
      "cell_type": "code",
      "metadata": {
        "id": "S7Pfcbz3EtZN",
        "outputId": "7fe3782b-e7e0-4878-9b2c-7df91067c8a6",
        "colab": {
          "base_uri": "https://localhost:8080/",
          "height": 34
        }
      },
      "source": [
        "#Score do modelo utilizando RMSE:\n",
        "print(f\"Score: {lr.score(X_test, y_test)}\")"
      ],
      "execution_count": null,
      "outputs": [
        {
          "output_type": "stream",
          "text": [
            "Score: 100842.08231648512\n"
          ],
          "name": "stdout"
        }
      ]
    },
    {
      "cell_type": "markdown",
      "metadata": {
        "id": "fgU6l1OL925w"
      },
      "source": [
        "## **Distância Euclidiana**\n",
        "\n",
        "A distância euclidiana por definição é a distância entre dois pontos num espaço euclidiano de *n* dimensões, ela é dada pelo comprimento do segmento de reta que ligam estes pontos. Este conceito pode ser usado também sobre a distância entre um ponto e uma reta, assim, o segmento ligante deve conter um ângulo de 90º.\n",
        "\n",
        "A distância é calculada por repetidas aplicações do _Teorema de Pitágoras_ e extende-se a _n_ dimensões:\n",
        "\n",
        "$$d(p, q) = \\sqrt{\\sum_{i=1}^n(p_i-q_i)^2}$$"
      ]
    },
    {
      "cell_type": "markdown",
      "metadata": {
        "id": "MiCQMwAkDF_k"
      },
      "source": [
        "Note que o tópico **Métricas de avaliação de regressão** utiliza deste conceito geométrico, assim, as métricas apresentadas podem ser reescritas como média das distâncias calculadas:\n",
        "\n",
        "\n",
        "**Mean Squared Error** (MSE):\n",
        "\n",
        "$$\\frac 1n d(y, \\hat{y})^2$$\n",
        "\n",
        "**Root Mean Square Error** (RMSE):\n",
        "\n",
        "$$\\frac{1}{\\sqrt{n}} d(y, \\hat{y})$$"
      ]
    },
    {
      "cell_type": "markdown",
      "metadata": {
        "id": "DJptNwGNAs-J"
      },
      "source": [
        "Portanto, vemos que a medida de erro que utilizamos nos ajuda a diminuir a distância média entre a predição e o valor real."
      ]
    },
    {
      "cell_type": "markdown",
      "metadata": {
        "id": "0ToiEj5vPgj4"
      },
      "source": [
        "# **Visualização do comportamento linear**\n",
        "Assumindo linearidade, podemos observar o comportamento da predição do modelo plotando os pontos em um grafico de **Valor real X Valor predito** e ver se os pontos estão próximos a uma reta, assim, caracterizando uma regressão linear bem sucedida. Além disso, podemos mostrar a distribuição da diferença entre os valores reais e os previstos!"
      ]
    },
    {
      "cell_type": "code",
      "metadata": {
        "id": "nfFpBFZbOJty"
      },
      "source": [
        "import matplotlib.pyplot as plt \n",
        "import seaborn as sns\n",
        "\n",
        "sns.set_style('darkgrid')\n",
        "sns.set_palette('cubehelix')\n",
        "%matplotlib inline"
      ],
      "execution_count": null,
      "outputs": []
    },
    {
      "cell_type": "code",
      "metadata": {
        "id": "0nRRPy0_-ya_"
      },
      "source": [
        "y_pred = lr.predict(X_test)"
      ],
      "execution_count": null,
      "outputs": []
    },
    {
      "cell_type": "code",
      "metadata": {
        "id": "EmMpPqtRVIlS",
        "outputId": "05b7acdc-a25c-4d35-c28c-da60abdc32a6",
        "colab": {
          "base_uri": "https://localhost:8080/",
          "height": 347
        }
      },
      "source": [
        "sns.distplot(y_test - y_pred)"
      ],
      "execution_count": null,
      "outputs": [
        {
          "output_type": "stream",
          "text": [
            "/usr/local/lib/python3.6/dist-packages/seaborn/distributions.py:2551: FutureWarning: `distplot` is a deprecated function and will be removed in a future version. Please adapt your code to use either `displot` (a figure-level function with similar flexibility) or `histplot` (an axes-level function for histograms).\n",
            "  warnings.warn(msg, FutureWarning)\n"
          ],
          "name": "stderr"
        },
        {
          "output_type": "execute_result",
          "data": {
            "text/plain": [
              "<matplotlib.axes._subplots.AxesSubplot at 0x7f2005803048>"
            ]
          },
          "metadata": {
            "tags": []
          },
          "execution_count": 76
        },
        {
          "output_type": "display_data",
          "data": {
            "image/png": "[encoded data removed]",
            "text/plain": [
              "<Figure size 432x288 with 1 Axes>"
            ]
          },
          "metadata": {
            "tags": [],
            "needs_background": "light"
          }
        }
      ]
    },
    {
      "cell_type": "code",
      "metadata": {
        "id": "oypNLDmH-6_g",
        "outputId": "0e77cfdd-2b08-49ee-fab4-0cebbaeab7ec",
        "colab": {
          "base_uri": "https://localhost:8080/",
          "height": 255
        }
      },
      "source": [
        "all = pd.DataFrame({'y_pred': y_pred,\n",
        "                    'y_test': y_test})\n",
        "\n",
        "print(all)"
      ],
      "execution_count": null,
      "outputs": [
        {
          "output_type": "stream",
          "text": [
            "            y_pred        y_test\n",
            "0     1.258935e+06  1.251689e+06\n",
            "1     8.226946e+05  8.730483e+05\n",
            "2     1.742214e+06  1.696978e+06\n",
            "3     9.729370e+05  1.063964e+06\n",
            "4     9.945460e+05  9.487883e+05\n",
            "...            ...           ...\n",
            "1495  7.555650e+05  7.043759e+05\n",
            "1496  1.168110e+06  1.254938e+06\n",
            "1497  1.452641e+06  1.434324e+06\n",
            "1498  6.457971e+05  5.340775e+05\n",
            "1499  1.364944e+06  1.427202e+06\n",
            "\n",
            "[1500 rows x 2 columns]\n"
          ],
          "name": "stdout"
        }
      ]
    },
    {
      "cell_type": "code",
      "metadata": {
        "id": "OY4ndoVwBuSh",
        "outputId": "8df74884-793f-429c-d661-ed4fea7ee8db",
        "colab": {
          "base_uri": "https://localhost:8080/",
          "height": 441
        }
      },
      "source": [
        "sns.jointplot(data = all,\n",
        "              x = 'y_pred',\n",
        "              y = 'y_test',\n",
        "              kind = 'reg')\n",
        "\n",
        "plt.show()"
      ],
      "execution_count": null,
      "outputs": [
        {
          "output_type": "display_data",
          "data": {
            "image/png": "[encoded data removed]",
            "text/plain": [
              "<Figure size 432x432 with 3 Axes>"
            ]
          },
          "metadata": {
            "tags": [],
            "needs_background": "light"
          }
        }
      ]
    },
    {
      "cell_type": "code",
      "metadata": {
        "id": "g_izjCL1-ceM",
        "outputId": "786e9221-574a-48be-949f-f68974272fb9",
        "colab": {
          "base_uri": "https://localhost:8080/",
          "height": 371
        }
      },
      "source": [
        "sns.lmplot(x = 'y_pred',\n",
        "           y = 'y_test',\n",
        "           markers = '+',\n",
        "           data = all)\n",
        "\n",
        "plt.show()"
      ],
      "execution_count": null,
      "outputs": [
        {
          "output_type": "display_data",
          "data": {
            "image/png": "[encoded data removed]",
            "text/plain": [
              "<Figure size 360x360 with 1 Axes>"
            ]
          },
          "metadata": {
            "tags": [],
            "needs_background": "light"
          }
        }
      ]
    }
  ]
}